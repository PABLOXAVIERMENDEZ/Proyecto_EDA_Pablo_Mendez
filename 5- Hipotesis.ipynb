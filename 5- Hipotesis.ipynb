{
 "cells": [
  {
   "cell_type": "markdown",
   "metadata": {},
   "source": [
    "###  **1 El principal motivo de contactos, representa al menos un 30% del volumen total y además este representa mas del 40% del tiempo opertativo insumido**"
   ]
  },
  {
   "cell_type": "code",
   "execution_count": 3,
   "metadata": {},
   "outputs": [],
   "source": [
    "import matplotlib.pyplot as plt\n",
    "import pandas as pd\n",
    "import numpy as np\n",
    "import seaborn as sns\n"
   ]
  },
  {
   "cell_type": "markdown",
   "metadata": {},
   "source": [
    "###  **1) El principal motivo de contactos, representa al menos un 25% del volumen total y además este representa mas del 35% del tiempo opertativo insumido**\n",
    "\n",
    "**H0**: No hay evidencia significativa en el volumen de los datos y la representacion de mas del 35% del tiempo opertativo insumido.\n",
    "\n",
    "**H1**: Existe una diferencia significativa que el volumen los datos y la representacion de mas del 35% del tiempo opertativo insumido .\n",
    "\n",
    "### **2) El equipo de agentes que atiende en el turno de la mañana es un 15 % mas eficiente que el de la tarde en terminos de agilidad y cantidad de casos resueltos**\n",
    "\n",
    "### **3) Los niveles de satisfación mas bajos corresponden son directamente atribuibles al no resolucion del caso y a una espera superior al 15% del promedio de espera**\n",
    "\n",
    "### **4) El 70% de los casos relacionados a los pagos se dan del 25 al 05 de cada mes  y son resueltos**\n",
    "\n",
    "**H0**: No hay evidencia significativa de que a las interaciones relacionadas a pagos se dan del 25 al 05 de cada mes  y son resueltos.\n",
    "\n",
    "**H1**: Existe una diferencia significativa en que a las interaciones relacionadas a pagos se dan del 25 al 05 de cada mes  y son resueltos .\n",
    "\n",
    "### **5) De reducirce un 10% de los contactos del principal motivo se generaria un eficiencia en tiempos operativos de mas de un 20%**\n"
   ]
  },
  {
   "cell_type": "code",
   "execution_count": null,
   "metadata": {},
   "outputs": [],
   "source": [
    "#h1 \n",
    "\n"
   ]
  }
 ],
 "metadata": {
  "kernelspec": {
   "display_name": ".venv",
   "language": "python",
   "name": "python3"
  },
  "language_info": {
   "codemirror_mode": {
    "name": "ipython",
    "version": 3
   },
   "file_extension": ".py",
   "mimetype": "text/x-python",
   "name": "python",
   "nbconvert_exporter": "python",
   "pygments_lexer": "ipython3",
   "version": "3.11.5"
  }
 },
 "nbformat": 4,
 "nbformat_minor": 2
}
