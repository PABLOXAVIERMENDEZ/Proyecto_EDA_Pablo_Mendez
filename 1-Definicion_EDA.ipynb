{
 "cells": [
  {
   "cell_type": "markdown",
   "metadata": {},
   "source": [
    "![imagen](./img/ejercicios.png)"
   ]
  },
  {
   "cell_type": "markdown",
   "metadata": {},
   "source": [
    "# ____INFORMACIÓN DEL PROYECTO____"
   ]
  },
  {
   "cell_type": "markdown",
   "metadata": {},
   "source": [
    "### __TÍTULO__"
   ]
  },
  {
   "cell_type": "markdown",
   "metadata": {},
   "source": [
    "### **Optimización de modelos operativos en Telecom: Análisis Profundo de los contactos para Mejorar el CX**\n"
   ]
  },
  {
   "cell_type": "markdown",
   "metadata": {},
   "source": [
    "### TEMA"
   ]
  },
  {
   "cell_type": "markdown",
   "metadata": {},
   "source": [
    "##### **En este proyecto, llevaremos a cabo un análisis exhaustivo de las interacciones de los clientes con Telecom. Nuestro objetivo es descubrir insights a partir de un análisis profundo de los datos, correlacionando los mismo buscamos desarrollar conclusiones significativas, que no solo logren esclarecer  patrones de comportamiento de los clientes, sino que también proporcionen orientación para mejorar la experiencia del cliente de manera significativa.**"
   ]
  },
  {
   "cell_type": "markdown",
   "metadata": {},
   "source": [
    "### HIPÓTESIS"
   ]
  },
  {
   "cell_type": "markdown",
   "metadata": {},
   "source": [
    "Define aquí lo que será la hipótesis de tu proyecto.\n",
    "Puede que tengas más de una, pero tu proyecto lo harás teniendo una principal hipótesis."
   ]
  },
  {
   "cell_type": "markdown",
   "metadata": {},
   "source": [
    "### **El principal motivo de contactos, representa al menos un 30% del volumen total y además este representa mas del 40% del tiempo opertativo insumido**\n",
    "\n",
    "### **El equipo de agentes que atiende en el turno de la mañana es un 15 % mas eficiente que el de la tarde en terminos de agilidad y cantidad de casos resueltos**\n",
    "\n",
    "### **Los niveles de satisfación mas bajos corresponden son directamente atribuibles al no resolucion del caso y a una espera superior al 15% del promedio de espera**\n",
    "\n",
    "### **El 70% de los casos relacionados a los pagos se dan del 25 al 05 de cada mes  y son resueltos**\n",
    "\n",
    "### **De reducirce un 10% de los contactos del principal motivo se generaria un eficiencia en tiempos operativos de mas de un 20%**\n"
   ]
  },
  {
   "cell_type": "markdown",
   "metadata": {},
   "source": [
    "## OBTENCIÓN DE LOS DATOS"
   ]
  },
  {
   "cell_type": "markdown",
   "metadata": {},
   "source": [
    "### DATASETS Y FUENTES ALTERNATIVAS DE DATOS"
   ]
  },
  {
   "cell_type": "markdown",
   "metadata": {},
   "source": [
    "Incluye aquí una breve descripción del dataset o datasets de los que partirás para poder evaluar tu hipótesis. <br>\n",
    "También incluye el origen de estos datos y su fuente."
   ]
  },
  {
   "cell_type": "markdown",
   "metadata": {},
   "source": [
    " ### Mi BBDD 5.000.- interacciones es obtenida desde una fuente pública:\n",
    "\n",
    " https://www.kaggle.com/datasets/datazng/telecom-company-churn-rate-call-center-data"
   ]
  },
  {
   "cell_type": "markdown",
   "metadata": {},
   "source": [
    "Muestra mediante un head() los principales datasets con los que vas a trabajar"
   ]
  },
  {
   "cell_type": "code",
   "execution_count": 1,
   "metadata": {},
   "outputs": [],
   "source": [
    "import pandas as pd"
   ]
  },
  {
   "cell_type": "code",
   "execution_count": 25,
   "metadata": {},
   "outputs": [
    {
     "name": "stdout",
     "output_type": "stream",
     "text": [
      "     Call Id    Agent        Date      Time              Topic Answered (Y/N)  \\\n",
      "0     ID0033    Diane  2021-01-01  13:33:36  Technical Support              Y   \n",
      "1     ID0056      Dan  2021-01-01  17:44:10          Streaming              Y   \n",
      "2     ID0039  Stewart  2021-01-01  14:38:24   Contract related              Y   \n",
      "3     ID0009     Greg  2021-01-01  11:13:55      Admin Support              Y   \n",
      "4     ID0043    Diane  2021-01-01  14:47:02  Technical Support              Y   \n",
      "...      ...      ...         ...       ...                ...            ...   \n",
      "4995  ID4992      Joe  2021-03-31  14:13:55          Streaming              N   \n",
      "4996  ID4993      Joe  2021-03-31  14:18:14      Admin Support              N   \n",
      "4997  ID4994     Greg  2021-03-31  14:58:34   Contract related              N   \n",
      "4998  ID4995      Dan  2021-03-31  15:33:07    Payment related              N   \n",
      "4999  ID5000    Diane  2021-03-31  17:39:50   Contract related              N   \n",
      "\n",
      "     Resolved  Speed of answer in seconds AvgTalkDuration  \\\n",
      "0           Y                        57.0        00:06:49   \n",
      "1           Y                        83.0        00:06:45   \n",
      "2           Y                        74.0        00:06:41   \n",
      "3           Y                        15.0        00:06:38   \n",
      "4           Y                        45.0        00:06:21   \n",
      "...       ...                         ...             ...   \n",
      "4995        N                         NaN             NaN   \n",
      "4996        N                         NaN             NaN   \n",
      "4997        N                         NaN             NaN   \n",
      "4998        N                         NaN             NaN   \n",
      "4999        N                         NaN             NaN   \n",
      "\n",
      "      Satisfaction rating  Unnamed: 10 hacer varias conclusiones  \n",
      "0                     3.0          NaN         ¿tal incidencia ?  \n",
      "1                     4.0          NaN                       NaN  \n",
      "2                     1.0          NaN                       NaN  \n",
      "3                     4.0          NaN                       NaN  \n",
      "4                     3.0          NaN                       NaN  \n",
      "...                   ...          ...                       ...  \n",
      "4995                  NaN          NaN                       NaN  \n",
      "4996                  NaN          NaN                       NaN  \n",
      "4997                  NaN          NaN                       NaN  \n",
      "4998                  NaN          NaN                       NaN  \n",
      "4999                  NaN          NaN                       NaN  \n",
      "\n",
      "[5000 rows x 12 columns]\n"
     ]
    }
   ],
   "source": [
    "rutaexcel = r\"C:\\\\Users\\\\Lucia\\Desktop\\\\bootcamp\\\\Proyecto_EDA_Pablo_Mendez\\\\Telecom Company Call-Center-Dataset.xlsx\"\n",
    "bbdd = pd.read_excel(rutaexcel)\n",
    "print(bbdd)\n",
    "\n"
   ]
  },
  {
   "cell_type": "code",
   "execution_count": null,
   "metadata": {},
   "outputs": [],
   "source": []
  }
 ],
 "metadata": {
  "interpreter": {
   "hash": "7c77fdb427e7cbc9bc1367dd530fc2b36aacdbbde1ac83c85833b10dfa8b831c"
  },
  "kernelspec": {
   "display_name": "Python 3.7.4 64-bit",
   "language": "python",
   "name": "python3"
  },
  "language_info": {
   "codemirror_mode": {
    "name": "ipython",
    "version": 3
   },
   "file_extension": ".py",
   "mimetype": "text/x-python",
   "name": "python",
   "nbconvert_exporter": "python",
   "pygments_lexer": "ipython3",
   "version": "3.11.6"
  },
  "orig_nbformat": 4
 },
 "nbformat": 4,
 "nbformat_minor": 2
}
