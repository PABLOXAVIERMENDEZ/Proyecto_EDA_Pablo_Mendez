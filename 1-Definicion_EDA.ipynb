{
 "cells": [
  {
   "cell_type": "markdown",
   "metadata": {},
   "source": [
    "![imagen](./img/ejercicios.png)"
   ]
  },
  {
   "cell_type": "markdown",
   "metadata": {},
   "source": [
    "# ____INFORMACIÓN DEL PROYECTO____"
   ]
  },
  {
   "cell_type": "markdown",
   "metadata": {},
   "source": [
    "### __TÍTULO__"
   ]
  },
  {
   "cell_type": "markdown",
   "metadata": {},
   "source": [
    "### **Optimización de modelos operativos en Telecom: Análisis Profundo de los contactos para Mejorar el CX**\n"
   ]
  },
  {
   "cell_type": "markdown",
   "metadata": {},
   "source": [
    "### TEMA"
   ]
  },
  {
   "cell_type": "markdown",
   "metadata": {},
   "source": [
    "##### **En este proyecto, llevaremos a cabo un análisis exhaustivo de las interacciones de los clientes con Telecom. Nuestro objetivo es descubrir insights a partir de un análisis profundo de los datos, correlacionando los mismo buscamos desarrollar conclusiones significativas, que no solo logren esclarecer  patrones de comportamiento de los clientes, sino que también proporcionen orientación para mejorar la experiencia del cliente de manera significativa.**"
   ]
  },
  {
   "cell_type": "markdown",
   "metadata": {},
   "source": [
    "### HIPÓTESIS"
   ]
  },
  {
   "cell_type": "markdown",
   "metadata": {},
   "source": [
    "Define aquí lo que será la hipótesis de tu proyecto.\n",
    "Puede que tengas más de una, pero tu proyecto lo harás teniendo una principal hipótesis."
   ]
  },
  {
   "cell_type": "markdown",
   "metadata": {},
   "source": [
    "###  **1) El principal motivo de contactos, representa al menos un 25% del volumen total y además este representa mas del 35% del tiempo opertativo insumido**\n",
    "\n",
    "### **2) El equipo de agentes que atiende en el turno de la mañana es un 15 % mas eficiente que el de la tarde en terminos de agilidad y cantidad de casos resueltos**\n",
    "\n",
    "### **3) Los niveles de satisfación mas bajos corresponden son directamente atribuibles al no resolucion del caso y a una espera superior al 15% del promedio de espera**\n",
    "\n",
    "### **4) El 70% de los casos relacionados a los pagos se dan del 25 al 05 de cada mes  y son resueltos**\n",
    "\n",
    "### **5) De reducirce un 10% de los contactos del principal motivo se generaria un eficiencia en tiempos operativos de mas de un 20%**\n"
   ]
  },
  {
   "cell_type": "markdown",
   "metadata": {},
   "source": [
    "## OBTENCIÓN DE LOS DATOS"
   ]
  },
  {
   "cell_type": "markdown",
   "metadata": {},
   "source": [
    "### DATASETS Y FUENTES ALTERNATIVAS DE DATOS"
   ]
  },
  {
   "cell_type": "markdown",
   "metadata": {},
   "source": [
    "Incluye aquí una breve descripción del dataset o datasets de los que partirás para poder evaluar tu hipótesis. <br>\n",
    "También incluye el origen de estos datos y su fuente."
   ]
  },
  {
   "cell_type": "markdown",
   "metadata": {},
   "source": [
    " ### Mi BBDD 5.000.- interacciones es obtenida desde una fuente pública:\n",
    "\n",
    " https://www.kaggle.com/datasets/datazng/telecom-company-churn-rate-call-center-data"
   ]
  },
  {
   "cell_type": "markdown",
   "metadata": {},
   "source": [
    "Muestra mediante un head() los principales datasets con los que vas a trabajar"
   ]
  },
  {
   "cell_type": "code",
   "execution_count": 1,
   "metadata": {},
   "outputs": [],
   "source": [
    "import pandas as pd"
   ]
  },
  {
   "cell_type": "code",
   "execution_count": 2,
   "metadata": {},
   "outputs": [
    {
     "data": {
      "text/html": [
       "<div>\n",
       "<style scoped>\n",
       "    .dataframe tbody tr th:only-of-type {\n",
       "        vertical-align: middle;\n",
       "    }\n",
       "\n",
       "    .dataframe tbody tr th {\n",
       "        vertical-align: top;\n",
       "    }\n",
       "\n",
       "    .dataframe thead th {\n",
       "        text-align: right;\n",
       "    }\n",
       "</style>\n",
       "<table border=\"1\" class=\"dataframe\">\n",
       "  <thead>\n",
       "    <tr style=\"text-align: right;\">\n",
       "      <th></th>\n",
       "      <th>Call Id</th>\n",
       "      <th>Agent</th>\n",
       "      <th>Date</th>\n",
       "      <th>Time</th>\n",
       "      <th>Topic</th>\n",
       "      <th>Answered (Y/N)</th>\n",
       "      <th>Resolved</th>\n",
       "      <th>Speed of answer in seconds</th>\n",
       "      <th>AvgTalkDuration</th>\n",
       "      <th>Satisfaction rating</th>\n",
       "    </tr>\n",
       "  </thead>\n",
       "  <tbody>\n",
       "    <tr>\n",
       "      <th>0</th>\n",
       "      <td>ID0033</td>\n",
       "      <td>Diane</td>\n",
       "      <td>2021-01-01</td>\n",
       "      <td>13:33:36</td>\n",
       "      <td>Technical Support</td>\n",
       "      <td>Y</td>\n",
       "      <td>Y</td>\n",
       "      <td>57.0</td>\n",
       "      <td>00:06:49</td>\n",
       "      <td>3.0</td>\n",
       "    </tr>\n",
       "    <tr>\n",
       "      <th>1</th>\n",
       "      <td>ID0056</td>\n",
       "      <td>Dan</td>\n",
       "      <td>2021-01-01</td>\n",
       "      <td>17:44:10</td>\n",
       "      <td>Streaming</td>\n",
       "      <td>Y</td>\n",
       "      <td>Y</td>\n",
       "      <td>83.0</td>\n",
       "      <td>00:06:45</td>\n",
       "      <td>4.0</td>\n",
       "    </tr>\n",
       "    <tr>\n",
       "      <th>2</th>\n",
       "      <td>ID0039</td>\n",
       "      <td>Stewart</td>\n",
       "      <td>2021-01-01</td>\n",
       "      <td>14:38:24</td>\n",
       "      <td>Contract related</td>\n",
       "      <td>Y</td>\n",
       "      <td>Y</td>\n",
       "      <td>74.0</td>\n",
       "      <td>00:06:41</td>\n",
       "      <td>1.0</td>\n",
       "    </tr>\n",
       "    <tr>\n",
       "      <th>3</th>\n",
       "      <td>ID0009</td>\n",
       "      <td>Greg</td>\n",
       "      <td>2021-01-01</td>\n",
       "      <td>11:13:55</td>\n",
       "      <td>Admin Support</td>\n",
       "      <td>Y</td>\n",
       "      <td>Y</td>\n",
       "      <td>15.0</td>\n",
       "      <td>00:06:38</td>\n",
       "      <td>4.0</td>\n",
       "    </tr>\n",
       "    <tr>\n",
       "      <th>4</th>\n",
       "      <td>ID0043</td>\n",
       "      <td>Diane</td>\n",
       "      <td>2021-01-01</td>\n",
       "      <td>14:47:02</td>\n",
       "      <td>Technical Support</td>\n",
       "      <td>Y</td>\n",
       "      <td>Y</td>\n",
       "      <td>45.0</td>\n",
       "      <td>00:06:21</td>\n",
       "      <td>3.0</td>\n",
       "    </tr>\n",
       "    <tr>\n",
       "      <th>...</th>\n",
       "      <td>...</td>\n",
       "      <td>...</td>\n",
       "      <td>...</td>\n",
       "      <td>...</td>\n",
       "      <td>...</td>\n",
       "      <td>...</td>\n",
       "      <td>...</td>\n",
       "      <td>...</td>\n",
       "      <td>...</td>\n",
       "      <td>...</td>\n",
       "    </tr>\n",
       "    <tr>\n",
       "      <th>4995</th>\n",
       "      <td>ID4992</td>\n",
       "      <td>Joe</td>\n",
       "      <td>2021-03-31</td>\n",
       "      <td>14:13:55</td>\n",
       "      <td>Streaming</td>\n",
       "      <td>N</td>\n",
       "      <td>N</td>\n",
       "      <td>NaN</td>\n",
       "      <td>NaN</td>\n",
       "      <td>NaN</td>\n",
       "    </tr>\n",
       "    <tr>\n",
       "      <th>4996</th>\n",
       "      <td>ID4993</td>\n",
       "      <td>Joe</td>\n",
       "      <td>2021-03-31</td>\n",
       "      <td>14:18:14</td>\n",
       "      <td>Admin Support</td>\n",
       "      <td>N</td>\n",
       "      <td>N</td>\n",
       "      <td>NaN</td>\n",
       "      <td>NaN</td>\n",
       "      <td>NaN</td>\n",
       "    </tr>\n",
       "    <tr>\n",
       "      <th>4997</th>\n",
       "      <td>ID4994</td>\n",
       "      <td>Greg</td>\n",
       "      <td>2021-03-31</td>\n",
       "      <td>14:58:34</td>\n",
       "      <td>Contract related</td>\n",
       "      <td>N</td>\n",
       "      <td>N</td>\n",
       "      <td>NaN</td>\n",
       "      <td>NaN</td>\n",
       "      <td>NaN</td>\n",
       "    </tr>\n",
       "    <tr>\n",
       "      <th>4998</th>\n",
       "      <td>ID4995</td>\n",
       "      <td>Dan</td>\n",
       "      <td>2021-03-31</td>\n",
       "      <td>15:33:07</td>\n",
       "      <td>Payment related</td>\n",
       "      <td>N</td>\n",
       "      <td>N</td>\n",
       "      <td>NaN</td>\n",
       "      <td>NaN</td>\n",
       "      <td>NaN</td>\n",
       "    </tr>\n",
       "    <tr>\n",
       "      <th>4999</th>\n",
       "      <td>ID5000</td>\n",
       "      <td>Diane</td>\n",
       "      <td>2021-03-31</td>\n",
       "      <td>17:39:50</td>\n",
       "      <td>Contract related</td>\n",
       "      <td>N</td>\n",
       "      <td>N</td>\n",
       "      <td>NaN</td>\n",
       "      <td>NaN</td>\n",
       "      <td>NaN</td>\n",
       "    </tr>\n",
       "  </tbody>\n",
       "</table>\n",
       "<p>5000 rows × 10 columns</p>\n",
       "</div>"
      ],
      "text/plain": [
       "     Call Id    Agent        Date      Time              Topic Answered (Y/N)  \\\n",
       "0     ID0033    Diane  2021-01-01  13:33:36  Technical Support              Y   \n",
       "1     ID0056      Dan  2021-01-01  17:44:10          Streaming              Y   \n",
       "2     ID0039  Stewart  2021-01-01  14:38:24   Contract related              Y   \n",
       "3     ID0009     Greg  2021-01-01  11:13:55      Admin Support              Y   \n",
       "4     ID0043    Diane  2021-01-01  14:47:02  Technical Support              Y   \n",
       "...      ...      ...         ...       ...                ...            ...   \n",
       "4995  ID4992      Joe  2021-03-31  14:13:55          Streaming              N   \n",
       "4996  ID4993      Joe  2021-03-31  14:18:14      Admin Support              N   \n",
       "4997  ID4994     Greg  2021-03-31  14:58:34   Contract related              N   \n",
       "4998  ID4995      Dan  2021-03-31  15:33:07    Payment related              N   \n",
       "4999  ID5000    Diane  2021-03-31  17:39:50   Contract related              N   \n",
       "\n",
       "     Resolved  Speed of answer in seconds AvgTalkDuration  Satisfaction rating  \n",
       "0           Y                        57.0        00:06:49                  3.0  \n",
       "1           Y                        83.0        00:06:45                  4.0  \n",
       "2           Y                        74.0        00:06:41                  1.0  \n",
       "3           Y                        15.0        00:06:38                  4.0  \n",
       "4           Y                        45.0        00:06:21                  3.0  \n",
       "...       ...                         ...             ...                  ...  \n",
       "4995        N                         NaN             NaN                  NaN  \n",
       "4996        N                         NaN             NaN                  NaN  \n",
       "4997        N                         NaN             NaN                  NaN  \n",
       "4998        N                         NaN             NaN                  NaN  \n",
       "4999        N                         NaN             NaN                  NaN  \n",
       "\n",
       "[5000 rows x 10 columns]"
      ]
     },
     "execution_count": 2,
     "metadata": {},
     "output_type": "execute_result"
    }
   ],
   "source": [
    "rutaexcel = r\"C:\\\\Users\\\\Lucia\\Desktop\\\\bootcamp\\\\Proyecto_EDA_Pablo_Mendez\\\\Telecom Company Call-Center-Dataset.xlsx\"\n",
    "bbdd = pd.read_excel(rutaexcel)\n",
    "bbdd\n",
    "\n"
   ]
  },
  {
   "cell_type": "code",
   "execution_count": null,
   "metadata": {},
   "outputs": [],
   "source": []
  }
 ],
 "metadata": {
  "interpreter": {
   "hash": "7c77fdb427e7cbc9bc1367dd530fc2b36aacdbbde1ac83c85833b10dfa8b831c"
  },
  "kernelspec": {
   "display_name": "Python 3.7.4 64-bit",
   "language": "python",
   "name": "python3"
  },
  "language_info": {
   "codemirror_mode": {
    "name": "ipython",
    "version": 3
   },
   "file_extension": ".py",
   "mimetype": "text/x-python",
   "name": "python",
   "nbconvert_exporter": "python",
   "pygments_lexer": "ipython3",
   "version": "3.11.5"
  },
  "orig_nbformat": 4
 },
 "nbformat": 4,
 "nbformat_minor": 2
}
