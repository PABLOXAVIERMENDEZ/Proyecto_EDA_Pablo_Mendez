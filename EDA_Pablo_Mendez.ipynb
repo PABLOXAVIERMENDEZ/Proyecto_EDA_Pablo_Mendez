{
 "cells": [
  {
   "cell_type": "markdown",
   "metadata": {},
   "source": [
    "# **1-DEFINICIÓN EDA**"
   ]
  },
  {
   "cell_type": "markdown",
   "metadata": {},
   "source": [
    "## ____INFORMACIÓN DEL PROYECTO____\n",
    "\n",
    "### **Optimización de modelos operativos en Telecom: Análisis Profundo de los contactos para Mejorar el CX**\n",
    "\n",
    "### TEMA\n",
    "\n",
    "##### **En este proyecto, llevaremos a cabo un análisis exhaustivo de las interacciones de los clientes con Telecom. Nuestro objetivo es descubrir insights a partir de un análisis profundo de los datos, correlacionando los mismo buscamos desarrollar conclusiones significativas, que no solo logren esclarecer  patrones de comportamiento de los clientes, sino que también proporcionen orientación para mejorar la experiencia del cliente de manera significativa.**"
   ]
  },
  {
   "cell_type": "markdown",
   "metadata": {},
   "source": [
    "## **OBTENCIÓN DE LOS DATOS**\n",
    "\n",
    "### DATASETS Y FUENTES ALTERNATIVAS DE DATOS\n",
    "\n",
    "### Mi BBDD 5.000.- interacciones es obtenida desde una fuente pública:\n",
    "\n",
    " https://www.kaggle.com/datasets/datazng/telecom-company-churn-rate-call-center-data"
   ]
  },
  {
   "cell_type": "markdown",
   "metadata": {},
   "source": [
    "# **2-ANÁLISIS EXPLOTATORIO DE DATOS**"
   ]
  },
  {
   "cell_type": "markdown",
   "metadata": {},
   "source": [
    "## Importación de librerias"
   ]
  },
  {
   "cell_type": "code",
   "execution_count": 3,
   "metadata": {},
   "outputs": [],
   "source": [
    "import matplotlib.pyplot as plt\n",
    "import pandas as pd\n",
    "import numpy as np\n",
    "import seaborn"
   ]
  },
  {
   "cell_type": "code",
   "execution_count": 4,
   "metadata": {},
   "outputs": [
    {
     "data": {
      "text/html": [
       "<div>\n",
       "<style scoped>\n",
       "    .dataframe tbody tr th:only-of-type {\n",
       "        vertical-align: middle;\n",
       "    }\n",
       "\n",
       "    .dataframe tbody tr th {\n",
       "        vertical-align: top;\n",
       "    }\n",
       "\n",
       "    .dataframe thead th {\n",
       "        text-align: right;\n",
       "    }\n",
       "</style>\n",
       "<table border=\"1\" class=\"dataframe\">\n",
       "  <thead>\n",
       "    <tr style=\"text-align: right;\">\n",
       "      <th></th>\n",
       "      <th>Call Id</th>\n",
       "      <th>Agent</th>\n",
       "      <th>Date</th>\n",
       "      <th>Time</th>\n",
       "      <th>Topic</th>\n",
       "      <th>Answered (Y/N)</th>\n",
       "      <th>Resolved</th>\n",
       "      <th>Speed of answer in seconds</th>\n",
       "      <th>AvgTalkDuration</th>\n",
       "      <th>Satisfaction rating</th>\n",
       "    </tr>\n",
       "  </thead>\n",
       "  <tbody>\n",
       "    <tr>\n",
       "      <th>0</th>\n",
       "      <td>ID0033</td>\n",
       "      <td>Diane</td>\n",
       "      <td>2021-01-01</td>\n",
       "      <td>13:33:36</td>\n",
       "      <td>Technical Support</td>\n",
       "      <td>Y</td>\n",
       "      <td>Y</td>\n",
       "      <td>57.0</td>\n",
       "      <td>00:06:49</td>\n",
       "      <td>3.0</td>\n",
       "    </tr>\n",
       "    <tr>\n",
       "      <th>1</th>\n",
       "      <td>ID0056</td>\n",
       "      <td>Dan</td>\n",
       "      <td>2021-01-01</td>\n",
       "      <td>17:44:10</td>\n",
       "      <td>Streaming</td>\n",
       "      <td>Y</td>\n",
       "      <td>Y</td>\n",
       "      <td>83.0</td>\n",
       "      <td>00:06:45</td>\n",
       "      <td>4.0</td>\n",
       "    </tr>\n",
       "    <tr>\n",
       "      <th>2</th>\n",
       "      <td>ID0039</td>\n",
       "      <td>Stewart</td>\n",
       "      <td>2021-01-01</td>\n",
       "      <td>14:38:24</td>\n",
       "      <td>Contract related</td>\n",
       "      <td>Y</td>\n",
       "      <td>Y</td>\n",
       "      <td>74.0</td>\n",
       "      <td>00:06:41</td>\n",
       "      <td>1.0</td>\n",
       "    </tr>\n",
       "    <tr>\n",
       "      <th>3</th>\n",
       "      <td>ID0009</td>\n",
       "      <td>Greg</td>\n",
       "      <td>2021-01-01</td>\n",
       "      <td>11:13:55</td>\n",
       "      <td>Admin Support</td>\n",
       "      <td>Y</td>\n",
       "      <td>Y</td>\n",
       "      <td>15.0</td>\n",
       "      <td>00:06:38</td>\n",
       "      <td>4.0</td>\n",
       "    </tr>\n",
       "    <tr>\n",
       "      <th>4</th>\n",
       "      <td>ID0043</td>\n",
       "      <td>Diane</td>\n",
       "      <td>2021-01-01</td>\n",
       "      <td>14:47:02</td>\n",
       "      <td>Technical Support</td>\n",
       "      <td>Y</td>\n",
       "      <td>Y</td>\n",
       "      <td>45.0</td>\n",
       "      <td>00:06:21</td>\n",
       "      <td>3.0</td>\n",
       "    </tr>\n",
       "  </tbody>\n",
       "</table>\n",
       "</div>"
      ],
      "text/plain": [
       "  Call Id    Agent        Date      Time              Topic Answered (Y/N)  \\\n",
       "0  ID0033    Diane  2021-01-01  13:33:36  Technical Support              Y   \n",
       "1  ID0056      Dan  2021-01-01  17:44:10          Streaming              Y   \n",
       "2  ID0039  Stewart  2021-01-01  14:38:24   Contract related              Y   \n",
       "3  ID0009     Greg  2021-01-01  11:13:55      Admin Support              Y   \n",
       "4  ID0043    Diane  2021-01-01  14:47:02  Technical Support              Y   \n",
       "\n",
       "  Resolved  Speed of answer in seconds AvgTalkDuration  Satisfaction rating  \n",
       "0        Y                        57.0        00:06:49                  3.0  \n",
       "1        Y                        83.0        00:06:45                  4.0  \n",
       "2        Y                        74.0        00:06:41                  1.0  \n",
       "3        Y                        15.0        00:06:38                  4.0  \n",
       "4        Y                        45.0        00:06:21                  3.0  "
      ]
     },
     "execution_count": 4,
     "metadata": {},
     "output_type": "execute_result"
    }
   ],
   "source": [
    "rutaexcel = r\"C:\\\\Users\\\\Lucia\\Desktop\\\\bootcamp\\\\Proyecto_EDA_Pablo_Mendez\\\\Telecom Company Call-Center-Dataset.xlsx\"\n",
    "bbdd = pd.read_excel(rutaexcel)\n",
    "bbdd.head(5)"
   ]
  },
  {
   "cell_type": "code",
   "execution_count": 5,
   "metadata": {},
   "outputs": [
    {
     "data": {
      "text/plain": [
       "Index(['Call Id', 'Agent', 'Date', 'Time', 'Topic', 'Answered (Y/N)',\n",
       "       'Resolved', 'Speed of answer in seconds', 'AvgTalkDuration',\n",
       "       'Satisfaction rating'],\n",
       "      dtype='object')"
      ]
     },
     "execution_count": 5,
     "metadata": {},
     "output_type": "execute_result"
    }
   ],
   "source": [
    "bbdd.columns"
   ]
  },
  {
   "cell_type": "code",
   "execution_count": 6,
   "metadata": {},
   "outputs": [
    {
     "data": {
      "text/plain": [
       "(5000, 10)"
      ]
     },
     "execution_count": 6,
     "metadata": {},
     "output_type": "execute_result"
    }
   ],
   "source": [
    "bbdd.shape"
   ]
  },
  {
   "cell_type": "code",
   "execution_count": 7,
   "metadata": {},
   "outputs": [
    {
     "name": "stdout",
     "output_type": "stream",
     "text": [
      "<class 'pandas.core.frame.DataFrame'>\n",
      "RangeIndex: 5000 entries, 0 to 4999\n",
      "Data columns (total 10 columns):\n",
      " #   Column                      Non-Null Count  Dtype  \n",
      "---  ------                      --------------  -----  \n",
      " 0   Call Id                     5000 non-null   object \n",
      " 1   Agent                       5000 non-null   object \n",
      " 2   Date                        5000 non-null   object \n",
      " 3   Time                        5000 non-null   object \n",
      " 4   Topic                       5000 non-null   object \n",
      " 5   Answered (Y/N)              5000 non-null   object \n",
      " 6   Resolved                    5000 non-null   object \n",
      " 7   Speed of answer in seconds  4054 non-null   float64\n",
      " 8   AvgTalkDuration             4054 non-null   object \n",
      " 9   Satisfaction rating         4054 non-null   float64\n",
      "dtypes: float64(2), object(8)\n",
      "memory usage: 390.8+ KB\n"
     ]
    }
   ],
   "source": [
    "bbdd.info()"
   ]
  },
  {
   "cell_type": "code",
   "execution_count": 8,
   "metadata": {},
   "outputs": [
    {
     "data": {
      "text/html": [
       "<div>\n",
       "<style scoped>\n",
       "    .dataframe tbody tr th:only-of-type {\n",
       "        vertical-align: middle;\n",
       "    }\n",
       "\n",
       "    .dataframe tbody tr th {\n",
       "        vertical-align: top;\n",
       "    }\n",
       "\n",
       "    .dataframe thead th {\n",
       "        text-align: right;\n",
       "    }\n",
       "</style>\n",
       "<table border=\"1\" class=\"dataframe\">\n",
       "  <thead>\n",
       "    <tr style=\"text-align: right;\">\n",
       "      <th></th>\n",
       "      <th>Speed of answer in seconds</th>\n",
       "      <th>Satisfaction rating</th>\n",
       "    </tr>\n",
       "  </thead>\n",
       "  <tbody>\n",
       "    <tr>\n",
       "      <th>count</th>\n",
       "      <td>4054.000000</td>\n",
       "      <td>4054.000000</td>\n",
       "    </tr>\n",
       "    <tr>\n",
       "      <th>mean</th>\n",
       "      <td>67.520720</td>\n",
       "      <td>3.403552</td>\n",
       "    </tr>\n",
       "    <tr>\n",
       "      <th>std</th>\n",
       "      <td>33.592872</td>\n",
       "      <td>1.212220</td>\n",
       "    </tr>\n",
       "    <tr>\n",
       "      <th>min</th>\n",
       "      <td>10.000000</td>\n",
       "      <td>1.000000</td>\n",
       "    </tr>\n",
       "    <tr>\n",
       "      <th>25%</th>\n",
       "      <td>39.000000</td>\n",
       "      <td>3.000000</td>\n",
       "    </tr>\n",
       "    <tr>\n",
       "      <th>50%</th>\n",
       "      <td>68.000000</td>\n",
       "      <td>3.000000</td>\n",
       "    </tr>\n",
       "    <tr>\n",
       "      <th>75%</th>\n",
       "      <td>97.000000</td>\n",
       "      <td>4.000000</td>\n",
       "    </tr>\n",
       "    <tr>\n",
       "      <th>max</th>\n",
       "      <td>125.000000</td>\n",
       "      <td>5.000000</td>\n",
       "    </tr>\n",
       "  </tbody>\n",
       "</table>\n",
       "</div>"
      ],
      "text/plain": [
       "       Speed of answer in seconds  Satisfaction rating\n",
       "count                 4054.000000          4054.000000\n",
       "mean                    67.520720             3.403552\n",
       "std                     33.592872             1.212220\n",
       "min                     10.000000             1.000000\n",
       "25%                     39.000000             3.000000\n",
       "50%                     68.000000             3.000000\n",
       "75%                     97.000000             4.000000\n",
       "max                    125.000000             5.000000"
      ]
     },
     "execution_count": 8,
     "metadata": {},
     "output_type": "execute_result"
    }
   ],
   "source": [
    "bbdd.describe()"
   ]
  },
  {
   "cell_type": "code",
   "execution_count": 9,
   "metadata": {},
   "outputs": [
    {
     "data": {
      "text/html": [
       "<div>\n",
       "<style scoped>\n",
       "    .dataframe tbody tr th:only-of-type {\n",
       "        vertical-align: middle;\n",
       "    }\n",
       "\n",
       "    .dataframe tbody tr th {\n",
       "        vertical-align: top;\n",
       "    }\n",
       "\n",
       "    .dataframe thead th {\n",
       "        text-align: right;\n",
       "    }\n",
       "</style>\n",
       "<table border=\"1\" class=\"dataframe\">\n",
       "  <thead>\n",
       "    <tr style=\"text-align: right;\">\n",
       "      <th></th>\n",
       "      <th>Call Id</th>\n",
       "      <th>Agent</th>\n",
       "      <th>Date</th>\n",
       "      <th>Time</th>\n",
       "      <th>Topic</th>\n",
       "      <th>Answered (Y/N)</th>\n",
       "      <th>Resolved</th>\n",
       "      <th>Speed of answer in seconds</th>\n",
       "      <th>AvgTalkDuration</th>\n",
       "      <th>Satisfaction rating</th>\n",
       "    </tr>\n",
       "  </thead>\n",
       "  <tbody>\n",
       "    <tr>\n",
       "      <th>count</th>\n",
       "      <td>5000</td>\n",
       "      <td>5000</td>\n",
       "      <td>5000</td>\n",
       "      <td>5000</td>\n",
       "      <td>5000</td>\n",
       "      <td>5000</td>\n",
       "      <td>5000</td>\n",
       "      <td>4054.000000</td>\n",
       "      <td>4054</td>\n",
       "      <td>4054.000000</td>\n",
       "    </tr>\n",
       "    <tr>\n",
       "      <th>unique</th>\n",
       "      <td>5000</td>\n",
       "      <td>8</td>\n",
       "      <td>90</td>\n",
       "      <td>375</td>\n",
       "      <td>5</td>\n",
       "      <td>2</td>\n",
       "      <td>2</td>\n",
       "      <td>NaN</td>\n",
       "      <td>391</td>\n",
       "      <td>NaN</td>\n",
       "    </tr>\n",
       "    <tr>\n",
       "      <th>top</th>\n",
       "      <td>ID0033</td>\n",
       "      <td>Jim</td>\n",
       "      <td>2021-01-11</td>\n",
       "      <td>11:55:41</td>\n",
       "      <td>Streaming</td>\n",
       "      <td>Y</td>\n",
       "      <td>Y</td>\n",
       "      <td>NaN</td>\n",
       "      <td>00:04:43</td>\n",
       "      <td>NaN</td>\n",
       "    </tr>\n",
       "    <tr>\n",
       "      <th>freq</th>\n",
       "      <td>1</td>\n",
       "      <td>666</td>\n",
       "      <td>84</td>\n",
       "      <td>30</td>\n",
       "      <td>1022</td>\n",
       "      <td>4054</td>\n",
       "      <td>3646</td>\n",
       "      <td>NaN</td>\n",
       "      <td>22</td>\n",
       "      <td>NaN</td>\n",
       "    </tr>\n",
       "    <tr>\n",
       "      <th>mean</th>\n",
       "      <td>NaN</td>\n",
       "      <td>NaN</td>\n",
       "      <td>NaN</td>\n",
       "      <td>NaN</td>\n",
       "      <td>NaN</td>\n",
       "      <td>NaN</td>\n",
       "      <td>NaN</td>\n",
       "      <td>67.520720</td>\n",
       "      <td>NaN</td>\n",
       "      <td>3.403552</td>\n",
       "    </tr>\n",
       "    <tr>\n",
       "      <th>std</th>\n",
       "      <td>NaN</td>\n",
       "      <td>NaN</td>\n",
       "      <td>NaN</td>\n",
       "      <td>NaN</td>\n",
       "      <td>NaN</td>\n",
       "      <td>NaN</td>\n",
       "      <td>NaN</td>\n",
       "      <td>33.592872</td>\n",
       "      <td>NaN</td>\n",
       "      <td>1.212220</td>\n",
       "    </tr>\n",
       "    <tr>\n",
       "      <th>min</th>\n",
       "      <td>NaN</td>\n",
       "      <td>NaN</td>\n",
       "      <td>NaN</td>\n",
       "      <td>NaN</td>\n",
       "      <td>NaN</td>\n",
       "      <td>NaN</td>\n",
       "      <td>NaN</td>\n",
       "      <td>10.000000</td>\n",
       "      <td>NaN</td>\n",
       "      <td>1.000000</td>\n",
       "    </tr>\n",
       "    <tr>\n",
       "      <th>25%</th>\n",
       "      <td>NaN</td>\n",
       "      <td>NaN</td>\n",
       "      <td>NaN</td>\n",
       "      <td>NaN</td>\n",
       "      <td>NaN</td>\n",
       "      <td>NaN</td>\n",
       "      <td>NaN</td>\n",
       "      <td>39.000000</td>\n",
       "      <td>NaN</td>\n",
       "      <td>3.000000</td>\n",
       "    </tr>\n",
       "    <tr>\n",
       "      <th>50%</th>\n",
       "      <td>NaN</td>\n",
       "      <td>NaN</td>\n",
       "      <td>NaN</td>\n",
       "      <td>NaN</td>\n",
       "      <td>NaN</td>\n",
       "      <td>NaN</td>\n",
       "      <td>NaN</td>\n",
       "      <td>68.000000</td>\n",
       "      <td>NaN</td>\n",
       "      <td>3.000000</td>\n",
       "    </tr>\n",
       "    <tr>\n",
       "      <th>75%</th>\n",
       "      <td>NaN</td>\n",
       "      <td>NaN</td>\n",
       "      <td>NaN</td>\n",
       "      <td>NaN</td>\n",
       "      <td>NaN</td>\n",
       "      <td>NaN</td>\n",
       "      <td>NaN</td>\n",
       "      <td>97.000000</td>\n",
       "      <td>NaN</td>\n",
       "      <td>4.000000</td>\n",
       "    </tr>\n",
       "    <tr>\n",
       "      <th>max</th>\n",
       "      <td>NaN</td>\n",
       "      <td>NaN</td>\n",
       "      <td>NaN</td>\n",
       "      <td>NaN</td>\n",
       "      <td>NaN</td>\n",
       "      <td>NaN</td>\n",
       "      <td>NaN</td>\n",
       "      <td>125.000000</td>\n",
       "      <td>NaN</td>\n",
       "      <td>5.000000</td>\n",
       "    </tr>\n",
       "  </tbody>\n",
       "</table>\n",
       "</div>"
      ],
      "text/plain": [
       "       Call Id Agent        Date      Time      Topic Answered (Y/N) Resolved  \\\n",
       "count     5000  5000        5000      5000       5000           5000     5000   \n",
       "unique    5000     8          90       375          5              2        2   \n",
       "top     ID0033   Jim  2021-01-11  11:55:41  Streaming              Y        Y   \n",
       "freq         1   666          84        30       1022           4054     3646   \n",
       "mean       NaN   NaN         NaN       NaN        NaN            NaN      NaN   \n",
       "std        NaN   NaN         NaN       NaN        NaN            NaN      NaN   \n",
       "min        NaN   NaN         NaN       NaN        NaN            NaN      NaN   \n",
       "25%        NaN   NaN         NaN       NaN        NaN            NaN      NaN   \n",
       "50%        NaN   NaN         NaN       NaN        NaN            NaN      NaN   \n",
       "75%        NaN   NaN         NaN       NaN        NaN            NaN      NaN   \n",
       "max        NaN   NaN         NaN       NaN        NaN            NaN      NaN   \n",
       "\n",
       "        Speed of answer in seconds AvgTalkDuration  Satisfaction rating  \n",
       "count                  4054.000000            4054          4054.000000  \n",
       "unique                         NaN             391                  NaN  \n",
       "top                            NaN        00:04:43                  NaN  \n",
       "freq                           NaN              22                  NaN  \n",
       "mean                     67.520720             NaN             3.403552  \n",
       "std                      33.592872             NaN             1.212220  \n",
       "min                      10.000000             NaN             1.000000  \n",
       "25%                      39.000000             NaN             3.000000  \n",
       "50%                      68.000000             NaN             3.000000  \n",
       "75%                      97.000000             NaN             4.000000  \n",
       "max                     125.000000             NaN             5.000000  "
      ]
     },
     "execution_count": 9,
     "metadata": {},
     "output_type": "execute_result"
    }
   ],
   "source": [
    "bbdd.describe(include='all')"
   ]
  },
  {
   "cell_type": "code",
   "execution_count": 10,
   "metadata": {},
   "outputs": [
    {
     "data": {
      "text/plain": [
       "array(['Diane', 'Dan', 'Stewart', 'Greg', 'Martha', 'Becky', 'Joe', 'Jim'],\n",
       "      dtype=object)"
      ]
     },
     "execution_count": 10,
     "metadata": {},
     "output_type": "execute_result"
    }
   ],
   "source": [
    "bbdd['Agent'].unique()"
   ]
  },
  {
   "cell_type": "code",
   "execution_count": 11,
   "metadata": {},
   "outputs": [
    {
     "data": {
      "text/plain": [
       "8"
      ]
     },
     "execution_count": 11,
     "metadata": {},
     "output_type": "execute_result"
    }
   ],
   "source": [
    "bbdd['Agent'].nunique()"
   ]
  },
  {
   "cell_type": "code",
   "execution_count": 12,
   "metadata": {},
   "outputs": [
    {
     "data": {
      "text/html": [
       "<div>\n",
       "<style scoped>\n",
       "    .dataframe tbody tr th:only-of-type {\n",
       "        vertical-align: middle;\n",
       "    }\n",
       "\n",
       "    .dataframe tbody tr th {\n",
       "        vertical-align: top;\n",
       "    }\n",
       "\n",
       "    .dataframe thead th {\n",
       "        text-align: right;\n",
       "    }\n",
       "</style>\n",
       "<table border=\"1\" class=\"dataframe\">\n",
       "  <thead>\n",
       "    <tr style=\"text-align: right;\">\n",
       "      <th></th>\n",
       "      <th>Call Id</th>\n",
       "      <th>Agent</th>\n",
       "      <th>Date</th>\n",
       "      <th>Time</th>\n",
       "      <th>Topic</th>\n",
       "      <th>Answered (Y/N)</th>\n",
       "      <th>Resolved</th>\n",
       "      <th>Speed of answer in seconds</th>\n",
       "      <th>AvgTalkDuration</th>\n",
       "      <th>Satisfaction rating</th>\n",
       "    </tr>\n",
       "  </thead>\n",
       "  <tbody>\n",
       "    <tr>\n",
       "      <th>3733</th>\n",
       "      <td>ID3691</td>\n",
       "      <td>Martha</td>\n",
       "      <td>2021-03-06</td>\n",
       "      <td>09:00:00</td>\n",
       "      <td>Technical Support</td>\n",
       "      <td>Y</td>\n",
       "      <td>Y</td>\n",
       "      <td>73.0</td>\n",
       "      <td>00:01:20</td>\n",
       "      <td>4.0</td>\n",
       "    </tr>\n",
       "    <tr>\n",
       "      <th>2210</th>\n",
       "      <td>ID2206</td>\n",
       "      <td>Becky</td>\n",
       "      <td>2021-02-08</td>\n",
       "      <td>09:00:00</td>\n",
       "      <td>Contract related</td>\n",
       "      <td>Y</td>\n",
       "      <td>Y</td>\n",
       "      <td>17.0</td>\n",
       "      <td>00:05:49</td>\n",
       "      <td>4.0</td>\n",
       "    </tr>\n",
       "    <tr>\n",
       "      <th>4666</th>\n",
       "      <td>ID4639</td>\n",
       "      <td>Dan</td>\n",
       "      <td>2021-03-24</td>\n",
       "      <td>09:00:00</td>\n",
       "      <td>Technical Support</td>\n",
       "      <td>Y</td>\n",
       "      <td>Y</td>\n",
       "      <td>21.0</td>\n",
       "      <td>00:02:34</td>\n",
       "      <td>3.0</td>\n",
       "    </tr>\n",
       "    <tr>\n",
       "      <th>3724</th>\n",
       "      <td>ID3692</td>\n",
       "      <td>Stewart</td>\n",
       "      <td>2021-03-06</td>\n",
       "      <td>09:00:00</td>\n",
       "      <td>Payment related</td>\n",
       "      <td>Y</td>\n",
       "      <td>Y</td>\n",
       "      <td>85.0</td>\n",
       "      <td>00:02:15</td>\n",
       "      <td>5.0</td>\n",
       "    </tr>\n",
       "    <tr>\n",
       "      <th>4646</th>\n",
       "      <td>ID4640</td>\n",
       "      <td>Dan</td>\n",
       "      <td>2021-03-24</td>\n",
       "      <td>09:00:00</td>\n",
       "      <td>Payment related</td>\n",
       "      <td>Y</td>\n",
       "      <td>Y</td>\n",
       "      <td>61.0</td>\n",
       "      <td>00:05:47</td>\n",
       "      <td>5.0</td>\n",
       "    </tr>\n",
       "    <tr>\n",
       "      <th>...</th>\n",
       "      <td>...</td>\n",
       "      <td>...</td>\n",
       "      <td>...</td>\n",
       "      <td>...</td>\n",
       "      <td>...</td>\n",
       "      <td>...</td>\n",
       "      <td>...</td>\n",
       "      <td>...</td>\n",
       "      <td>...</td>\n",
       "      <td>...</td>\n",
       "    </tr>\n",
       "    <tr>\n",
       "      <th>700</th>\n",
       "      <td>ID0717</td>\n",
       "      <td>Jim</td>\n",
       "      <td>2021-01-12</td>\n",
       "      <td>18:00:00</td>\n",
       "      <td>Streaming</td>\n",
       "      <td>Y</td>\n",
       "      <td>Y</td>\n",
       "      <td>71.0</td>\n",
       "      <td>00:02:00</td>\n",
       "      <td>3.0</td>\n",
       "    </tr>\n",
       "    <tr>\n",
       "      <th>3330</th>\n",
       "      <td>ID3388</td>\n",
       "      <td>Joe</td>\n",
       "      <td>2021-02-28</td>\n",
       "      <td>18:00:00</td>\n",
       "      <td>Technical Support</td>\n",
       "      <td>Y</td>\n",
       "      <td>Y</td>\n",
       "      <td>79.0</td>\n",
       "      <td>00:06:19</td>\n",
       "      <td>4.0</td>\n",
       "    </tr>\n",
       "    <tr>\n",
       "      <th>4329</th>\n",
       "      <td>ID4330</td>\n",
       "      <td>Greg</td>\n",
       "      <td>2021-03-17</td>\n",
       "      <td>18:00:00</td>\n",
       "      <td>Contract related</td>\n",
       "      <td>N</td>\n",
       "      <td>N</td>\n",
       "      <td>NaN</td>\n",
       "      <td>NaN</td>\n",
       "      <td>NaN</td>\n",
       "    </tr>\n",
       "    <tr>\n",
       "      <th>3360</th>\n",
       "      <td>ID3387</td>\n",
       "      <td>Jim</td>\n",
       "      <td>2021-02-28</td>\n",
       "      <td>18:00:00</td>\n",
       "      <td>Streaming</td>\n",
       "      <td>Y</td>\n",
       "      <td>Y</td>\n",
       "      <td>56.0</td>\n",
       "      <td>00:02:34</td>\n",
       "      <td>4.0</td>\n",
       "    </tr>\n",
       "    <tr>\n",
       "      <th>820</th>\n",
       "      <td>ID0861</td>\n",
       "      <td>Stewart</td>\n",
       "      <td>2021-01-15</td>\n",
       "      <td>18:00:00</td>\n",
       "      <td>Admin Support</td>\n",
       "      <td>Y</td>\n",
       "      <td>Y</td>\n",
       "      <td>42.0</td>\n",
       "      <td>00:06:13</td>\n",
       "      <td>3.0</td>\n",
       "    </tr>\n",
       "  </tbody>\n",
       "</table>\n",
       "<p>5000 rows × 10 columns</p>\n",
       "</div>"
      ],
      "text/plain": [
       "     Call Id    Agent        Date      Time              Topic Answered (Y/N)  \\\n",
       "3733  ID3691   Martha  2021-03-06  09:00:00  Technical Support              Y   \n",
       "2210  ID2206    Becky  2021-02-08  09:00:00   Contract related              Y   \n",
       "4666  ID4639      Dan  2021-03-24  09:00:00  Technical Support              Y   \n",
       "3724  ID3692  Stewart  2021-03-06  09:00:00    Payment related              Y   \n",
       "4646  ID4640      Dan  2021-03-24  09:00:00    Payment related              Y   \n",
       "...      ...      ...         ...       ...                ...            ...   \n",
       "700   ID0717      Jim  2021-01-12  18:00:00          Streaming              Y   \n",
       "3330  ID3388      Joe  2021-02-28  18:00:00  Technical Support              Y   \n",
       "4329  ID4330     Greg  2021-03-17  18:00:00   Contract related              N   \n",
       "3360  ID3387      Jim  2021-02-28  18:00:00          Streaming              Y   \n",
       "820   ID0861  Stewart  2021-01-15  18:00:00      Admin Support              Y   \n",
       "\n",
       "     Resolved  Speed of answer in seconds AvgTalkDuration  Satisfaction rating  \n",
       "3733        Y                        73.0        00:01:20                  4.0  \n",
       "2210        Y                        17.0        00:05:49                  4.0  \n",
       "4666        Y                        21.0        00:02:34                  3.0  \n",
       "3724        Y                        85.0        00:02:15                  5.0  \n",
       "4646        Y                        61.0        00:05:47                  5.0  \n",
       "...       ...                         ...             ...                  ...  \n",
       "700         Y                        71.0        00:02:00                  3.0  \n",
       "3330        Y                        79.0        00:06:19                  4.0  \n",
       "4329        N                         NaN             NaN                  NaN  \n",
       "3360        Y                        56.0        00:02:34                  4.0  \n",
       "820         Y                        42.0        00:06:13                  3.0  \n",
       "\n",
       "[5000 rows x 10 columns]"
      ]
     },
     "execution_count": 12,
     "metadata": {},
     "output_type": "execute_result"
    }
   ],
   "source": [
    "bbdd = bbdd.sort_values(by='Time', ascending=True)\n",
    "bbdd"
   ]
  },
  {
   "cell_type": "code",
   "execution_count": 13,
   "metadata": {},
   "outputs": [
    {
     "data": {
      "text/plain": [
       "5"
      ]
     },
     "execution_count": 13,
     "metadata": {},
     "output_type": "execute_result"
    }
   ],
   "source": [
    "bbdd['Topic'].nunique()"
   ]
  },
  {
   "cell_type": "code",
   "execution_count": 14,
   "metadata": {},
   "outputs": [
    {
     "data": {
      "text/plain": [
       "Answered (Y/N)\n",
       "Y    4054\n",
       "N     946\n",
       "Name: count, dtype: int64"
      ]
     },
     "execution_count": 14,
     "metadata": {},
     "output_type": "execute_result"
    }
   ],
   "source": [
    "bbdd['Answered (Y/N)'].value_counts()"
   ]
  },
  {
   "cell_type": "markdown",
   "metadata": {},
   "source": [
    "### **Luego de realizar el analisis exploratorio de los datos podemos indicar:**\n",
    "\n",
    "#### -Disponemos de 5000 filas y 10 columnas\n",
    "#### -El horario de atención del equipo de customer service es de 9 a 18 horas\n",
    "#### -El equipo de customer service esta compuesto por 8 agentes\n",
    "#### -Se disponen de 5 categorias para clasificar el motivo de contacto\n",
    "#### -No todos los contactos fueron concretados\n",
    "##### -La base de datos dipone de NAN estos correponden a datos faltantes cuando la interaccion no fue concretada es decir si un llamado no se realizo por x motivo no hay duracion de llamada, no hay nivel de satisfaccion ni tiempo de espera.\n"
   ]
  },
  {
   "cell_type": "markdown",
   "metadata": {},
   "source": [
    "# **3-LIMPIEZA & SET UP DE LA BASE DE DATOS**"
   ]
  },
  {
   "cell_type": "markdown",
   "metadata": {},
   "source": [
    "### Realizaremos algunas customizaciones sobre la base con el fin de optimizar el trabajo de aqui en adelante:\n",
    "\n",
    "    0.  Lectura de mi Base de datos\n",
    "    1.  Cambiar los títulos de las columnas a mayúsculas\n",
    "    2.  Agregar la leyenda del índice\n",
    "    3.  Conversión de columnas, Time & AvgTalkDuration\n",
    "    4.  Crear  columna \"DAY_OF_THE_WEEK\"\n",
    "    5.  Limpiaza & generación de embudo\n",
    "    6.  Verificar que no existen nulo en la Base de Datos\n",
    "    7.  Verificar que no existan duplicados\n",
    "    8.  Verificar que no existan absurdos\n",
    "    9.  Ordenar las columnas\n",
    "    10. Guardar un CSV con la base de datos limpia y seteada para iniciar nuestro analisis\n",
    "    "
   ]
  },
  {
   "cell_type": "markdown",
   "metadata": {},
   "source": [
    "## **0-Lectura de mi Base de datos**\n",
    "\n",
    "#### Realizamos una lectura de la Base de datos en donde incluimos \"parse_dates\" para que la columna 'Date' se lea en el formato mas adecuado y hacemos algo similar con otras 2 columnas del tipo Float que serian Speed of answer in seconds' y 'Satisfaction rating'"
   ]
  },
  {
   "cell_type": "code",
   "execution_count": 15,
   "metadata": {},
   "outputs": [
    {
     "name": "stdout",
     "output_type": "stream",
     "text": [
      "<class 'pandas.core.frame.DataFrame'>\n",
      "RangeIndex: 5000 entries, 0 to 4999\n",
      "Data columns (total 10 columns):\n",
      " #   Column                      Non-Null Count  Dtype         \n",
      "---  ------                      --------------  -----         \n",
      " 0   Call Id                     5000 non-null   object        \n",
      " 1   Agent                       5000 non-null   object        \n",
      " 2   Date                        5000 non-null   datetime64[ns]\n",
      " 3   Time                        5000 non-null   object        \n",
      " 4   Topic                       5000 non-null   object        \n",
      " 5   Answered (Y/N)              5000 non-null   object        \n",
      " 6   Resolved                    5000 non-null   object        \n",
      " 7   Speed of answer in seconds  4054 non-null   float64       \n",
      " 8   AvgTalkDuration             4054 non-null   object        \n",
      " 9   Satisfaction rating         4054 non-null   float64       \n",
      "dtypes: datetime64[ns](1), float64(2), object(7)\n",
      "memory usage: 390.8+ KB\n"
     ]
    }
   ],
   "source": [
    "rutaexcel = r\"C:\\\\Users\\\\Lucia\\Desktop\\\\bootcamp\\\\Proyecto_EDA_Pablo_Mendez\\\\Telecom Company Call-Center-Dataset.xlsx\"\n",
    "bbdd = pd.read_excel(rutaexcel, parse_dates=['Date'],\n",
    "                     dtype={'Speed of answer in seconds': float,\n",
    "                            'Satisfaction rating': float})\n",
    "bbdd.info()"
   ]
  },
  {
   "cell_type": "markdown",
   "metadata": {},
   "source": [
    "##     1. Cambiar los títulos de las columnas a mayúsculas \n",
    "##     2. Agregar la leyenda del índice\n",
    "###      Para trabajar de una manera mas ordenada se decide insertar un indice al cual se puede llamar en el futuro"
   ]
  },
  {
   "cell_type": "code",
   "execution_count": 16,
   "metadata": {},
   "outputs": [],
   "source": [
    "bbdd.columns = bbdd.columns.str.upper()\n",
    "bbdd\n",
    "bbdd.index.name = 'INDEX'"
   ]
  },
  {
   "cell_type": "markdown",
   "metadata": {},
   "source": [
    "## 3.Conversión de columnas, Time & AvgTalkDuration\n",
    "\n",
    "### La columna 'Time' se modificara como tipo de dato a delta time\n",
    "### La columna 'AvgTalkDuration' se modificara como tipo de dato datetime con el formato dias, horas, minutos y segundos.\n"
   ]
  },
  {
   "cell_type": "code",
   "execution_count": 17,
   "metadata": {},
   "outputs": [],
   "source": [
    "bbdd['TIME'] = pd.to_datetime(bbdd['TIME'], format='%H:%M:%S')\n",
    "\n",
    "bbdd['TIME'] = bbdd['TIME'].dt.hour * pd.Timedelta(hours=1) + bbdd['TIME'].dt.minute * pd.Timedelta(minutes=1) + bbdd['TIME'].dt.second * pd.Timedelta(seconds=1)"
   ]
  },
  {
   "cell_type": "markdown",
   "metadata": {},
   "source": [
    "#### Unicamente se completan los Nan de la columna con el fin de convetir el tipo de dato proximamente se analizaran por partes el Dt con el fin de analizarlo en 2 etapas del \"embudo de analisis\" "
   ]
  },
  {
   "cell_type": "code",
   "execution_count": 18,
   "metadata": {},
   "outputs": [],
   "source": [
    "import pandas as pd\n",
    "from datetime import datetime, timedelta\n",
    "\n",
    "bbdd['AVGTALKDURATION'].fillna('00:00:00', inplace=True)\n",
    "\n",
    "bbdd['AVGTALKDURATION'] = pd.to_datetime(bbdd['AVGTALKDURATION'], format='%H:%M:%S').dt.time\n",
    "\n",
    "\n",
    "bbdd['AVGTALKDURATION'] = bbdd['AVGTALKDURATION'].apply(lambda x: timedelta(hours=x.hour, minutes=x.minute, seconds=x.second)) "
   ]
  },
  {
   "cell_type": "code",
   "execution_count": 19,
   "metadata": {},
   "outputs": [
    {
     "name": "stdout",
     "output_type": "stream",
     "text": [
      "<class 'pandas.core.frame.DataFrame'>\n",
      "RangeIndex: 5000 entries, 0 to 4999\n",
      "Data columns (total 10 columns):\n",
      " #   Column                      Non-Null Count  Dtype          \n",
      "---  ------                      --------------  -----          \n",
      " 0   CALL ID                     5000 non-null   object         \n",
      " 1   AGENT                       5000 non-null   object         \n",
      " 2   DATE                        5000 non-null   datetime64[ns] \n",
      " 3   TIME                        5000 non-null   timedelta64[ns]\n",
      " 4   TOPIC                       5000 non-null   object         \n",
      " 5   ANSWERED (Y/N)              5000 non-null   object         \n",
      " 6   RESOLVED                    5000 non-null   object         \n",
      " 7   SPEED OF ANSWER IN SECONDS  4054 non-null   float64        \n",
      " 8   AVGTALKDURATION             5000 non-null   timedelta64[ns]\n",
      " 9   SATISFACTION RATING         4054 non-null   float64        \n",
      "dtypes: datetime64[ns](1), float64(2), object(5), timedelta64[ns](2)\n",
      "memory usage: 390.8+ KB\n"
     ]
    }
   ],
   "source": [
    "bbdd.info()"
   ]
  },
  {
   "cell_type": "markdown",
   "metadata": {},
   "source": [
    "##     4. Creación de columna \"DAY_OF_THE_WEEK\"\n",
    "###      Se decide crear esta columna para visualizar de una manera mas simple los días en que la empresa brinda servivio. "
   ]
  },
  {
   "cell_type": "code",
   "execution_count": 20,
   "metadata": {},
   "outputs": [
    {
     "data": {
      "text/html": [
       "<div>\n",
       "<style scoped>\n",
       "    .dataframe tbody tr th:only-of-type {\n",
       "        vertical-align: middle;\n",
       "    }\n",
       "\n",
       "    .dataframe tbody tr th {\n",
       "        vertical-align: top;\n",
       "    }\n",
       "\n",
       "    .dataframe thead th {\n",
       "        text-align: right;\n",
       "    }\n",
       "</style>\n",
       "<table border=\"1\" class=\"dataframe\">\n",
       "  <thead>\n",
       "    <tr style=\"text-align: right;\">\n",
       "      <th></th>\n",
       "      <th>CALL ID</th>\n",
       "      <th>AGENT</th>\n",
       "      <th>DATE</th>\n",
       "      <th>TIME</th>\n",
       "      <th>TOPIC</th>\n",
       "      <th>ANSWERED (Y/N)</th>\n",
       "      <th>RESOLVED</th>\n",
       "      <th>SPEED OF ANSWER IN SECONDS</th>\n",
       "      <th>AVGTALKDURATION</th>\n",
       "      <th>SATISFACTION RATING</th>\n",
       "      <th>DAY_OF_THE_WEEK</th>\n",
       "    </tr>\n",
       "    <tr>\n",
       "      <th>INDEX</th>\n",
       "      <th></th>\n",
       "      <th></th>\n",
       "      <th></th>\n",
       "      <th></th>\n",
       "      <th></th>\n",
       "      <th></th>\n",
       "      <th></th>\n",
       "      <th></th>\n",
       "      <th></th>\n",
       "      <th></th>\n",
       "      <th></th>\n",
       "    </tr>\n",
       "  </thead>\n",
       "  <tbody>\n",
       "    <tr>\n",
       "      <th>0</th>\n",
       "      <td>ID0033</td>\n",
       "      <td>Diane</td>\n",
       "      <td>2021-01-01</td>\n",
       "      <td>0 days 13:33:36</td>\n",
       "      <td>Technical Support</td>\n",
       "      <td>Y</td>\n",
       "      <td>Y</td>\n",
       "      <td>57.0</td>\n",
       "      <td>0 days 00:06:49</td>\n",
       "      <td>3.0</td>\n",
       "      <td>Friday</td>\n",
       "    </tr>\n",
       "    <tr>\n",
       "      <th>1</th>\n",
       "      <td>ID0056</td>\n",
       "      <td>Dan</td>\n",
       "      <td>2021-01-01</td>\n",
       "      <td>0 days 17:44:10</td>\n",
       "      <td>Streaming</td>\n",
       "      <td>Y</td>\n",
       "      <td>Y</td>\n",
       "      <td>83.0</td>\n",
       "      <td>0 days 00:06:45</td>\n",
       "      <td>4.0</td>\n",
       "      <td>Friday</td>\n",
       "    </tr>\n",
       "    <tr>\n",
       "      <th>2</th>\n",
       "      <td>ID0039</td>\n",
       "      <td>Stewart</td>\n",
       "      <td>2021-01-01</td>\n",
       "      <td>0 days 14:38:24</td>\n",
       "      <td>Contract related</td>\n",
       "      <td>Y</td>\n",
       "      <td>Y</td>\n",
       "      <td>74.0</td>\n",
       "      <td>0 days 00:06:41</td>\n",
       "      <td>1.0</td>\n",
       "      <td>Friday</td>\n",
       "    </tr>\n",
       "    <tr>\n",
       "      <th>3</th>\n",
       "      <td>ID0009</td>\n",
       "      <td>Greg</td>\n",
       "      <td>2021-01-01</td>\n",
       "      <td>0 days 11:13:55</td>\n",
       "      <td>Admin Support</td>\n",
       "      <td>Y</td>\n",
       "      <td>Y</td>\n",
       "      <td>15.0</td>\n",
       "      <td>0 days 00:06:38</td>\n",
       "      <td>4.0</td>\n",
       "      <td>Friday</td>\n",
       "    </tr>\n",
       "    <tr>\n",
       "      <th>4</th>\n",
       "      <td>ID0043</td>\n",
       "      <td>Diane</td>\n",
       "      <td>2021-01-01</td>\n",
       "      <td>0 days 14:47:02</td>\n",
       "      <td>Technical Support</td>\n",
       "      <td>Y</td>\n",
       "      <td>Y</td>\n",
       "      <td>45.0</td>\n",
       "      <td>0 days 00:06:21</td>\n",
       "      <td>3.0</td>\n",
       "      <td>Friday</td>\n",
       "    </tr>\n",
       "    <tr>\n",
       "      <th>...</th>\n",
       "      <td>...</td>\n",
       "      <td>...</td>\n",
       "      <td>...</td>\n",
       "      <td>...</td>\n",
       "      <td>...</td>\n",
       "      <td>...</td>\n",
       "      <td>...</td>\n",
       "      <td>...</td>\n",
       "      <td>...</td>\n",
       "      <td>...</td>\n",
       "      <td>...</td>\n",
       "    </tr>\n",
       "    <tr>\n",
       "      <th>4995</th>\n",
       "      <td>ID4992</td>\n",
       "      <td>Joe</td>\n",
       "      <td>2021-03-31</td>\n",
       "      <td>0 days 14:13:55</td>\n",
       "      <td>Streaming</td>\n",
       "      <td>N</td>\n",
       "      <td>N</td>\n",
       "      <td>NaN</td>\n",
       "      <td>0 days 00:00:00</td>\n",
       "      <td>NaN</td>\n",
       "      <td>Wednesday</td>\n",
       "    </tr>\n",
       "    <tr>\n",
       "      <th>4996</th>\n",
       "      <td>ID4993</td>\n",
       "      <td>Joe</td>\n",
       "      <td>2021-03-31</td>\n",
       "      <td>0 days 14:18:14</td>\n",
       "      <td>Admin Support</td>\n",
       "      <td>N</td>\n",
       "      <td>N</td>\n",
       "      <td>NaN</td>\n",
       "      <td>0 days 00:00:00</td>\n",
       "      <td>NaN</td>\n",
       "      <td>Wednesday</td>\n",
       "    </tr>\n",
       "    <tr>\n",
       "      <th>4997</th>\n",
       "      <td>ID4994</td>\n",
       "      <td>Greg</td>\n",
       "      <td>2021-03-31</td>\n",
       "      <td>0 days 14:58:34</td>\n",
       "      <td>Contract related</td>\n",
       "      <td>N</td>\n",
       "      <td>N</td>\n",
       "      <td>NaN</td>\n",
       "      <td>0 days 00:00:00</td>\n",
       "      <td>NaN</td>\n",
       "      <td>Wednesday</td>\n",
       "    </tr>\n",
       "    <tr>\n",
       "      <th>4998</th>\n",
       "      <td>ID4995</td>\n",
       "      <td>Dan</td>\n",
       "      <td>2021-03-31</td>\n",
       "      <td>0 days 15:33:07</td>\n",
       "      <td>Payment related</td>\n",
       "      <td>N</td>\n",
       "      <td>N</td>\n",
       "      <td>NaN</td>\n",
       "      <td>0 days 00:00:00</td>\n",
       "      <td>NaN</td>\n",
       "      <td>Wednesday</td>\n",
       "    </tr>\n",
       "    <tr>\n",
       "      <th>4999</th>\n",
       "      <td>ID5000</td>\n",
       "      <td>Diane</td>\n",
       "      <td>2021-03-31</td>\n",
       "      <td>0 days 17:39:50</td>\n",
       "      <td>Contract related</td>\n",
       "      <td>N</td>\n",
       "      <td>N</td>\n",
       "      <td>NaN</td>\n",
       "      <td>0 days 00:00:00</td>\n",
       "      <td>NaN</td>\n",
       "      <td>Wednesday</td>\n",
       "    </tr>\n",
       "  </tbody>\n",
       "</table>\n",
       "<p>5000 rows × 11 columns</p>\n",
       "</div>"
      ],
      "text/plain": [
       "      CALL ID    AGENT       DATE            TIME              TOPIC  \\\n",
       "INDEX                                                                  \n",
       "0      ID0033    Diane 2021-01-01 0 days 13:33:36  Technical Support   \n",
       "1      ID0056      Dan 2021-01-01 0 days 17:44:10          Streaming   \n",
       "2      ID0039  Stewart 2021-01-01 0 days 14:38:24   Contract related   \n",
       "3      ID0009     Greg 2021-01-01 0 days 11:13:55      Admin Support   \n",
       "4      ID0043    Diane 2021-01-01 0 days 14:47:02  Technical Support   \n",
       "...       ...      ...        ...             ...                ...   \n",
       "4995   ID4992      Joe 2021-03-31 0 days 14:13:55          Streaming   \n",
       "4996   ID4993      Joe 2021-03-31 0 days 14:18:14      Admin Support   \n",
       "4997   ID4994     Greg 2021-03-31 0 days 14:58:34   Contract related   \n",
       "4998   ID4995      Dan 2021-03-31 0 days 15:33:07    Payment related   \n",
       "4999   ID5000    Diane 2021-03-31 0 days 17:39:50   Contract related   \n",
       "\n",
       "      ANSWERED (Y/N) RESOLVED  SPEED OF ANSWER IN SECONDS AVGTALKDURATION  \\\n",
       "INDEX                                                                       \n",
       "0                  Y        Y                        57.0 0 days 00:06:49   \n",
       "1                  Y        Y                        83.0 0 days 00:06:45   \n",
       "2                  Y        Y                        74.0 0 days 00:06:41   \n",
       "3                  Y        Y                        15.0 0 days 00:06:38   \n",
       "4                  Y        Y                        45.0 0 days 00:06:21   \n",
       "...              ...      ...                         ...             ...   \n",
       "4995               N        N                         NaN 0 days 00:00:00   \n",
       "4996               N        N                         NaN 0 days 00:00:00   \n",
       "4997               N        N                         NaN 0 days 00:00:00   \n",
       "4998               N        N                         NaN 0 days 00:00:00   \n",
       "4999               N        N                         NaN 0 days 00:00:00   \n",
       "\n",
       "       SATISFACTION RATING DAY_OF_THE_WEEK  \n",
       "INDEX                                       \n",
       "0                      3.0          Friday  \n",
       "1                      4.0          Friday  \n",
       "2                      1.0          Friday  \n",
       "3                      4.0          Friday  \n",
       "4                      3.0          Friday  \n",
       "...                    ...             ...  \n",
       "4995                   NaN       Wednesday  \n",
       "4996                   NaN       Wednesday  \n",
       "4997                   NaN       Wednesday  \n",
       "4998                   NaN       Wednesday  \n",
       "4999                   NaN       Wednesday  \n",
       "\n",
       "[5000 rows x 11 columns]"
      ]
     },
     "execution_count": 20,
     "metadata": {},
     "output_type": "execute_result"
    }
   ],
   "source": [
    "bbdd['DAY_OF_THE_WEEK'] = pd.to_datetime(bbdd['DATE']).dt.day_name()\n",
    "bbdd"
   ]
  },
  {
   "cell_type": "code",
   "execution_count": 21,
   "metadata": {},
   "outputs": [
    {
     "data": {
      "text/html": [
       "<div>\n",
       "<style scoped>\n",
       "    .dataframe tbody tr th:only-of-type {\n",
       "        vertical-align: middle;\n",
       "    }\n",
       "\n",
       "    .dataframe tbody tr th {\n",
       "        vertical-align: top;\n",
       "    }\n",
       "\n",
       "    .dataframe thead th {\n",
       "        text-align: right;\n",
       "    }\n",
       "</style>\n",
       "<table border=\"1\" class=\"dataframe\">\n",
       "  <thead>\n",
       "    <tr style=\"text-align: right;\">\n",
       "      <th></th>\n",
       "      <th>AGENT</th>\n",
       "      <th>ANSWERED (Y/N)</th>\n",
       "      <th>AVGTALKDURATION</th>\n",
       "      <th>CALL ID</th>\n",
       "      <th>DATE</th>\n",
       "      <th>RESOLVED</th>\n",
       "      <th>SATISFACTION RATING</th>\n",
       "      <th>SPEED OF ANSWER IN SECONDS</th>\n",
       "      <th>TIME</th>\n",
       "      <th>TOPIC</th>\n",
       "    </tr>\n",
       "    <tr>\n",
       "      <th>DAY_OF_THE_WEEK</th>\n",
       "      <th></th>\n",
       "      <th></th>\n",
       "      <th></th>\n",
       "      <th></th>\n",
       "      <th></th>\n",
       "      <th></th>\n",
       "      <th></th>\n",
       "      <th></th>\n",
       "      <th></th>\n",
       "      <th></th>\n",
       "    </tr>\n",
       "  </thead>\n",
       "  <tbody>\n",
       "    <tr>\n",
       "      <th>Friday</th>\n",
       "      <td>Diane</td>\n",
       "      <td>Y</td>\n",
       "      <td>0 days 00:06:49</td>\n",
       "      <td>ID0033</td>\n",
       "      <td>2021-01-01</td>\n",
       "      <td>Y</td>\n",
       "      <td>3.0</td>\n",
       "      <td>57.0</td>\n",
       "      <td>0 days 13:33:36</td>\n",
       "      <td>Technical Support</td>\n",
       "    </tr>\n",
       "    <tr>\n",
       "      <th>Monday</th>\n",
       "      <td>Stewart</td>\n",
       "      <td>Y</td>\n",
       "      <td>0 days 00:06:50</td>\n",
       "      <td>ID0219</td>\n",
       "      <td>2021-01-04</td>\n",
       "      <td>Y</td>\n",
       "      <td>5.0</td>\n",
       "      <td>120.0</td>\n",
       "      <td>0 days 15:48:58</td>\n",
       "      <td>Admin Support</td>\n",
       "    </tr>\n",
       "    <tr>\n",
       "      <th>Saturday</th>\n",
       "      <td>Greg</td>\n",
       "      <td>Y</td>\n",
       "      <td>0 days 00:06:56</td>\n",
       "      <td>ID0082</td>\n",
       "      <td>2021-01-02</td>\n",
       "      <td>Y</td>\n",
       "      <td>4.0</td>\n",
       "      <td>52.0</td>\n",
       "      <td>0 days 12:00:00</td>\n",
       "      <td>Payment related</td>\n",
       "    </tr>\n",
       "    <tr>\n",
       "      <th>Sunday</th>\n",
       "      <td>Martha</td>\n",
       "      <td>Y</td>\n",
       "      <td>0 days 00:06:59</td>\n",
       "      <td>ID0153</td>\n",
       "      <td>2021-01-03</td>\n",
       "      <td>N</td>\n",
       "      <td>4.0</td>\n",
       "      <td>52.0</td>\n",
       "      <td>0 days 12:54:43</td>\n",
       "      <td>Payment related</td>\n",
       "    </tr>\n",
       "    <tr>\n",
       "      <th>Thursday</th>\n",
       "      <td>Stewart</td>\n",
       "      <td>Y</td>\n",
       "      <td>0 days 00:06:50</td>\n",
       "      <td>ID0362</td>\n",
       "      <td>2021-01-07</td>\n",
       "      <td>Y</td>\n",
       "      <td>3.0</td>\n",
       "      <td>66.0</td>\n",
       "      <td>0 days 11:42:43</td>\n",
       "      <td>Technical Support</td>\n",
       "    </tr>\n",
       "    <tr>\n",
       "      <th>Tuesday</th>\n",
       "      <td>Diane</td>\n",
       "      <td>Y</td>\n",
       "      <td>0 days 00:06:48</td>\n",
       "      <td>ID0264</td>\n",
       "      <td>2021-01-05</td>\n",
       "      <td>Y</td>\n",
       "      <td>3.0</td>\n",
       "      <td>72.0</td>\n",
       "      <td>0 days 15:31:41</td>\n",
       "      <td>Streaming</td>\n",
       "    </tr>\n",
       "    <tr>\n",
       "      <th>Wednesday</th>\n",
       "      <td>Stewart</td>\n",
       "      <td>Y</td>\n",
       "      <td>0 days 00:06:54</td>\n",
       "      <td>ID0336</td>\n",
       "      <td>2021-01-06</td>\n",
       "      <td>Y</td>\n",
       "      <td>5.0</td>\n",
       "      <td>37.0</td>\n",
       "      <td>0 days 17:00:58</td>\n",
       "      <td>Contract related</td>\n",
       "    </tr>\n",
       "  </tbody>\n",
       "</table>\n",
       "</div>"
      ],
      "text/plain": [
       "                   AGENT ANSWERED (Y/N) AVGTALKDURATION CALL ID       DATE  \\\n",
       "DAY_OF_THE_WEEK                                                              \n",
       "Friday             Diane              Y 0 days 00:06:49  ID0033 2021-01-01   \n",
       "Monday           Stewart              Y 0 days 00:06:50  ID0219 2021-01-04   \n",
       "Saturday            Greg              Y 0 days 00:06:56  ID0082 2021-01-02   \n",
       "Sunday            Martha              Y 0 days 00:06:59  ID0153 2021-01-03   \n",
       "Thursday         Stewart              Y 0 days 00:06:50  ID0362 2021-01-07   \n",
       "Tuesday            Diane              Y 0 days 00:06:48  ID0264 2021-01-05   \n",
       "Wednesday        Stewart              Y 0 days 00:06:54  ID0336 2021-01-06   \n",
       "\n",
       "                RESOLVED  SATISFACTION RATING  SPEED OF ANSWER IN SECONDS  \\\n",
       "DAY_OF_THE_WEEK                                                             \n",
       "Friday                 Y                  3.0                        57.0   \n",
       "Monday                 Y                  5.0                       120.0   \n",
       "Saturday               Y                  4.0                        52.0   \n",
       "Sunday                 N                  4.0                        52.0   \n",
       "Thursday               Y                  3.0                        66.0   \n",
       "Tuesday                Y                  3.0                        72.0   \n",
       "Wednesday              Y                  5.0                        37.0   \n",
       "\n",
       "                           TIME              TOPIC  \n",
       "DAY_OF_THE_WEEK                                     \n",
       "Friday          0 days 13:33:36  Technical Support  \n",
       "Monday          0 days 15:48:58      Admin Support  \n",
       "Saturday        0 days 12:00:00    Payment related  \n",
       "Sunday          0 days 12:54:43    Payment related  \n",
       "Thursday        0 days 11:42:43  Technical Support  \n",
       "Tuesday         0 days 15:31:41          Streaming  \n",
       "Wednesday       0 days 17:00:58   Contract related  "
      ]
     },
     "execution_count": 21,
     "metadata": {},
     "output_type": "execute_result"
    }
   ],
   "source": [
    "pd.pivot_table(bbdd, values=['CALL ID', 'AGENT', 'DATE', 'TIME', 'TOPIC', 'ANSWERED (Y/N)', 'RESOLVED', 'SPEED OF ANSWER IN SECONDS', 'AVGTALKDURATION', 'SATISFACTION RATING'], index='DAY_OF_THE_WEEK', aggfunc='first')"
   ]
  },
  {
   "cell_type": "markdown",
   "metadata": {},
   "source": [
    "#### Creada la columna 'DAY_OF_THE_WEEK' podemos visualizar que se dan llamados concretados todos los dias de la semana con lo cual podemos inferir que se presta servicio de lunes a domingo de 9 a 18 horas "
   ]
  },
  {
   "cell_type": "markdown",
   "metadata": {},
   "source": [
    "##     5.  Limpieza & generación de embudo para analisis de datos"
   ]
  },
  {
   "cell_type": "markdown",
   "metadata": {},
   "source": [
    "#### En primer lugar verificamos que no figuren datos existentes en las llamadas concretadas"
   ]
  },
  {
   "cell_type": "code",
   "execution_count": 22,
   "metadata": {},
   "outputs": [
    {
     "data": {
      "text/html": [
       "<div>\n",
       "<style scoped>\n",
       "    .dataframe tbody tr th:only-of-type {\n",
       "        vertical-align: middle;\n",
       "    }\n",
       "\n",
       "    .dataframe tbody tr th {\n",
       "        vertical-align: top;\n",
       "    }\n",
       "\n",
       "    .dataframe thead th {\n",
       "        text-align: right;\n",
       "    }\n",
       "</style>\n",
       "<table border=\"1\" class=\"dataframe\">\n",
       "  <thead>\n",
       "    <tr style=\"text-align: right;\">\n",
       "      <th></th>\n",
       "      <th>CALL ID</th>\n",
       "      <th>AGENT</th>\n",
       "      <th>DATE</th>\n",
       "      <th>TIME</th>\n",
       "      <th>TOPIC</th>\n",
       "      <th>ANSWERED (Y/N)</th>\n",
       "      <th>RESOLVED</th>\n",
       "      <th>SPEED OF ANSWER IN SECONDS</th>\n",
       "      <th>AVGTALKDURATION</th>\n",
       "      <th>SATISFACTION RATING</th>\n",
       "      <th>DAY_OF_THE_WEEK</th>\n",
       "    </tr>\n",
       "    <tr>\n",
       "      <th>INDEX</th>\n",
       "      <th></th>\n",
       "      <th></th>\n",
       "      <th></th>\n",
       "      <th></th>\n",
       "      <th></th>\n",
       "      <th></th>\n",
       "      <th></th>\n",
       "      <th></th>\n",
       "      <th></th>\n",
       "      <th></th>\n",
       "      <th></th>\n",
       "    </tr>\n",
       "  </thead>\n",
       "  <tbody>\n",
       "  </tbody>\n",
       "</table>\n",
       "</div>"
      ],
      "text/plain": [
       "Empty DataFrame\n",
       "Columns: [CALL ID, AGENT, DATE, TIME, TOPIC, ANSWERED (Y/N), RESOLVED, SPEED OF ANSWER IN SECONDS, AVGTALKDURATION, SATISFACTION RATING, DAY_OF_THE_WEEK]\n",
       "Index: []"
      ]
     },
     "execution_count": 22,
     "metadata": {},
     "output_type": "execute_result"
    }
   ],
   "source": [
    "interacciones_no_concretadas = bbdd[bbdd['ANSWERED (Y/N)'] == 'N']\n",
    "interacciones_no_concretadas[interacciones_no_concretadas['AVGTALKDURATION']!='0 days 00:00:00']"
   ]
  },
  {
   "cell_type": "markdown",
   "metadata": {},
   "source": [
    " ###  Una vez corroborado, procederemos separar los dt con el fin de analizaros por 2 partes distintas del embudo:\n",
    " ####  interaciones concretadas = bbdd_Y\n",
    " #### interaciones no  concretadas = bbdd_N\n",
    "\n",
    " "
   ]
  },
  {
   "cell_type": "code",
   "execution_count": 23,
   "metadata": {},
   "outputs": [],
   "source": [
    "bbdd_Y = bbdd[bbdd['ANSWERED (Y/N)'] == 'Y']\n",
    "bbdd_N = bbdd[bbdd['ANSWERED (Y/N)'] == 'N']"
   ]
  },
  {
   "cell_type": "markdown",
   "metadata": {},
   "source": [
    "## 6. Verificación de Nulos en la Base de Datos"
   ]
  },
  {
   "cell_type": "code",
   "execution_count": 24,
   "metadata": {},
   "outputs": [
    {
     "name": "stdout",
     "output_type": "stream",
     "text": [
      "<class 'pandas.core.frame.DataFrame'>\n",
      "Index: 4054 entries, 0 to 4992\n",
      "Data columns (total 11 columns):\n",
      " #   Column                      Non-Null Count  Dtype          \n",
      "---  ------                      --------------  -----          \n",
      " 0   CALL ID                     4054 non-null   object         \n",
      " 1   AGENT                       4054 non-null   object         \n",
      " 2   DATE                        4054 non-null   datetime64[ns] \n",
      " 3   TIME                        4054 non-null   timedelta64[ns]\n",
      " 4   TOPIC                       4054 non-null   object         \n",
      " 5   ANSWERED (Y/N)              4054 non-null   object         \n",
      " 6   RESOLVED                    4054 non-null   object         \n",
      " 7   SPEED OF ANSWER IN SECONDS  4054 non-null   float64        \n",
      " 8   AVGTALKDURATION             4054 non-null   timedelta64[ns]\n",
      " 9   SATISFACTION RATING         4054 non-null   float64        \n",
      " 10  DAY_OF_THE_WEEK             4054 non-null   object         \n",
      "dtypes: datetime64[ns](1), float64(2), object(6), timedelta64[ns](2)\n",
      "memory usage: 380.1+ KB\n"
     ]
    }
   ],
   "source": [
    "bbdd_Y.info()"
   ]
  },
  {
   "cell_type": "code",
   "execution_count": 25,
   "metadata": {},
   "outputs": [
    {
     "data": {
      "text/html": [
       "<div>\n",
       "<style scoped>\n",
       "    .dataframe tbody tr th:only-of-type {\n",
       "        vertical-align: middle;\n",
       "    }\n",
       "\n",
       "    .dataframe tbody tr th {\n",
       "        vertical-align: top;\n",
       "    }\n",
       "\n",
       "    .dataframe thead th {\n",
       "        text-align: right;\n",
       "    }\n",
       "</style>\n",
       "<table border=\"1\" class=\"dataframe\">\n",
       "  <thead>\n",
       "    <tr style=\"text-align: right;\">\n",
       "      <th></th>\n",
       "      <th>CALL ID</th>\n",
       "      <th>AGENT</th>\n",
       "      <th>DATE</th>\n",
       "      <th>TIME</th>\n",
       "      <th>TOPIC</th>\n",
       "      <th>ANSWERED (Y/N)</th>\n",
       "      <th>RESOLVED</th>\n",
       "      <th>SPEED OF ANSWER IN SECONDS</th>\n",
       "      <th>AVGTALKDURATION</th>\n",
       "      <th>SATISFACTION RATING</th>\n",
       "      <th>DAY_OF_THE_WEEK</th>\n",
       "    </tr>\n",
       "    <tr>\n",
       "      <th>INDEX</th>\n",
       "      <th></th>\n",
       "      <th></th>\n",
       "      <th></th>\n",
       "      <th></th>\n",
       "      <th></th>\n",
       "      <th></th>\n",
       "      <th></th>\n",
       "      <th></th>\n",
       "      <th></th>\n",
       "      <th></th>\n",
       "      <th></th>\n",
       "    </tr>\n",
       "  </thead>\n",
       "  <tbody>\n",
       "    <tr>\n",
       "      <th>0</th>\n",
       "      <td>False</td>\n",
       "      <td>False</td>\n",
       "      <td>False</td>\n",
       "      <td>False</td>\n",
       "      <td>False</td>\n",
       "      <td>False</td>\n",
       "      <td>False</td>\n",
       "      <td>False</td>\n",
       "      <td>False</td>\n",
       "      <td>False</td>\n",
       "      <td>False</td>\n",
       "    </tr>\n",
       "    <tr>\n",
       "      <th>1</th>\n",
       "      <td>False</td>\n",
       "      <td>False</td>\n",
       "      <td>False</td>\n",
       "      <td>False</td>\n",
       "      <td>False</td>\n",
       "      <td>False</td>\n",
       "      <td>False</td>\n",
       "      <td>False</td>\n",
       "      <td>False</td>\n",
       "      <td>False</td>\n",
       "      <td>False</td>\n",
       "    </tr>\n",
       "    <tr>\n",
       "      <th>2</th>\n",
       "      <td>False</td>\n",
       "      <td>False</td>\n",
       "      <td>False</td>\n",
       "      <td>False</td>\n",
       "      <td>False</td>\n",
       "      <td>False</td>\n",
       "      <td>False</td>\n",
       "      <td>False</td>\n",
       "      <td>False</td>\n",
       "      <td>False</td>\n",
       "      <td>False</td>\n",
       "    </tr>\n",
       "    <tr>\n",
       "      <th>3</th>\n",
       "      <td>False</td>\n",
       "      <td>False</td>\n",
       "      <td>False</td>\n",
       "      <td>False</td>\n",
       "      <td>False</td>\n",
       "      <td>False</td>\n",
       "      <td>False</td>\n",
       "      <td>False</td>\n",
       "      <td>False</td>\n",
       "      <td>False</td>\n",
       "      <td>False</td>\n",
       "    </tr>\n",
       "    <tr>\n",
       "      <th>4</th>\n",
       "      <td>False</td>\n",
       "      <td>False</td>\n",
       "      <td>False</td>\n",
       "      <td>False</td>\n",
       "      <td>False</td>\n",
       "      <td>False</td>\n",
       "      <td>False</td>\n",
       "      <td>False</td>\n",
       "      <td>False</td>\n",
       "      <td>False</td>\n",
       "      <td>False</td>\n",
       "    </tr>\n",
       "    <tr>\n",
       "      <th>...</th>\n",
       "      <td>...</td>\n",
       "      <td>...</td>\n",
       "      <td>...</td>\n",
       "      <td>...</td>\n",
       "      <td>...</td>\n",
       "      <td>...</td>\n",
       "      <td>...</td>\n",
       "      <td>...</td>\n",
       "      <td>...</td>\n",
       "      <td>...</td>\n",
       "      <td>...</td>\n",
       "    </tr>\n",
       "    <tr>\n",
       "      <th>4988</th>\n",
       "      <td>False</td>\n",
       "      <td>False</td>\n",
       "      <td>False</td>\n",
       "      <td>False</td>\n",
       "      <td>False</td>\n",
       "      <td>False</td>\n",
       "      <td>False</td>\n",
       "      <td>False</td>\n",
       "      <td>False</td>\n",
       "      <td>False</td>\n",
       "      <td>False</td>\n",
       "    </tr>\n",
       "    <tr>\n",
       "      <th>4989</th>\n",
       "      <td>False</td>\n",
       "      <td>False</td>\n",
       "      <td>False</td>\n",
       "      <td>False</td>\n",
       "      <td>False</td>\n",
       "      <td>False</td>\n",
       "      <td>False</td>\n",
       "      <td>False</td>\n",
       "      <td>False</td>\n",
       "      <td>False</td>\n",
       "      <td>False</td>\n",
       "    </tr>\n",
       "    <tr>\n",
       "      <th>4990</th>\n",
       "      <td>False</td>\n",
       "      <td>False</td>\n",
       "      <td>False</td>\n",
       "      <td>False</td>\n",
       "      <td>False</td>\n",
       "      <td>False</td>\n",
       "      <td>False</td>\n",
       "      <td>False</td>\n",
       "      <td>False</td>\n",
       "      <td>False</td>\n",
       "      <td>False</td>\n",
       "    </tr>\n",
       "    <tr>\n",
       "      <th>4991</th>\n",
       "      <td>False</td>\n",
       "      <td>False</td>\n",
       "      <td>False</td>\n",
       "      <td>False</td>\n",
       "      <td>False</td>\n",
       "      <td>False</td>\n",
       "      <td>False</td>\n",
       "      <td>False</td>\n",
       "      <td>False</td>\n",
       "      <td>False</td>\n",
       "      <td>False</td>\n",
       "    </tr>\n",
       "    <tr>\n",
       "      <th>4992</th>\n",
       "      <td>False</td>\n",
       "      <td>False</td>\n",
       "      <td>False</td>\n",
       "      <td>False</td>\n",
       "      <td>False</td>\n",
       "      <td>False</td>\n",
       "      <td>False</td>\n",
       "      <td>False</td>\n",
       "      <td>False</td>\n",
       "      <td>False</td>\n",
       "      <td>False</td>\n",
       "    </tr>\n",
       "  </tbody>\n",
       "</table>\n",
       "<p>4054 rows × 11 columns</p>\n",
       "</div>"
      ],
      "text/plain": [
       "       CALL ID  AGENT   DATE   TIME  TOPIC  ANSWERED (Y/N)  RESOLVED  \\\n",
       "INDEX                                                                  \n",
       "0        False  False  False  False  False           False     False   \n",
       "1        False  False  False  False  False           False     False   \n",
       "2        False  False  False  False  False           False     False   \n",
       "3        False  False  False  False  False           False     False   \n",
       "4        False  False  False  False  False           False     False   \n",
       "...        ...    ...    ...    ...    ...             ...       ...   \n",
       "4988     False  False  False  False  False           False     False   \n",
       "4989     False  False  False  False  False           False     False   \n",
       "4990     False  False  False  False  False           False     False   \n",
       "4991     False  False  False  False  False           False     False   \n",
       "4992     False  False  False  False  False           False     False   \n",
       "\n",
       "       SPEED OF ANSWER IN SECONDS  AVGTALKDURATION  SATISFACTION RATING  \\\n",
       "INDEX                                                                     \n",
       "0                           False            False                False   \n",
       "1                           False            False                False   \n",
       "2                           False            False                False   \n",
       "3                           False            False                False   \n",
       "4                           False            False                False   \n",
       "...                           ...              ...                  ...   \n",
       "4988                        False            False                False   \n",
       "4989                        False            False                False   \n",
       "4990                        False            False                False   \n",
       "4991                        False            False                False   \n",
       "4992                        False            False                False   \n",
       "\n",
       "       DAY_OF_THE_WEEK  \n",
       "INDEX                   \n",
       "0                False  \n",
       "1                False  \n",
       "2                False  \n",
       "3                False  \n",
       "4                False  \n",
       "...                ...  \n",
       "4988             False  \n",
       "4989             False  \n",
       "4990             False  \n",
       "4991             False  \n",
       "4992             False  \n",
       "\n",
       "[4054 rows x 11 columns]"
      ]
     },
     "execution_count": 25,
     "metadata": {},
     "output_type": "execute_result"
    }
   ],
   "source": [
    "bbdd_Y.isna()"
   ]
  },
  {
   "cell_type": "code",
   "execution_count": 26,
   "metadata": {},
   "outputs": [
    {
     "data": {
      "text/html": [
       "<div>\n",
       "<style scoped>\n",
       "    .dataframe tbody tr th:only-of-type {\n",
       "        vertical-align: middle;\n",
       "    }\n",
       "\n",
       "    .dataframe tbody tr th {\n",
       "        vertical-align: top;\n",
       "    }\n",
       "\n",
       "    .dataframe thead th {\n",
       "        text-align: right;\n",
       "    }\n",
       "</style>\n",
       "<table border=\"1\" class=\"dataframe\">\n",
       "  <thead>\n",
       "    <tr style=\"text-align: right;\">\n",
       "      <th></th>\n",
       "      <th>CALL ID</th>\n",
       "      <th>AGENT</th>\n",
       "      <th>DATE</th>\n",
       "      <th>TIME</th>\n",
       "      <th>TOPIC</th>\n",
       "      <th>ANSWERED (Y/N)</th>\n",
       "      <th>RESOLVED</th>\n",
       "      <th>SPEED OF ANSWER IN SECONDS</th>\n",
       "      <th>AVGTALKDURATION</th>\n",
       "      <th>SATISFACTION RATING</th>\n",
       "      <th>DAY_OF_THE_WEEK</th>\n",
       "    </tr>\n",
       "    <tr>\n",
       "      <th>INDEX</th>\n",
       "      <th></th>\n",
       "      <th></th>\n",
       "      <th></th>\n",
       "      <th></th>\n",
       "      <th></th>\n",
       "      <th></th>\n",
       "      <th></th>\n",
       "      <th></th>\n",
       "      <th></th>\n",
       "      <th></th>\n",
       "      <th></th>\n",
       "    </tr>\n",
       "  </thead>\n",
       "  <tbody>\n",
       "    <tr>\n",
       "      <th>0</th>\n",
       "      <td>False</td>\n",
       "      <td>False</td>\n",
       "      <td>False</td>\n",
       "      <td>False</td>\n",
       "      <td>False</td>\n",
       "      <td>False</td>\n",
       "      <td>False</td>\n",
       "      <td>False</td>\n",
       "      <td>False</td>\n",
       "      <td>False</td>\n",
       "      <td>False</td>\n",
       "    </tr>\n",
       "    <tr>\n",
       "      <th>1</th>\n",
       "      <td>False</td>\n",
       "      <td>False</td>\n",
       "      <td>False</td>\n",
       "      <td>False</td>\n",
       "      <td>False</td>\n",
       "      <td>False</td>\n",
       "      <td>False</td>\n",
       "      <td>False</td>\n",
       "      <td>False</td>\n",
       "      <td>False</td>\n",
       "      <td>False</td>\n",
       "    </tr>\n",
       "    <tr>\n",
       "      <th>2</th>\n",
       "      <td>False</td>\n",
       "      <td>False</td>\n",
       "      <td>False</td>\n",
       "      <td>False</td>\n",
       "      <td>False</td>\n",
       "      <td>False</td>\n",
       "      <td>False</td>\n",
       "      <td>False</td>\n",
       "      <td>False</td>\n",
       "      <td>False</td>\n",
       "      <td>False</td>\n",
       "    </tr>\n",
       "    <tr>\n",
       "      <th>3</th>\n",
       "      <td>False</td>\n",
       "      <td>False</td>\n",
       "      <td>False</td>\n",
       "      <td>False</td>\n",
       "      <td>False</td>\n",
       "      <td>False</td>\n",
       "      <td>False</td>\n",
       "      <td>False</td>\n",
       "      <td>False</td>\n",
       "      <td>False</td>\n",
       "      <td>False</td>\n",
       "    </tr>\n",
       "    <tr>\n",
       "      <th>4</th>\n",
       "      <td>False</td>\n",
       "      <td>False</td>\n",
       "      <td>False</td>\n",
       "      <td>False</td>\n",
       "      <td>False</td>\n",
       "      <td>False</td>\n",
       "      <td>False</td>\n",
       "      <td>False</td>\n",
       "      <td>False</td>\n",
       "      <td>False</td>\n",
       "      <td>False</td>\n",
       "    </tr>\n",
       "    <tr>\n",
       "      <th>...</th>\n",
       "      <td>...</td>\n",
       "      <td>...</td>\n",
       "      <td>...</td>\n",
       "      <td>...</td>\n",
       "      <td>...</td>\n",
       "      <td>...</td>\n",
       "      <td>...</td>\n",
       "      <td>...</td>\n",
       "      <td>...</td>\n",
       "      <td>...</td>\n",
       "      <td>...</td>\n",
       "    </tr>\n",
       "    <tr>\n",
       "      <th>4988</th>\n",
       "      <td>False</td>\n",
       "      <td>False</td>\n",
       "      <td>False</td>\n",
       "      <td>False</td>\n",
       "      <td>False</td>\n",
       "      <td>False</td>\n",
       "      <td>False</td>\n",
       "      <td>False</td>\n",
       "      <td>False</td>\n",
       "      <td>False</td>\n",
       "      <td>False</td>\n",
       "    </tr>\n",
       "    <tr>\n",
       "      <th>4989</th>\n",
       "      <td>False</td>\n",
       "      <td>False</td>\n",
       "      <td>False</td>\n",
       "      <td>False</td>\n",
       "      <td>False</td>\n",
       "      <td>False</td>\n",
       "      <td>False</td>\n",
       "      <td>False</td>\n",
       "      <td>False</td>\n",
       "      <td>False</td>\n",
       "      <td>False</td>\n",
       "    </tr>\n",
       "    <tr>\n",
       "      <th>4990</th>\n",
       "      <td>False</td>\n",
       "      <td>False</td>\n",
       "      <td>False</td>\n",
       "      <td>False</td>\n",
       "      <td>False</td>\n",
       "      <td>False</td>\n",
       "      <td>False</td>\n",
       "      <td>False</td>\n",
       "      <td>False</td>\n",
       "      <td>False</td>\n",
       "      <td>False</td>\n",
       "    </tr>\n",
       "    <tr>\n",
       "      <th>4991</th>\n",
       "      <td>False</td>\n",
       "      <td>False</td>\n",
       "      <td>False</td>\n",
       "      <td>False</td>\n",
       "      <td>False</td>\n",
       "      <td>False</td>\n",
       "      <td>False</td>\n",
       "      <td>False</td>\n",
       "      <td>False</td>\n",
       "      <td>False</td>\n",
       "      <td>False</td>\n",
       "    </tr>\n",
       "    <tr>\n",
       "      <th>4992</th>\n",
       "      <td>False</td>\n",
       "      <td>False</td>\n",
       "      <td>False</td>\n",
       "      <td>False</td>\n",
       "      <td>False</td>\n",
       "      <td>False</td>\n",
       "      <td>False</td>\n",
       "      <td>False</td>\n",
       "      <td>False</td>\n",
       "      <td>False</td>\n",
       "      <td>False</td>\n",
       "    </tr>\n",
       "  </tbody>\n",
       "</table>\n",
       "<p>4054 rows × 11 columns</p>\n",
       "</div>"
      ],
      "text/plain": [
       "       CALL ID  AGENT   DATE   TIME  TOPIC  ANSWERED (Y/N)  RESOLVED  \\\n",
       "INDEX                                                                  \n",
       "0        False  False  False  False  False           False     False   \n",
       "1        False  False  False  False  False           False     False   \n",
       "2        False  False  False  False  False           False     False   \n",
       "3        False  False  False  False  False           False     False   \n",
       "4        False  False  False  False  False           False     False   \n",
       "...        ...    ...    ...    ...    ...             ...       ...   \n",
       "4988     False  False  False  False  False           False     False   \n",
       "4989     False  False  False  False  False           False     False   \n",
       "4990     False  False  False  False  False           False     False   \n",
       "4991     False  False  False  False  False           False     False   \n",
       "4992     False  False  False  False  False           False     False   \n",
       "\n",
       "       SPEED OF ANSWER IN SECONDS  AVGTALKDURATION  SATISFACTION RATING  \\\n",
       "INDEX                                                                     \n",
       "0                           False            False                False   \n",
       "1                           False            False                False   \n",
       "2                           False            False                False   \n",
       "3                           False            False                False   \n",
       "4                           False            False                False   \n",
       "...                           ...              ...                  ...   \n",
       "4988                        False            False                False   \n",
       "4989                        False            False                False   \n",
       "4990                        False            False                False   \n",
       "4991                        False            False                False   \n",
       "4992                        False            False                False   \n",
       "\n",
       "       DAY_OF_THE_WEEK  \n",
       "INDEX                   \n",
       "0                False  \n",
       "1                False  \n",
       "2                False  \n",
       "3                False  \n",
       "4                False  \n",
       "...                ...  \n",
       "4988             False  \n",
       "4989             False  \n",
       "4990             False  \n",
       "4991             False  \n",
       "4992             False  \n",
       "\n",
       "[4054 rows x 11 columns]"
      ]
     },
     "execution_count": 26,
     "metadata": {},
     "output_type": "execute_result"
    }
   ],
   "source": [
    "bbdd_Y.isnull()"
   ]
  },
  {
   "cell_type": "markdown",
   "metadata": {},
   "source": [
    "#### En las interacciones concretadas no existen nulos "
   ]
  },
  {
   "cell_type": "markdown",
   "metadata": {},
   "source": [
    "## 7.Verificación de duplicados"
   ]
  },
  {
   "cell_type": "markdown",
   "metadata": {},
   "source": [
    "#### inicialmente corroboramos si hay algun duplicado a nivel de la base en general y luego ponemos foco en la columna CALL ID (es la unica que no deberia tener duplicados)"
   ]
  },
  {
   "cell_type": "code",
   "execution_count": 27,
   "metadata": {},
   "outputs": [
    {
     "data": {
      "text/plain": [
       "0"
      ]
     },
     "execution_count": 27,
     "metadata": {},
     "output_type": "execute_result"
    }
   ],
   "source": [
    "bbdd_Y[bbdd_Y.duplicated()].shape[0]"
   ]
  },
  {
   "cell_type": "code",
   "execution_count": 28,
   "metadata": {},
   "outputs": [
    {
     "data": {
      "text/plain": [
       "0"
      ]
     },
     "execution_count": 28,
     "metadata": {},
     "output_type": "execute_result"
    }
   ],
   "source": [
    "bbdd_N[bbdd_N.duplicated()].shape[0]"
   ]
  },
  {
   "cell_type": "code",
   "execution_count": 29,
   "metadata": {},
   "outputs": [
    {
     "data": {
      "text/plain": [
       "0"
      ]
     },
     "execution_count": 29,
     "metadata": {},
     "output_type": "execute_result"
    }
   ],
   "source": [
    "bbdd_Y[bbdd_Y['CALL ID'].duplicated()].shape[0]"
   ]
  },
  {
   "cell_type": "code",
   "execution_count": 30,
   "metadata": {},
   "outputs": [
    {
     "data": {
      "text/plain": [
       "0"
      ]
     },
     "execution_count": 30,
     "metadata": {},
     "output_type": "execute_result"
    }
   ],
   "source": [
    "bbdd_N[bbdd_N['CALL ID'].duplicated()].shape[0]"
   ]
  },
  {
   "cell_type": "markdown",
   "metadata": {},
   "source": [
    "#### Las bases no dispone de duplicados"
   ]
  },
  {
   "cell_type": "markdown",
   "metadata": {},
   "source": [
    "## 8.Verificación de absurdos"
   ]
  },
  {
   "cell_type": "markdown",
   "metadata": {},
   "source": [
    "#### Recurimos a analizar los valores unicos de cada columna con el fin de visualizar si algun dato fuera absurdo"
   ]
  },
  {
   "cell_type": "code",
   "execution_count": 31,
   "metadata": {},
   "outputs": [],
   "source": [
    "def valores_unicos(bbdd_Y):\n",
    "    detalle = {}\n",
    "    for columna in bbdd.columns:\n",
    "        valores_unicos = bbdd_Y[columna].unique()\n",
    "        detalle[columna] = valores_unicos\n",
    "    return detalle    "
   ]
  },
  {
   "cell_type": "code",
   "execution_count": 32,
   "metadata": {},
   "outputs": [
    {
     "data": {
      "text/plain": [
       "{'CALL ID': array(['ID0033', 'ID0056', 'ID0039', ..., 'ID4998', 'ID4999', 'ID4978'],\n",
       "       dtype=object),\n",
       " 'AGENT': array(['Diane', 'Dan', 'Stewart', 'Greg', 'Martha', 'Becky', 'Joe', 'Jim'],\n",
       "       dtype=object),\n",
       " 'DATE': <DatetimeArray>\n",
       " ['2021-01-01 00:00:00', '2021-01-02 00:00:00', '2021-01-03 00:00:00',\n",
       "  '2021-01-04 00:00:00', '2021-01-05 00:00:00', '2021-01-06 00:00:00',\n",
       "  '2021-01-07 00:00:00', '2021-01-08 00:00:00', '2021-01-09 00:00:00',\n",
       "  '2021-01-10 00:00:00', '2021-01-11 00:00:00', '2021-01-12 00:00:00',\n",
       "  '2021-01-13 00:00:00', '2021-01-14 00:00:00', '2021-01-15 00:00:00',\n",
       "  '2021-01-16 00:00:00', '2021-01-17 00:00:00', '2021-01-18 00:00:00',\n",
       "  '2021-01-19 00:00:00', '2021-01-20 00:00:00', '2021-01-21 00:00:00',\n",
       "  '2021-01-22 00:00:00', '2021-01-23 00:00:00', '2021-01-24 00:00:00',\n",
       "  '2021-01-25 00:00:00', '2021-01-26 00:00:00', '2021-01-27 00:00:00',\n",
       "  '2021-01-28 00:00:00', '2021-01-29 00:00:00', '2021-01-30 00:00:00',\n",
       "  '2021-01-31 00:00:00', '2021-02-01 00:00:00', '2021-02-02 00:00:00',\n",
       "  '2021-02-03 00:00:00', '2021-02-04 00:00:00', '2021-02-05 00:00:00',\n",
       "  '2021-02-06 00:00:00', '2021-02-07 00:00:00', '2021-02-08 00:00:00',\n",
       "  '2021-02-09 00:00:00', '2021-02-10 00:00:00', '2021-02-11 00:00:00',\n",
       "  '2021-02-12 00:00:00', '2021-02-13 00:00:00', '2021-02-14 00:00:00',\n",
       "  '2021-02-15 00:00:00', '2021-02-16 00:00:00', '2021-02-17 00:00:00',\n",
       "  '2021-02-18 00:00:00', '2021-02-19 00:00:00', '2021-02-20 00:00:00',\n",
       "  '2021-02-21 00:00:00', '2021-02-22 00:00:00', '2021-02-23 00:00:00',\n",
       "  '2021-02-24 00:00:00', '2021-02-25 00:00:00', '2021-02-26 00:00:00',\n",
       "  '2021-02-27 00:00:00', '2021-02-28 00:00:00', '2021-03-01 00:00:00',\n",
       "  '2021-03-02 00:00:00', '2021-03-03 00:00:00', '2021-03-04 00:00:00',\n",
       "  '2021-03-05 00:00:00', '2021-03-06 00:00:00', '2021-03-07 00:00:00',\n",
       "  '2021-03-08 00:00:00', '2021-03-09 00:00:00', '2021-03-10 00:00:00',\n",
       "  '2021-03-11 00:00:00', '2021-03-12 00:00:00', '2021-03-13 00:00:00',\n",
       "  '2021-03-14 00:00:00', '2021-03-15 00:00:00', '2021-03-16 00:00:00',\n",
       "  '2021-03-17 00:00:00', '2021-03-18 00:00:00', '2021-03-19 00:00:00',\n",
       "  '2021-03-20 00:00:00', '2021-03-21 00:00:00', '2021-03-22 00:00:00',\n",
       "  '2021-03-23 00:00:00', '2021-03-24 00:00:00', '2021-03-25 00:00:00',\n",
       "  '2021-03-26 00:00:00', '2021-03-27 00:00:00', '2021-03-28 00:00:00',\n",
       "  '2021-03-29 00:00:00', '2021-03-30 00:00:00', '2021-03-31 00:00:00']\n",
       " Length: 90, dtype: datetime64[ns],\n",
       " 'TIME': <TimedeltaArray>\n",
       " ['0 days 13:33:36', '0 days 17:44:10', '0 days 14:38:24', '0 days 11:13:55',\n",
       "  '0 days 14:47:02', '0 days 12:40:19', '0 days 12:02:53', '0 days 11:52:48',\n",
       "  '0 days 11:57:07', '0 days 11:55:41',\n",
       "  ...\n",
       "  '0 days 16:53:46', '0 days 15:07:12', '0 days 17:45:36', '0 days 10:36:29',\n",
       "  '0 days 16:59:31', '0 days 14:06:43', '0 days 15:17:17', '0 days 14:41:17',\n",
       "  '0 days 17:51:22', '0 days 16:33:36']\n",
       " Length: 375, dtype: timedelta64[ns],\n",
       " 'TOPIC': array(['Technical Support', 'Streaming', 'Contract related',\n",
       "        'Admin Support', 'Payment related'], dtype=object),\n",
       " 'ANSWERED (Y/N)': array(['Y'], dtype=object),\n",
       " 'RESOLVED': array(['Y', 'N'], dtype=object),\n",
       " 'SPEED OF ANSWER IN SECONDS': array([ 57.,  83.,  74.,  15.,  45., 107.,  89.,  63.,  68.,  25.,  22.,\n",
       "        100.,  97.,  70.,  39.,  48.,  24., 104.,  84.,  98.,  51., 119.,\n",
       "         49., 101., 109.,  10., 106.,  27., 122.,  53.,  35.,  13.,  20.,\n",
       "         78.,  95.,  52.,  50.,  96.,  33.,  38.,  90.,  17.,  73.,  65.,\n",
       "        113.,  55.,  46.,  79.,  23., 121.,  69.,  32.,  58., 112.,  56.,\n",
       "         19., 120., 118., 125.,  80.,  43.,  14.,  67., 124., 105.,  99.,\n",
       "         44.,  86., 102.,  88.,  29.,  31., 117.,  77., 123., 103.,  42.,\n",
       "         93., 110.,  30.,  26.,  81.,  82.,  92.,  28.,  75.,  71.,  72.,\n",
       "         59.,  62.,  47.,  94.,  11., 116.,  60.,  16.,  36.,  18.,  37.,\n",
       "         54., 108.,  12., 115.,  66.,  76.,  40., 114.,  85.,  21.,  87.,\n",
       "        111.,  41.,  61.,  34.,  64.,  91.]),\n",
       " 'AVGTALKDURATION': <TimedeltaArray>\n",
       " ['0 days 00:06:49', '0 days 00:06:45', '0 days 00:06:41', '0 days 00:06:38',\n",
       "  '0 days 00:06:21', '0 days 00:05:55', '0 days 00:05:50', '0 days 00:05:44',\n",
       "  '0 days 00:05:32', '0 days 00:05:26',\n",
       "  ...\n",
       "  '0 days 00:03:30', '0 days 00:01:54', '0 days 00:06:52', '0 days 00:02:53',\n",
       "  '0 days 00:06:17', '0 days 00:02:12', '0 days 00:06:39', '0 days 00:06:26',\n",
       "  '0 days 00:00:30', '0 days 00:04:56']\n",
       " Length: 391, dtype: timedelta64[ns],\n",
       " 'SATISFACTION RATING': array([3., 4., 1., 5., 2.]),\n",
       " 'DAY_OF_THE_WEEK': array(['Friday', 'Saturday', 'Sunday', 'Monday', 'Tuesday', 'Wednesday',\n",
       "        'Thursday'], dtype=object)}"
      ]
     },
     "execution_count": 32,
     "metadata": {},
     "output_type": "execute_result"
    }
   ],
   "source": [
    "detalle_de_valores_unicos = valores_unicos(bbdd_Y)\n",
    "detalle_de_valores_unicos"
   ]
  },
  {
   "cell_type": "markdown",
   "metadata": {},
   "source": [
    "#### Analizamos absurdos en la columna TIME con el fin de visualizar si existe alguna llamada fuera del horario de atención"
   ]
  },
  {
   "cell_type": "code",
   "execution_count": 33,
   "metadata": {},
   "outputs": [
    {
     "name": "stdout",
     "output_type": "stream",
     "text": [
      "INDEX\n",
      "1970-01-01 00:00:00.000000000    False\n",
      "1970-01-01 00:00:00.000000001    False\n",
      "1970-01-01 00:00:00.000000002    False\n",
      "1970-01-01 00:00:00.000000003    False\n",
      "1970-01-01 00:00:00.000000004    False\n",
      "                                 ...  \n",
      "1970-01-01 00:00:00.000004988    False\n",
      "1970-01-01 00:00:00.000004989    False\n",
      "1970-01-01 00:00:00.000004990    False\n",
      "1970-01-01 00:00:00.000004991    False\n",
      "1970-01-01 00:00:00.000004992    False\n",
      "Name: TIME, Length: 4054, dtype: bool\n"
     ]
    },
    {
     "name": "stderr",
     "output_type": "stream",
     "text": [
      "C:\\Users\\Lucia\\AppData\\Local\\Temp\\ipykernel_25792\\1592723899.py:3: FutureWarning: Operation between non boolean Series with different indexes will no longer return a boolean result in a future version. Cast both Series to object type to maintain the prior behavior.\n",
      "  Absurdos_TIME = bbdd_Y['TIME'].between_time('18:00:00', '23:59:00') | (bbdd_Y['TIME'].between_time('00:00:00', '09:00:00'))\n"
     ]
    }
   ],
   "source": [
    "bbdd_Y.index = pd.to_datetime(bbdd_Y.index)\n",
    "\n",
    "Absurdos_TIME = bbdd_Y['TIME'].between_time('18:00:00', '23:59:00') | (bbdd_Y['TIME'].between_time('00:00:00', '09:00:00'))\n",
    "print(Absurdos_TIME)"
   ]
  },
  {
   "cell_type": "code",
   "execution_count": 34,
   "metadata": {},
   "outputs": [],
   "source": [
    "bbdd_Y.reset_index(drop=True, inplace=True)"
   ]
  },
  {
   "cell_type": "markdown",
   "metadata": {},
   "source": [
    "##  9.Se reordenana las columnas, con el fin de agilizar la visualización"
   ]
  },
  {
   "cell_type": "code",
   "execution_count": 35,
   "metadata": {},
   "outputs": [],
   "source": [
    "bbdd_Y = bbdd_Y[['CALL ID', 'AGENT', 'DATE','DAY_OF_THE_WEEK', 'TIME', 'TOPIC', 'ANSWERED (Y/N)',\n",
    "       'RESOLVED', 'SPEED OF ANSWER IN SECONDS', 'AVGTALKDURATION',\n",
    "       'SATISFACTION RATING']]"
   ]
  },
  {
   "cell_type": "code",
   "execution_count": 36,
   "metadata": {},
   "outputs": [],
   "source": [
    "bbdd_N = bbdd_N[['CALL ID', 'AGENT', 'DATE','DAY_OF_THE_WEEK', 'TIME', 'TOPIC', 'ANSWERED (Y/N)',\n",
    "       'RESOLVED', 'SPEED OF ANSWER IN SECONDS', 'AVGTALKDURATION',\n",
    "       'SATISFACTION RATING']]"
   ]
  },
  {
   "cell_type": "code",
   "execution_count": 37,
   "metadata": {},
   "outputs": [],
   "source": [
    "bbdd = bbdd[['CALL ID', 'AGENT', 'DATE','DAY_OF_THE_WEEK', 'TIME', 'TOPIC', 'ANSWERED (Y/N)',\n",
    "       'RESOLVED', 'SPEED OF ANSWER IN SECONDS', 'AVGTALKDURATION',\n",
    "       'SATISFACTION RATING']]"
   ]
  },
  {
   "cell_type": "code",
   "execution_count": 38,
   "metadata": {},
   "outputs": [
    {
     "data": {
      "text/html": [
       "<div>\n",
       "<style scoped>\n",
       "    .dataframe tbody tr th:only-of-type {\n",
       "        vertical-align: middle;\n",
       "    }\n",
       "\n",
       "    .dataframe tbody tr th {\n",
       "        vertical-align: top;\n",
       "    }\n",
       "\n",
       "    .dataframe thead th {\n",
       "        text-align: right;\n",
       "    }\n",
       "</style>\n",
       "<table border=\"1\" class=\"dataframe\">\n",
       "  <thead>\n",
       "    <tr style=\"text-align: right;\">\n",
       "      <th></th>\n",
       "      <th>CALL ID</th>\n",
       "      <th>AGENT</th>\n",
       "      <th>DATE</th>\n",
       "      <th>DAY_OF_THE_WEEK</th>\n",
       "      <th>TIME</th>\n",
       "      <th>TOPIC</th>\n",
       "      <th>ANSWERED (Y/N)</th>\n",
       "      <th>RESOLVED</th>\n",
       "      <th>SPEED OF ANSWER IN SECONDS</th>\n",
       "      <th>AVGTALKDURATION</th>\n",
       "      <th>SATISFACTION RATING</th>\n",
       "    </tr>\n",
       "  </thead>\n",
       "  <tbody>\n",
       "    <tr>\n",
       "      <th>0</th>\n",
       "      <td>ID0033</td>\n",
       "      <td>Diane</td>\n",
       "      <td>2021-01-01</td>\n",
       "      <td>Friday</td>\n",
       "      <td>0 days 13:33:36</td>\n",
       "      <td>Technical Support</td>\n",
       "      <td>Y</td>\n",
       "      <td>Y</td>\n",
       "      <td>57.0</td>\n",
       "      <td>0 days 00:06:49</td>\n",
       "      <td>3.0</td>\n",
       "    </tr>\n",
       "  </tbody>\n",
       "</table>\n",
       "</div>"
      ],
      "text/plain": [
       "  CALL ID  AGENT       DATE DAY_OF_THE_WEEK            TIME  \\\n",
       "0  ID0033  Diane 2021-01-01          Friday 0 days 13:33:36   \n",
       "\n",
       "               TOPIC ANSWERED (Y/N) RESOLVED  SPEED OF ANSWER IN SECONDS  \\\n",
       "0  Technical Support              Y        Y                        57.0   \n",
       "\n",
       "  AVGTALKDURATION  SATISFACTION RATING  \n",
       "0 0 days 00:06:49                  3.0  "
      ]
     },
     "execution_count": 38,
     "metadata": {},
     "output_type": "execute_result"
    }
   ],
   "source": [
    "bbdd_Y.head(1)"
   ]
  },
  {
   "cell_type": "markdown",
   "metadata": {},
   "source": [
    "## 10.Se procede a guardar las bases de datos depuradas en nuevos CSV con el fin de poder llamarla en nuestros futuros analisis y no tener que correr todos las customizaciones"
   ]
  },
  {
   "cell_type": "code",
   "execution_count": 39,
   "metadata": {},
   "outputs": [],
   "source": [
    "bbdd_Y.to_csv('telecom_Y.csv', index=False)\n",
    "bbdd_N.to_csv('telecom_N.csv', index=False)\n",
    "bbdd.to_csv('telecom.csv', index=False)"
   ]
  },
  {
   "cell_type": "markdown",
   "metadata": {},
   "source": [
    "# **4-ESTADÍSTICA DESCRIPTIVA & AS-IS DE LOS DATOS**\n"
   ]
  },
  {
   "cell_type": "markdown",
   "metadata": {},
   "source": [
    "### Realizaremos los siguientes análisis y set up:\n",
    "\n",
    "    0.  Importación de Librerías\n",
    "    1.  Lectura de mis Bases de datos\n",
    "    2.  Detalle & Entendimiento de las columnas\n",
    "    3.  Análisis descriptivo & Insights preliminares\n",
    "    4.  Correlación de los datos\n",
    "    5.  Análisis Univariante & distribución de las llamadas\n",
    "    6.  Análisis Bivariante "
   ]
  },
  {
   "cell_type": "markdown",
   "metadata": {},
   "source": [
    "## 0.Importación de librerias"
   ]
  },
  {
   "cell_type": "code",
   "execution_count": 40,
   "metadata": {},
   "outputs": [],
   "source": [
    "import pandas as pd\n",
    "import numpy as np\n",
    "import matplotlib.pyplot as plt\n",
    "import seaborn as sns\n",
    "import scipy.stats as stats"
   ]
  },
  {
   "cell_type": "markdown",
   "metadata": {},
   "source": [
    "## 1.Lectura de mi base de datos"
   ]
  },
  {
   "cell_type": "markdown",
   "metadata": {},
   "source": [
    "#### Lectura de la base de datos completa(interacciones concretadas y no concretadas)"
   ]
  },
  {
   "cell_type": "code",
   "execution_count": 41,
   "metadata": {},
   "outputs": [],
   "source": [
    "Telecom_en_bruto = pd.read_csv(r'C:\\Users\\Lucia\\Desktop\\bootcamp\\Proyecto_EDA_Pablo_Mendez\\telecom.csv',\n",
    "                      parse_dates=['DATE'])"
   ]
  },
  {
   "cell_type": "markdown",
   "metadata": {},
   "source": [
    "#### Lectura de la base de datos completa de las interacciones concretadas"
   ]
  },
  {
   "cell_type": "code",
   "execution_count": 42,
   "metadata": {},
   "outputs": [],
   "source": [
    "Telecom = pd.read_csv(r'C:\\Users\\Lucia\\Desktop\\bootcamp\\Proyecto_EDA_Pablo_Mendez\\telecom_Y.csv',\n",
    "                      parse_dates=['DATE'])"
   ]
  },
  {
   "cell_type": "markdown",
   "metadata": {},
   "source": [
    "#### Lectura de la base de datos completa de las interacciones **NO** concretadas"
   ]
  },
  {
   "cell_type": "code",
   "execution_count": 43,
   "metadata": {},
   "outputs": [],
   "source": [
    "Telecom_N = pd.read_csv(r'C:\\Users\\Lucia\\Desktop\\bootcamp\\Proyecto_EDA_Pablo_Mendez\\telecom_N.csv',\n",
    "                      parse_dates=['DATE'])"
   ]
  },
  {
   "cell_type": "markdown",
   "metadata": {},
   "source": [
    "##### Corroboramos que al guardarse nuevamente en un CSV las columnas se guardan con el tipo de dato que sea mas simple, con lo cual debemos transformar nuevamente las columnas que correspondan a otro tipo, en este caso :\n",
    "\n",
    "#### TIME y AVGTALKDURATION                                 "
   ]
  },
  {
   "cell_type": "code",
   "execution_count": 44,
   "metadata": {},
   "outputs": [
    {
     "name": "stdout",
     "output_type": "stream",
     "text": [
      "<class 'pandas.core.frame.DataFrame'>\n",
      "RangeIndex: 4054 entries, 0 to 4053\n",
      "Data columns (total 11 columns):\n",
      " #   Column                      Non-Null Count  Dtype         \n",
      "---  ------                      --------------  -----         \n",
      " 0   CALL ID                     4054 non-null   object        \n",
      " 1   AGENT                       4054 non-null   object        \n",
      " 2   DATE                        4054 non-null   datetime64[ns]\n",
      " 3   DAY_OF_THE_WEEK             4054 non-null   object        \n",
      " 4   TIME                        4054 non-null   object        \n",
      " 5   TOPIC                       4054 non-null   object        \n",
      " 6   ANSWERED (Y/N)              4054 non-null   object        \n",
      " 7   RESOLVED                    4054 non-null   object        \n",
      " 8   SPEED OF ANSWER IN SECONDS  4054 non-null   float64       \n",
      " 9   AVGTALKDURATION             4054 non-null   object        \n",
      " 10  SATISFACTION RATING         4054 non-null   float64       \n",
      "dtypes: datetime64[ns](1), float64(2), object(8)\n",
      "memory usage: 348.5+ KB\n"
     ]
    }
   ],
   "source": [
    "Telecom.info()"
   ]
  },
  {
   "cell_type": "code",
   "execution_count": 45,
   "metadata": {},
   "outputs": [
    {
     "name": "stdout",
     "output_type": "stream",
     "text": [
      "<class 'pandas.core.frame.DataFrame'>\n",
      "RangeIndex: 5000 entries, 0 to 4999\n",
      "Data columns (total 11 columns):\n",
      " #   Column                      Non-Null Count  Dtype          \n",
      "---  ------                      --------------  -----          \n",
      " 0   CALL ID                     5000 non-null   object         \n",
      " 1   AGENT                       5000 non-null   object         \n",
      " 2   DATE                        5000 non-null   datetime64[ns] \n",
      " 3   DAY_OF_THE_WEEK             5000 non-null   object         \n",
      " 4   TIME                        5000 non-null   timedelta64[ns]\n",
      " 5   TOPIC                       5000 non-null   object         \n",
      " 6   ANSWERED (Y/N)              5000 non-null   object         \n",
      " 7   RESOLVED                    5000 non-null   object         \n",
      " 8   SPEED OF ANSWER IN SECONDS  4054 non-null   float64        \n",
      " 9   AVGTALKDURATION             5000 non-null   timedelta64[ns]\n",
      " 10  SATISFACTION RATING         4054 non-null   float64        \n",
      "dtypes: datetime64[ns](1), float64(2), object(6), timedelta64[ns](2)\n",
      "memory usage: 429.8+ KB\n"
     ]
    }
   ],
   "source": [
    "Telecom_en_bruto['TIME'] = pd.to_timedelta(Telecom_en_bruto['TIME'])\n",
    "Telecom_en_bruto['AVGTALKDURATION'] = pd.to_timedelta(Telecom_en_bruto['AVGTALKDURATION'])\n",
    "Telecom_en_bruto.info()"
   ]
  },
  {
   "cell_type": "code",
   "execution_count": 46,
   "metadata": {},
   "outputs": [
    {
     "name": "stdout",
     "output_type": "stream",
     "text": [
      "<class 'pandas.core.frame.DataFrame'>\n",
      "RangeIndex: 946 entries, 0 to 945\n",
      "Data columns (total 11 columns):\n",
      " #   Column                      Non-Null Count  Dtype          \n",
      "---  ------                      --------------  -----          \n",
      " 0   CALL ID                     946 non-null    object         \n",
      " 1   AGENT                       946 non-null    object         \n",
      " 2   DATE                        946 non-null    datetime64[ns] \n",
      " 3   DAY_OF_THE_WEEK             946 non-null    object         \n",
      " 4   TIME                        946 non-null    timedelta64[ns]\n",
      " 5   TOPIC                       946 non-null    object         \n",
      " 6   ANSWERED (Y/N)              946 non-null    object         \n",
      " 7   RESOLVED                    946 non-null    object         \n",
      " 8   SPEED OF ANSWER IN SECONDS  0 non-null      float64        \n",
      " 9   AVGTALKDURATION             946 non-null    timedelta64[ns]\n",
      " 10  SATISFACTION RATING         0 non-null      float64        \n",
      "dtypes: datetime64[ns](1), float64(2), object(6), timedelta64[ns](2)\n",
      "memory usage: 81.4+ KB\n"
     ]
    }
   ],
   "source": [
    "Telecom_N['TIME'] = pd.to_timedelta(Telecom_N['TIME'])\n",
    "Telecom_N['AVGTALKDURATION'] = pd.to_timedelta(Telecom_N['AVGTALKDURATION'])\n",
    "Telecom_N.info()"
   ]
  },
  {
   "cell_type": "code",
   "execution_count": 47,
   "metadata": {},
   "outputs": [
    {
     "name": "stdout",
     "output_type": "stream",
     "text": [
      "<class 'pandas.core.frame.DataFrame'>\n",
      "RangeIndex: 4054 entries, 0 to 4053\n",
      "Data columns (total 11 columns):\n",
      " #   Column                      Non-Null Count  Dtype          \n",
      "---  ------                      --------------  -----          \n",
      " 0   CALL ID                     4054 non-null   object         \n",
      " 1   AGENT                       4054 non-null   object         \n",
      " 2   DATE                        4054 non-null   datetime64[ns] \n",
      " 3   DAY_OF_THE_WEEK             4054 non-null   object         \n",
      " 4   TIME                        4054 non-null   timedelta64[ns]\n",
      " 5   TOPIC                       4054 non-null   object         \n",
      " 6   ANSWERED (Y/N)              4054 non-null   object         \n",
      " 7   RESOLVED                    4054 non-null   object         \n",
      " 8   SPEED OF ANSWER IN SECONDS  4054 non-null   float64        \n",
      " 9   AVGTALKDURATION             4054 non-null   timedelta64[ns]\n",
      " 10  SATISFACTION RATING         4054 non-null   float64        \n",
      "dtypes: datetime64[ns](1), float64(2), object(6), timedelta64[ns](2)\n",
      "memory usage: 348.5+ KB\n"
     ]
    }
   ],
   "source": [
    "Telecom['TIME'] = pd.to_timedelta(Telecom['TIME'])\n",
    "Telecom['AVGTALKDURATION'] = pd.to_timedelta(Telecom['AVGTALKDURATION'])\n",
    "Telecom.info()"
   ]
  },
  {
   "cell_type": "markdown",
   "metadata": {},
   "source": [
    "## 2.Detalle & Entendimiento de las columnas"
   ]
  },
  {
   "cell_type": "code",
   "execution_count": 48,
   "metadata": {},
   "outputs": [
    {
     "data": {
      "text/plain": [
       "Index(['CALL ID', 'AGENT', 'DATE', 'DAY_OF_THE_WEEK', 'TIME', 'TOPIC',\n",
       "       'ANSWERED (Y/N)', 'RESOLVED', 'SPEED OF ANSWER IN SECONDS',\n",
       "       'AVGTALKDURATION', 'SATISFACTION RATING'],\n",
       "      dtype='object')"
      ]
     },
     "execution_count": 48,
     "metadata": {},
     "output_type": "execute_result"
    }
   ],
   "source": [
    "Telecom.columns"
   ]
  },
  {
   "cell_type": "markdown",
   "metadata": {},
   "source": [
    "\n",
    "| Columnas                  | Descripción                                                       | Tipo de Variable |\n",
    "|:---------------------------:|-----------------------------------------------------------------|-------------------|\n",
    "| *1*                         | **CALL ID** - *ID único de las llamadas*                        |Cualitativa Ordinal|\n",
    "| *2*                         | **AGENT** - *Nombre del agente que participa en la interacción* |Cualitativa Nominal           |\n",
    "| *3*                         | **DATE** - *Fecha de la interacción con el cliente*             |Cuantitativa discreta          |\n",
    "| *4*                         | **DAY_OF_THE_WEEK** - *Día de la semana de la interacción*      |Cualitativa Ordinal           |\n",
    "| *5*                         | **TIME** - *Hora de inicio de la interacción*                   |Cuantitativa continua|\n",
    "| *6*                         | **TOPIC** - *Motivo principal de la interacción*                |Cualitativa Nominal|\n",
    "| *7*                         | **ANSWERED(Y/N)** - *Indica si la llamada se concreta o no*     |Cualitativa Nominal           |\n",
    "| *8*                         | **RESOLVED** - *Indica si la gestión/consulta fue resuelta*     |Cualitativa Nominal           |\n",
    "| *9*                         | **SPEED OF ANSWER IN SECONDS** - *Tiempo de demora del cliente* |Cuantitativa continua|\n",
    "| *10*                        | **AVGTALKDURATION** - *Duración de la interacción*              |Cuantitativa continua|\n",
    "| *11*                        | **SATISFACTION RATING** - *CSAT (Customer Satisfaction)*        |Cuantitativa discreta|"
   ]
  },
  {
   "cell_type": "markdown",
   "metadata": {},
   "source": [
    "## 3.Análisis Descriptivo & Insights preliminares"
   ]
  },
  {
   "cell_type": "markdown",
   "metadata": {},
   "source": [
    "#### Calculamos la moda, la media y la mediana de los datos disponibles en Telecom"
   ]
  },
  {
   "cell_type": "code",
   "execution_count": 49,
   "metadata": {},
   "outputs": [
    {
     "name": "stdout",
     "output_type": "stream",
     "text": [
      "Moda en la velocicad de respuesta en segundo = 0    53.0\n",
      "Name: SPEED OF ANSWER IN SECONDS, dtype: float64\n",
      "Media en la velocicad de respuesta en segundo = 67.52072027627035\n",
      "Mediana en la velocicad de respuesta en segundo = 68.0\n"
     ]
    }
   ],
   "source": [
    "Media = Telecom['SPEED OF ANSWER IN SECONDS'].mean()\n",
    "Mediana = Telecom['SPEED OF ANSWER IN SECONDS'].median()\n",
    "Moda = Telecom['SPEED OF ANSWER IN SECONDS'].mode()\n",
    "\n",
    "print(\"Moda en la velocicad de respuesta en segundo =\", Moda)\n",
    "print(\"Media en la velocicad de respuesta en segundo =\", Media)\n",
    "print(\"Mediana en la velocicad de respuesta en segundo =\", Mediana)"
   ]
  },
  {
   "cell_type": "code",
   "execution_count": 50,
   "metadata": {},
   "outputs": [
    {
     "name": "stdout",
     "output_type": "stream",
     "text": [
      "Moda en el tiempo promedio del llamado = 0   0 days 00:04:43\n",
      "Name: AVGTALKDURATION, dtype: timedelta64[ns]\n",
      "Media en el tiempo promedio del llamado = 0 days 00:03:44.922792303\n",
      "Mediana en el tiempo promedio del llamado = 0 days 00:03:46\n"
     ]
    }
   ],
   "source": [
    "Media = Telecom['AVGTALKDURATION'].mean()\n",
    "Mediana = Telecom['AVGTALKDURATION'].median()\n",
    "Moda = Telecom['AVGTALKDURATION'].mode()\n",
    "\n",
    "print(\"Moda en el tiempo promedio del llamado =\", Moda)\n",
    "print(\"Media en el tiempo promedio del llamado =\", Media)\n",
    "print(\"Mediana en el tiempo promedio del llamado =\", Mediana)"
   ]
  },
  {
   "cell_type": "code",
   "execution_count": 51,
   "metadata": {},
   "outputs": [
    {
     "name": "stdout",
     "output_type": "stream",
     "text": [
      "Moda en el nivel de satisfacción = 0    3.0\n",
      "Name: SATISFACTION RATING, dtype: float64\n",
      "Media en el nivel de satisfacción = 3.4035520473606313\n",
      "Mediana en el nivel de satisfacción = 3.0\n"
     ]
    }
   ],
   "source": [
    "Media = Telecom['SATISFACTION RATING'].mean()\n",
    "Mediana = Telecom['SATISFACTION RATING'].median()\n",
    "Moda = Telecom['SATISFACTION RATING'].mode()\n",
    "\n",
    "print(\"Moda en el nivel de satisfacción =\", Moda)\n",
    "print(\"Media en el nivel de satisfacción =\", Media)\n",
    "print(\"Mediana en el nivel de satisfacción =\", Mediana)"
   ]
  },
  {
   "cell_type": "code",
   "execution_count": 52,
   "metadata": {},
   "outputs": [
    {
     "name": "stdout",
     "output_type": "stream",
     "text": [
      "(4054, 11)\n",
      "(946, 11)\n"
     ]
    }
   ],
   "source": [
    "print(Telecom.shape)\n",
    "print(Telecom_N.shape)"
   ]
  },
  {
   "cell_type": "markdown",
   "metadata": {},
   "source": [
    "#### *Disponemos de 5000 filas y  11 columnas, 6 Cualitativas y 5 Cuantitativas*\n",
    "### *4054 interacciones concretadas*\n",
    "### *946 interacciones no concretadas*\n"
   ]
  },
  {
   "cell_type": "code",
   "execution_count": 53,
   "metadata": {},
   "outputs": [
    {
     "name": "stdout",
     "output_type": "stream",
     "text": [
      "ANSWERED (Y/N)\n",
      "Y    81.08%\n",
      "N    18.92%\n",
      "Name: count, dtype: object\n"
     ]
    }
   ],
   "source": [
    "Nivel_de_atencion = (Telecom_en_bruto['ANSWERED (Y/N)'].value_counts()/Telecom_en_bruto['CALL ID'].count())*100\n",
    "Nivel_de_atencion = Nivel_de_atencion.apply(lambda x: f\"{x:.2f}%\")\n",
    "print(Nivel_de_atencion)"
   ]
  },
  {
   "cell_type": "markdown",
   "metadata": {},
   "source": [
    "#### En primer lugar analizamos que el equipo de atención al cliente gestiona un 81,08% de las llamadas entrantes a esto lo denominaremos:\n",
    " **Nivel de Atención**"
   ]
  },
  {
   "cell_type": "code",
   "execution_count": 54,
   "metadata": {},
   "outputs": [
    {
     "name": "stdout",
     "output_type": "stream",
     "text": [
      "El nivel de servicio CALL ID es 89.94%\n",
      "El nivel de servicio AGENT es 89.94%\n",
      "El nivel de servicio DAY_OF_THE_WEEK es 89.94%\n",
      "El nivel de servicio TOPIC es 89.94%\n",
      "El nivel de servicio ANSWERED (Y/N) es 89.94%\n",
      "El nivel de servicio RESOLVED es 89.94%\n"
     ]
    }
   ],
   "source": [
    "Nivel_de_Resolución = (Telecom[Telecom['RESOLVED']== 'Y'].count()/Telecom['CALL ID'].count())*100\n",
    "Nivel_de_Resolución\n",
    "\n",
    "for i in Telecom[Telecom['RESOLVED'] == 'Y'].select_dtypes(include=object):\n",
    "    print(f\"El nivel de servicio {i} es {(Telecom[Telecom['RESOLVED'] == 'Y'][i].count()/Telecom.shape[0])*100:.2f}%\")"
   ]
  },
  {
   "cell_type": "markdown",
   "metadata": {},
   "source": [
    "#### De las llamadas atendidas, las gestiones o consultas por parte del cliente son resueltas en un 89.94% a esto lo denominaremos: \n",
    "**Nivel de Resolución**"
   ]
  },
  {
   "cell_type": "code",
   "execution_count": 55,
   "metadata": {},
   "outputs": [
    {
     "name": "stdout",
     "output_type": "stream",
     "text": [
      "El nivel de servicio CALL ID es 44.30%\n",
      "El nivel de servicio AGENT es 44.30%\n",
      "El nivel de servicio DAY_OF_THE_WEEK es 44.30%\n",
      "El nivel de servicio TOPIC es 44.30%\n",
      "El nivel de servicio ANSWERED (Y/N) es 44.30%\n",
      "El nivel de servicio RESOLVED es 44.30%\n"
     ]
    }
   ],
   "source": [
    "Nivel_de_servicio = (Telecom[Telecom['SPEED OF ANSWER IN SECONDS'] <= 60.0].count()/Telecom['CALL ID'].count())*100\n",
    "Nivel_de_servicio\n",
    "\n",
    "for i in Telecom[Telecom['SPEED OF ANSWER IN SECONDS'] <= 60.0].select_dtypes(include=object):\n",
    "    print(f\"El nivel de servicio {i} es {(Telecom[Telecom['SPEED OF ANSWER IN SECONDS'] <= 60.0][i].count()/Telecom.shape[0])*100:.2f}%\")"
   ]
  },
  {
   "cell_type": "markdown",
   "metadata": {},
   "source": [
    "#### De las llamadas recibidas solo el 44.30% se antienden dentro del minuto a esto lo denominatemos: **Nivel de Servicio**"
   ]
  },
  {
   "cell_type": "markdown",
   "metadata": {},
   "source": [
    "## 4.Correlación de los datos"
   ]
  },
  {
   "cell_type": "code",
   "execution_count": 56,
   "metadata": {},
   "outputs": [
    {
     "data": {
      "image/png": "[encoded data removed]",
      "text/plain": [
       "<Figure size 640x480 with 2 Axes>"
      ]
     },
     "metadata": {},
     "output_type": "display_data"
    }
   ],
   "source": [
    "sns.heatmap(Telecom.corr(numeric_only=True), annot=True);"
   ]
  },
  {
   "cell_type": "markdown",
   "metadata": {},
   "source": [
    "#### utilizamos un grafico de correlación para analizar si las variables numeriacas se correlacionan entre si, segun la información no una relación clara entre las variables en este primer análisis.\n"
   ]
  },
  {
   "cell_type": "markdown",
   "metadata": {},
   "source": [
    "##  5.Análisis Univariante & distribución de las llamadas"
   ]
  },
  {
   "cell_type": "markdown",
   "metadata": {},
   "source": [
    "#### Se analiza la cantidad de llamados que se reciben diariamente y los separamos por los atentidos y los no atentidos"
   ]
  },
  {
   "cell_type": "code",
   "execution_count": 57,
   "metadata": {},
   "outputs": [
    {
     "data": {
      "text/plain": [
       "DATE\n",
       "2021-01-01    58\n",
       "2021-01-02    60\n",
       "2021-01-03    58\n",
       "2021-01-04    54\n",
       "2021-01-05    56\n",
       "              ..\n",
       "2021-03-27    58\n",
       "2021-03-28    38\n",
       "2021-03-29    60\n",
       "2021-03-30    25\n",
       "2021-03-31    27\n",
       "Freq: D, Length: 90, dtype: int64"
      ]
     },
     "execution_count": 57,
     "metadata": {},
     "output_type": "execute_result"
    }
   ],
   "source": [
    "llamados_diarios = Telecom_en_bruto.groupby(Telecom_en_bruto['DATE'].dt.to_period('D')).size()\n",
    "llamados_diarios"
   ]
  },
  {
   "cell_type": "code",
   "execution_count": 58,
   "metadata": {},
   "outputs": [
    {
     "data": {
      "text/plain": [
       "DATE\n",
       "2021-01-01    46\n",
       "2021-01-02    48\n",
       "2021-01-03    47\n",
       "2021-01-04    44\n",
       "2021-01-05    49\n",
       "              ..\n",
       "2021-03-27    46\n",
       "2021-03-28    31\n",
       "2021-03-29    50\n",
       "2021-03-30    16\n",
       "2021-03-31    20\n",
       "Freq: D, Length: 90, dtype: int64"
      ]
     },
     "execution_count": 58,
     "metadata": {},
     "output_type": "execute_result"
    }
   ],
   "source": [
    "llamados_diarios_atendidos = Telecom.groupby(Telecom['DATE'].dt.to_period('D')).size()\n",
    "llamados_diarios_atendidos"
   ]
  },
  {
   "cell_type": "code",
   "execution_count": 59,
   "metadata": {},
   "outputs": [
    {
     "data": {
      "text/plain": [
       "DATE\n",
       "2021-01-01    12\n",
       "2021-01-02    12\n",
       "2021-01-03    11\n",
       "2021-01-04    10\n",
       "2021-01-05     7\n",
       "              ..\n",
       "2021-03-27    12\n",
       "2021-03-28     7\n",
       "2021-03-29    10\n",
       "2021-03-30     9\n",
       "2021-03-31     7\n",
       "Freq: D, Length: 90, dtype: int64"
      ]
     },
     "execution_count": 59,
     "metadata": {},
     "output_type": "execute_result"
    }
   ],
   "source": [
    "llamados_diarios_noatendidos = Telecom_N.groupby(Telecom_N['DATE'].dt.to_period('D')).size()\n",
    "llamados_diarios_noatendidos"
   ]
  },
  {
   "cell_type": "markdown",
   "metadata": {},
   "source": [
    "#### Graficamos la distribución de llamados diarios"
   ]
  },
  {
   "cell_type": "code",
   "execution_count": 60,
   "metadata": {},
   "outputs": [
    {
     "data": {
      "image/png": "[encoded data removed]",
      "text/plain": [
       "<Figure size 1500x500 with 3 Axes>"
      ]
     },
     "metadata": {},
     "output_type": "display_data"
    }
   ],
   "source": [
    "fig, axes = plt.subplots(nrows=1, ncols=3, figsize=(15, 5))\n",
    "\n",
    "axes[1].plot(llamados_diarios_noatendidos.index.astype(str), llamados_diarios_noatendidos.values, label='No Atendidos', color='red')\n",
    "axes[1].set_title('Llamados Diarios No Atendidos')\n",
    "axes[1].set_xlabel('Fecha')\n",
    "axes[1].set_ylabel('Cantidad')\n",
    "axes[1].legend()\n",
    "\n",
    "\n",
    "axes[2].plot(llamados_diarios_atendidos.index.astype(str), llamados_diarios_atendidos.values, label='Atendidos', color='green')\n",
    "axes[2].set_title('Llamados Diarios Atendidos')\n",
    "axes[2].set_xlabel('Fecha')\n",
    "axes[2].set_ylabel('Cantidad')\n",
    "axes[2].legend()\n",
    "\n",
    "axes[0].plot(llamados_diarios.index.astype(str), llamados_diarios.values, label='Todos', color='blue')\n",
    "axes[0].set_title('Todos los Llamados Diarios')\n",
    "axes[0].set_xlabel('Fecha')\n",
    "axes[0].set_ylabel('Cantidad')\n",
    "axes[0].legend()\n",
    "\n",
    "plt.tight_layout()\n",
    "plt.show()"
   ]
  },
  {
   "cell_type": "code",
   "execution_count": 61,
   "metadata": {},
   "outputs": [],
   "source": [
    "llamados_semanales_noatendidos = Telecom_N.groupby(Telecom_N['DATE'].dt.to_period('w')).size()\n",
    "llamados_semanales_atendidos = Telecom.groupby(Telecom['DATE'].dt.to_period('w')).size()\n",
    "llamados_semanales = Telecom_en_bruto.groupby(Telecom_en_bruto['DATE'].dt.to_period('w')).size()"
   ]
  },
  {
   "cell_type": "code",
   "execution_count": 62,
   "metadata": {},
   "outputs": [
    {
     "data": {
      "image/png": "[encoded data removed]",
      "text/plain": [
       "<Figure size 1500x500 with 3 Axes>"
      ]
     },
     "metadata": {},
     "output_type": "display_data"
    }
   ],
   "source": [
    "fig, axes = plt.subplots(nrows=1, ncols=3, figsize=(15, 5))\n",
    "\n",
    "axes[0].plot(llamados_semanales_noatendidos.index.astype(str), llamados_semanales_noatendidos.values, label='No Atendidos', color='red')\n",
    "axes[0].set_title('Llamados Semanales No Atendidos')\n",
    "axes[0].set_xlabel('Fecha')\n",
    "axes[0].set_ylabel('Cantidad')\n",
    "axes[0].legend()\n",
    "\n",
    "axes[1].plot(llamados_semanales_atendidos.index.astype(str), llamados_semanales_atendidos.values, label='Atendidos', color='green')\n",
    "axes[1].set_title('Llamados Semanales Atendidos')\n",
    "axes[1].set_xlabel('Fecha')\n",
    "axes[1].set_ylabel('Cantidad')\n",
    "axes[1].legend()\n",
    "\n",
    "\n",
    "axes[2].plot(llamados_semanales.index.astype(str), llamados_semanales.values, label='Todos', color='blue')\n",
    "axes[2].set_title('Todos los Llamados Semanales')\n",
    "axes[2].set_xlabel('Fecha')\n",
    "axes[2].set_ylabel('Cantidad')\n",
    "axes[2].legend()\n",
    "\n",
    "plt.tight_layout()\n",
    "plt.show()"
   ]
  },
  {
   "cell_type": "markdown",
   "metadata": {},
   "source": [
    "## Distribucion de llamadas por franja horaria"
   ]
  },
  {
   "cell_type": "code",
   "execution_count": 63,
   "metadata": {},
   "outputs": [
    {
     "data": {
      "text/plain": [
       "TIME\n",
       "0 days 09:00:00    17\n",
       "0 days 09:01:26     8\n",
       "0 days 09:02:53     9\n",
       "0 days 09:04:19    10\n",
       "0 days 09:05:46    16\n",
       "                   ..\n",
       "0 days 17:54:14     8\n",
       "0 days 17:55:41     7\n",
       "0 days 17:57:07    18\n",
       "0 days 17:58:34     9\n",
       "0 days 18:00:00    12\n",
       "Name: count, Length: 375, dtype: int64"
      ]
     },
     "execution_count": 63,
     "metadata": {},
     "output_type": "execute_result"
    }
   ],
   "source": [
    "llamadas_por_hora = (Telecom['TIME'].value_counts().sort_index())\n",
    "llamadas_por_hora"
   ]
  },
  {
   "cell_type": "markdown",
   "metadata": {},
   "source": [
    "### Visualizamos las llamadas en la franja horaria tratando de identificar picos"
   ]
  },
  {
   "cell_type": "code",
   "execution_count": 64,
   "metadata": {},
   "outputs": [
    {
     "data": {
      "image/png": "[encoded data removed]",
      "text/plain": [
       "<Figure size 1200x600 with 1 Axes>"
      ]
     },
     "metadata": {},
     "output_type": "display_data"
    }
   ],
   "source": [
    "plt.figure(figsize=(12, 6))\n",
    "sns.scatterplot(x=Telecom['TIME'].value_counts().sort_index(), y=Telecom['TIME'].value_counts().values, s=200, color='GREEN')\n",
    "plt.title('Scatter Plot de Llamadas por Hora del Día')\n",
    "plt.xlabel('Hora del Día')\n",
    "plt.ylabel('Cantidad de Llamadas')\n",
    "plt.tight_layout()"
   ]
  },
  {
   "cell_type": "code",
   "execution_count": 65,
   "metadata": {},
   "outputs": [
    {
     "data": {
      "image/png": "[encoded data removed]",
      "text/plain": [
       "<Figure size 600x600 with 3 Axes>"
      ]
     },
     "metadata": {},
     "output_type": "display_data"
    }
   ],
   "source": [
    "f = sns.load_dataset('iris')\n",
    " \n",
    "\n",
    "sns.jointplot(x=llamadas_por_hora, y=llamadas_por_hora, kind='hex')\n",
    "plt.title('Cantidad de Llamadas a lo largo del Tiempo')\n",
    "plt.xlabel('Hora del Día')\n",
    "plt.ylabel('Cantidad de Llamadas')\n",
    "plt.show()"
   ]
  },
  {
   "cell_type": "code",
   "execution_count": 66,
   "metadata": {},
   "outputs": [
    {
     "name": "stdout",
     "output_type": "stream",
     "text": [
      "TIME\n",
      "(0 days 09:00:00, 0 days 10:00:00]    419\n",
      "(0 days 10:00:00, 0 days 11:00:00]    432\n",
      "(0 days 11:00:00, 0 days 12:00:00]    504\n",
      "(0 days 12:00:00, 0 days 13:00:00]    408\n",
      "(0 days 13:00:00, 0 days 14:00:00]    484\n",
      "(0 days 14:00:00, 0 days 15:00:00]    418\n",
      "(0 days 15:00:00, 0 days 16:00:00]    423\n",
      "(0 days 16:00:00, 0 days 17:00:00]    462\n",
      "(0 days 17:00:00, 0 days 18:00:00]    487\n",
      "dtype: int64\n"
     ]
    },
    {
     "name": "stderr",
     "output_type": "stream",
     "text": [
      "C:\\Users\\Lucia\\AppData\\Local\\Temp\\ipykernel_25792\\861698993.py:4: FutureWarning: The default of observed=False is deprecated and will be changed to True in a future version of pandas. Pass observed=False to retain current behavior or observed=True to adopt the future default and silence this warning.\n",
      "  llamadas_por_hora_agrupado = Telecom.groupby(hourly_intervals).size()\n"
     ]
    }
   ],
   "source": [
    "hourly_intervals = pd.cut(Telecom['TIME'], bins=pd.timedelta_range(start=Telecom['TIME'].min(), end=Telecom['TIME'].max(), freq='1H'))\n",
    "\n",
    "\n",
    "llamadas_por_hora_agrupado = Telecom.groupby(hourly_intervals).size()\n",
    "\n",
    "print(llamadas_por_hora_agrupado)"
   ]
  },
  {
   "cell_type": "markdown",
   "metadata": {},
   "source": [
    "### Visualizamos las llamadas en la franja horaria  agrupado tratando de identificar picos"
   ]
  },
  {
   "cell_type": "code",
   "execution_count": 67,
   "metadata": {},
   "outputs": [
    {
     "data": {
      "image/png": "[encoded data removed]",
      "text/plain": [
       "<Figure size 1500x700 with 1 Axes>"
      ]
     },
     "metadata": {},
     "output_type": "display_data"
    }
   ],
   "source": [
    "sns.set(style=\"whitegrid\")\n",
    "\n",
    "plt.figure(figsize=(15, 7))\n",
    "sns.barplot(x=llamadas_por_hora_agrupado.index, y=llamadas_por_hora_agrupado.values, color='skyblue')\n",
    "\n",
    "plt.title('Distribución de Llamadas por Hora', fontsize=16)\n",
    "plt.xlabel('Hora del Día', fontsize=14)\n",
    "plt.ylabel('Cantidad de Llamadas', fontsize=14)\n",
    "\n",
    "plt.xticks(rotation=45, ha='right')\n",
    "\n",
    "plt.show()"
   ]
  },
  {
   "cell_type": "markdown",
   "metadata": {},
   "source": [
    "#### Hay mayor concentración de llamadas entre el mediodia hasta las 14 horas y luego de las 17 horas podria decirse que los picos se dan en horario no laborales."
   ]
  },
  {
   "cell_type": "code",
   "execution_count": 68,
   "metadata": {},
   "outputs": [
    {
     "data": {
      "text/plain": [
       "DAY_OF_THE_WEEK\n",
       "Friday       546\n",
       "Monday       629\n",
       "Saturday     614\n",
       "Sunday       588\n",
       "Thursday     579\n",
       "Tuesday      554\n",
       "Wednesday    544\n",
       "Name: count, dtype: int64"
      ]
     },
     "execution_count": 68,
     "metadata": {},
     "output_type": "execute_result"
    }
   ],
   "source": [
    "llamadas_por_dia_de_la_semana = Telecom['DAY_OF_THE_WEEK'].value_counts().sort_index()\n",
    "llamadas_por_dia_de_la_semana"
   ]
  },
  {
   "cell_type": "markdown",
   "metadata": {},
   "source": [
    "### Analizamos la cantidad de llamadas por día"
   ]
  },
  {
   "cell_type": "code",
   "execution_count": 69,
   "metadata": {},
   "outputs": [
    {
     "data": {
      "image/png": "[encoded data removed]",
      "text/plain": [
       "<Figure size 1500x700 with 1 Axes>"
      ]
     },
     "metadata": {},
     "output_type": "display_data"
    }
   ],
   "source": [
    "sns.set(style=\"whitegrid\")\n",
    "\n",
    "plt.figure(figsize=(15, 7))\n",
    "sns.barplot(x=llamadas_por_dia_de_la_semana.index, y=llamadas_por_dia_de_la_semana.values, color='skyblue')\n",
    "\n",
    "plt.title('Distribución de Llamadas por día', fontsize=16)\n",
    "plt.xlabel('Día de la semana', fontsize=14)\n",
    "plt.ylabel('Cantidad de Llamadas', fontsize=14)\n",
    "\n",
    "plt.xticks(rotation=45, ha='right')\n",
    "\n",
    "plt.show()"
   ]
  },
  {
   "cell_type": "markdown",
   "metadata": {},
   "source": [
    "## 6.Análisis Bivariante  "
   ]
  },
  {
   "cell_type": "markdown",
   "metadata": {},
   "source": [
    "### En primer lugar aplicamos un pairplot para visualizar una matriz de gráficos de dispersión para visualizar las relaciones bivariadas entre diferentes variables numericas"
   ]
  },
  {
   "cell_type": "code",
   "execution_count": 70,
   "metadata": {},
   "outputs": [
    {
     "data": {
      "image/png": "[encoded data removed]",
      "text/plain": [
       "<Figure size 500x500 with 6 Axes>"
      ]
     },
     "metadata": {},
     "output_type": "display_data"
    }
   ],
   "source": [
    "datostelecom = Telecom.select_dtypes(include=['float64', 'int64']).columns\n",
    "\n",
    "sns.pairplot(Telecom[datostelecom])\n",
    "plt.show()"
   ]
  },
  {
   "cell_type": "markdown",
   "metadata": {},
   "source": [
    "### Se analza el nivel de satisfación teniendo en cuenta si la consulta fue resuelta o no "
   ]
  },
  {
   "cell_type": "code",
   "execution_count": 71,
   "metadata": {},
   "outputs": [
    {
     "data": {
      "image/png": "[encoded data removed]",
      "text/plain": [
       "<Figure size 640x480 with 1 Axes>"
      ]
     },
     "metadata": {},
     "output_type": "display_data"
    }
   ],
   "source": [
    "sns.barplot(x='AGENT', y='SATISFACTION RATING', hue='RESOLVED', data=Telecom)\n",
    "plt.xlabel('Agente')\n",
    "plt.ylabel('Nivel de Satisfacción')\n",
    "plt.title('Comparación de Nivel de Satisfacción por Agente y Resolución')\n",
    "plt.show()"
   ]
  },
  {
   "cell_type": "code",
   "execution_count": 72,
   "metadata": {},
   "outputs": [
    {
     "name": "stdout",
     "output_type": "stream",
     "text": [
      "3.4007131102578168\n",
      "3.428921568627451\n"
     ]
    }
   ],
   "source": [
    "satisfaccion_resueltas = Telecom[Telecom['RESOLVED'] == 'Y']['SATISFACTION RATING'].mean()\n",
    "satisfaccion_noresueltas = Telecom[Telecom['RESOLVED'] == 'N']['SATISFACTION RATING'].mean()\n",
    "print(satisfaccion_resueltas)\n",
    "print(satisfaccion_noresueltas)\n"
   ]
  },
  {
   "cell_type": "code",
   "execution_count": 73,
   "metadata": {},
   "outputs": [
    {
     "data": {
      "image/png": "[encoded data removed]",
      "text/plain": [
       "<Figure size 640x480 with 1 Axes>"
      ]
     },
     "metadata": {},
     "output_type": "display_data"
    }
   ],
   "source": [
    "labels = ['Resueltas', 'No resueltas']\n",
    "promedios = [satisfaccion_resueltas, satisfaccion_noresueltas]\n",
    "\n",
    "plt.bar(labels, promedios, color=['green', 'blue'])\n",
    "plt.xlabel('Estado de Resolución')\n",
    "plt.ylabel('Promedio de Satisfacción')\n",
    "plt.title('Promedio de Satisfacción de Llamadas Resueltas y No Resueltas')\n",
    "plt.ylim(0, 5)  # Ajustar el rango del eje y si es necesario\n",
    "plt.show()"
   ]
  },
  {
   "cell_type": "markdown",
   "metadata": {},
   "source": [
    "### No hay una clara relación que se vea en los graficos respecto de que el nivel de satisfacción tenga una relación en si la consulta esta resuelta o no"
   ]
  },
  {
   "cell_type": "markdown",
   "metadata": {},
   "source": [
    "# **5.HIPOTESIS**"
   ]
  },
  {
   "cell_type": "markdown",
   "metadata": {},
   "source": [
    "## **Hipotesis planteadas**\n",
    "\n",
    "###  **1) El principal motivo de contactos, representa al menos un 25% del volumen total y además este representa mas del 35% del tiempo opertativo insumido**\n",
    "\n",
    "**H0**: No hay evidencia significativa en el volumen de los datos y la representacion de mas del 35% del tiempo opertativo insumido.\n",
    "\n",
    "**H1**: Existe una diferencia significativa que el volumen los datos y la representacion de mas del 35% del tiempo opertativo insumido .\n",
    "\n",
    "### **2) La distribución de llamados siguen una distribución normal**\n",
    "\n",
    "**H0**: No hay evidencia significativa de que datos siguen una distribución normal\n",
    "\n",
    "**H1**: Existe una evidencia significativa de que los datos siguen una distribución normal.(Análisis de normalidad)\n",
    "\n",
    "### **3) Los niveles de satisfación mas bajos corresponden son directamente atribuibles al no resolucion del caso y a una espera superior al 15% del promedio de espera**\n",
    "\n",
    "**H0**: No hay evidencia significativa para atribuir los niveles de satisfacción mas bajo.\n",
    "\n",
    "**H1**: Existe una evidencia significativa de que los niveles de satisfacción mas bajo son atribuibles al no resolucion del caso y a una espera superior al 15% del promedio de espera\n",
    "\n",
    "### **4) El 70% de los casos relacionados a los pagos se dan del 25 al 05 de cada mes  y son resueltos**\n",
    "\n",
    "**H0**: No hay evidencia significativa de que a las interaciones relacionadas a pagos se dan del 25 al 05 de cada mes  y son resueltos.\n",
    "\n",
    "**H1**: Existe una diferencia significativa en que a las interaciones relacionadas a pagos se dan del 25 al 05 de cada mes  y son resueltos .\n",
    "\n",
    "### **5) De reducirce un 10% de los contactos del principal motivo se generaria un eficiencia en tiempos operativos de mas de un 20%**"
   ]
  },
  {
   "cell_type": "markdown",
   "metadata": {},
   "source": [
    "###  **1) El principal motivo de contactos, representa al menos un 25% del volumen total y además este representa mas del 35% del tiempo opertativo insumido**"
   ]
  },
  {
   "cell_type": "markdown",
   "metadata": {},
   "source": [
    "### En primer lugar se definen los datos que son necesarios para analizar la Hipotesis"
   ]
  },
  {
   "cell_type": "markdown",
   "metadata": {},
   "source": [
    "### Cantidad de llamados del principal motivo de contactos"
   ]
  },
  {
   "cell_type": "code",
   "execution_count": 74,
   "metadata": {},
   "outputs": [],
   "source": [
    "cantidad_de_llamadas_por_motivo = Telecom_en_bruto['TOPIC'].value_counts()\n",
    "cantidad_de_llamadas_principal_motivo = cantidad_de_llamadas_por_motivo.max"
   ]
  },
  {
   "cell_type": "markdown",
   "metadata": {},
   "source": [
    "### Porcentaje que representa la cantidad de llamados del principal motivo de contacto sobre el total de llamados"
   ]
  },
  {
   "cell_type": "code",
   "execution_count": 75,
   "metadata": {},
   "outputs": [
    {
     "data": {
      "text/plain": [
       "0.2044"
      ]
     },
     "execution_count": 75,
     "metadata": {},
     "output_type": "execute_result"
    }
   ],
   "source": [
    "porcentaje = (((Telecom_en_bruto['TOPIC'].value_counts())/Telecom_en_bruto['CALL ID'].count()))\n",
    "porcentaje.max()"
   ]
  },
  {
   "cell_type": "markdown",
   "metadata": {},
   "source": [
    " ###  Cantidad total de llamados"
   ]
  },
  {
   "cell_type": "code",
   "execution_count": 76,
   "metadata": {},
   "outputs": [
    {
     "data": {
      "text/plain": [
       "5000"
      ]
     },
     "execution_count": 76,
     "metadata": {},
     "output_type": "execute_result"
    }
   ],
   "source": [
    "total_de_llamados = Telecom_en_bruto['CALL ID'].count()\n",
    "total_de_llamados"
   ]
  },
  {
   "cell_type": "markdown",
   "metadata": {},
   "source": [
    "#### Unicamente con el fin de analizar la hipotesis con Prueba de proporciones z se crea una nueva columna en donde el tiempo insumido se exprese en float"
   ]
  },
  {
   "cell_type": "markdown",
   "metadata": {},
   "source": [
    "#### total del tiempo insumido de todos los llamados"
   ]
  },
  {
   "cell_type": "code",
   "execution_count": 77,
   "metadata": {},
   "outputs": [
    {
     "data": {
      "text/plain": [
       "911837.0"
      ]
     },
     "execution_count": 77,
     "metadata": {},
     "output_type": "execute_result"
    }
   ],
   "source": [
    "Telecom_en_bruto['AVGTALKDURATION_SECONDS'] = Telecom_en_bruto['AVGTALKDURATION'].dt.total_seconds()\n",
    "\n",
    "# Total de tiempo insumido en segundos\n",
    "totaldetiempoinsumido = Telecom_en_bruto['AVGTALKDURATION_SECONDS'].sum()\n",
    "totaldetiempoinsumido"
   ]
  },
  {
   "cell_type": "markdown",
   "metadata": {},
   "source": [
    "#### Total del tiempo insumido en los casos que son motivo principal de contacto"
   ]
  },
  {
   "cell_type": "code",
   "execution_count": 78,
   "metadata": {},
   "outputs": [
    {
     "data": {
      "text/plain": [
       "192888.0"
      ]
     },
     "execution_count": 78,
     "metadata": {},
     "output_type": "execute_result"
    }
   ],
   "source": [
    "\n",
    "tiempoinsumidoportopic =tiempoinsumidoportopic = Telecom_en_bruto.groupby('TOPIC')['AVGTALKDURATION'].sum().dt.total_seconds()\n",
    "tiempoprincipalmotivodellamados = tiempoinsumidoportopic.max()\n",
    "tiempoprincipalmotivodellamados"
   ]
  },
  {
   "cell_type": "markdown",
   "metadata": {},
   "source": [
    "### Porcentaje que representa la cantidad de llamados del principal motivo de contacto sobre el total de llamados"
   ]
  },
  {
   "cell_type": "code",
   "execution_count": 79,
   "metadata": {},
   "outputs": [
    {
     "data": {
      "text/plain": [
       "0.21153780774414727"
      ]
     },
     "execution_count": 79,
     "metadata": {},
     "output_type": "execute_result"
    }
   ],
   "source": [
    "porcentaje_tiempoprincipalmotivodellamados = tiempoprincipalmotivodellamados / totaldetiempoinsumido\n",
    "porcentaje_tiempoprincipalmotivodellamados"
   ]
  },
  {
   "cell_type": "code",
   "execution_count": 80,
   "metadata": {},
   "outputs": [
    {
     "ename": "TypeError",
     "evalue": "unsupported operand type(s) for *: 'method' and 'float'",
     "output_type": "error",
     "traceback": [
      "\u001b[1;31m---------------------------------------------------------------------------\u001b[0m",
      "\u001b[1;31mTypeError\u001b[0m                                 Traceback (most recent call last)",
      "\u001b[1;32mc:\\Users\\Lucia\\Desktop\\bootcamp\\Proyecto_EDA_Pablo_Mendez\\EDA_Pablo_Mendez.ipynb Cell 146\u001b[0m line \u001b[0;36m1\n\u001b[0;32m     <a href='vscode-notebook-cell:/c%3A/Users/Lucia/Desktop/bootcamp/Proyecto_EDA_Pablo_Mendez/EDA_Pablo_Mendez.ipynb#Y265sZmlsZQ%3D%3D?line=11'>12</a>\u001b[0m proporcion_esperada_tiempo_operativo \u001b[39m=\u001b[39m \u001b[39m0.35\u001b[39m\n\u001b[0;32m     <a href='vscode-notebook-cell:/c%3A/Users/Lucia/Desktop/bootcamp/Proyecto_EDA_Pablo_Mendez/EDA_Pablo_Mendez.ipynb#Y265sZmlsZQ%3D%3D?line=13'>14</a>\u001b[0m \u001b[39m# HACEMOS UNA PRIMERA PRUEBA Z SOBRE  EL VOLUMEN DE CONTACTOS Y ANALIZAR SI EL PRINCIPAL REPRESENTA AL MENOS UN 25 % DEL TOTAL \u001b[39;00m\n\u001b[1;32m---> <a href='vscode-notebook-cell:/c%3A/Users/Lucia/Desktop/bootcamp/Proyecto_EDA_Pablo_Mendez/EDA_Pablo_Mendez.ipynb#Y265sZmlsZQ%3D%3D?line=14'>15</a>\u001b[0m z_volumen, p_valor_volumen \u001b[39m=\u001b[39m sm\u001b[39m.\u001b[39;49mstats\u001b[39m.\u001b[39;49mproportions_ztest(cantidad_de_llamadas_principal_motivo, total_de_llamados, proporcion_esperada_volumen, alternative\u001b[39m=\u001b[39;49m\u001b[39m'\u001b[39;49m\u001b[39mlarger\u001b[39;49m\u001b[39m'\u001b[39;49m)\n\u001b[0;32m     <a href='vscode-notebook-cell:/c%3A/Users/Lucia/Desktop/bootcamp/Proyecto_EDA_Pablo_Mendez/EDA_Pablo_Mendez.ipynb#Y265sZmlsZQ%3D%3D?line=16'>17</a>\u001b[0m \u001b[39m# HACEMOS UNA PRIMERA PRUEBA Z SOBRE EL TIEMPO INSUMIDO Y ANALIZAR SI EL  REPRESENTA AL MENOS UN 35 % DEL TOTAL \u001b[39;00m\n\u001b[0;32m     <a href='vscode-notebook-cell:/c%3A/Users/Lucia/Desktop/bootcamp/Proyecto_EDA_Pablo_Mendez/EDA_Pablo_Mendez.ipynb#Y265sZmlsZQ%3D%3D?line=17'>18</a>\u001b[0m z_tiempo_operativo, p_valor_tiempo_operativo \u001b[39m=\u001b[39m sm\u001b[39m.\u001b[39mstats\u001b[39m.\u001b[39mproportions_ztest(tiempoprincipalmotivodellamados, total_tiempo_operativo, proporcion_esperada_tiempo_operativo, alternative\u001b[39m=\u001b[39m\u001b[39m'\u001b[39m\u001b[39mlarger\u001b[39m\u001b[39m'\u001b[39m)\n",
      "File \u001b[1;32mc:\\Users\\Lucia\\miniconda3\\envs\\.venv\\Lib\\site-packages\\statsmodels\\stats\\proportion.py:1005\u001b[0m, in \u001b[0;36mproportions_ztest\u001b[1;34m(count, nobs, value, alternative, prop_var)\u001b[0m\n\u001b[0;32m   1002\u001b[0m \u001b[39mif\u001b[39;00m nobs\u001b[39m.\u001b[39msize \u001b[39m==\u001b[39m \u001b[39m1\u001b[39m:\n\u001b[0;32m   1003\u001b[0m     nobs \u001b[39m=\u001b[39m nobs \u001b[39m*\u001b[39m np\u001b[39m.\u001b[39mones_like(count)\n\u001b[1;32m-> 1005\u001b[0m prop \u001b[39m=\u001b[39m count \u001b[39m*\u001b[39;49m \u001b[39m1.\u001b[39;49m \u001b[39m/\u001b[39m nobs\n\u001b[0;32m   1006\u001b[0m k_sample \u001b[39m=\u001b[39m np\u001b[39m.\u001b[39msize(prop)\n\u001b[0;32m   1007\u001b[0m \u001b[39mif\u001b[39;00m value \u001b[39mis\u001b[39;00m \u001b[39mNone\u001b[39;00m:\n",
      "\u001b[1;31mTypeError\u001b[0m: unsupported operand type(s) for *: 'method' and 'float'"
     ]
    }
   ],
   "source": [
    "import numpy as np\n",
    "import statsmodels.api as sm\n",
    "\n",
    "# LLAMAOS A LAS VARIABLES Y LES ASIGNAMOS UN NOMBRE MAS INTUITIVO\n",
    "total_llamadas1 = total_de_llamados\n",
    "total_tiempo_operativo = totaldetiempoinsumido\n",
    "proporcion_volumen_principales = porcentaje.max()\n",
    "proporcion_tiempo_operativo_principales = porcentaje_tiempoprincipalmotivodellamados\n",
    "\n",
    "# ASIGNAMOS VARIABLES SEGUN LA HIPOTESIS PLANTEADA\n",
    "proporcion_esperada_volumen = 0.25\n",
    "proporcion_esperada_tiempo_operativo = 0.35\n",
    "\n",
    "# HACEMOS UNA PRIMERA PRUEBA Z SOBRE  EL VOLUMEN DE CONTACTOS Y ANALIZAR SI EL PRINCIPAL REPRESENTA AL MENOS UN 25 % DEL TOTAL \n",
    "z_volumen, p_valor_volumen = sm.stats.proportions_ztest(cantidad_de_llamadas_principal_motivo, total_de_llamados, proporcion_esperada_volumen, alternative='larger')\n",
    "\n",
    "# HACEMOS UNA PRIMERA PRUEBA Z SOBRE EL TIEMPO INSUMIDO Y ANALIZAR SI EL  REPRESENTA AL MENOS UN 35 % DEL TOTAL \n",
    "z_tiempo_operativo, p_valor_tiempo_operativo = sm.stats.proportions_ztest(tiempoprincipalmotivodellamados, total_tiempo_operativo, proporcion_esperada_tiempo_operativo, alternative='larger')\n",
    "\n",
    "\n",
    "alpha = 0.05\n",
    "\n",
    "\n",
    "print(\"Estadístico z (volumen total):\", z_volumen)\n",
    "print(\"Valor p (volumen total):\", p_valor_volumen)\n",
    "\n",
    "\n",
    "if p_valor_volumen < alpha and proporcion_tiempo_operativo_principales > proporcion_esperada_volumen:\n",
    "    print(\"Rechazamos la hipótesis nula para el volumen total. Hay evidencia significativa de que la proporción es mayor al 25%.\")\n",
    "else:\n",
    "    print(\"No podemos rechazar la hipótesis nula para el volumen total. No hay evidencia significativa de que la proporción sea mayor al 25%.\")\n",
    "\n",
    "\n",
    "print(\"\\nEstadístico z (tiempo operativo):\", z_tiempo_operativo)\n",
    "print(\"Valor p (tiempo operativo):\", p_valor_tiempo_operativo)\n",
    "\n",
    "\n",
    "if p_valor_tiempo_operativo < alpha and proporcion_tiempo_operativo_principales > proporcion_esperada_tiempo_operativo:\n",
    "    print(\"Rechazamos la hipótesis nula para el tiempo operativo. Hay evidencia significativa de que la proporción es mayor al 35%.\")\n",
    "else:\n",
    "    print(\"No podemos rechazar la hipótesis nula para el tiempo operativo. No hay evidencia significativa de que la proporción sea mayor al 35%.\")"
   ]
  },
  {
   "cell_type": "markdown",
   "metadata": {},
   "source": [
    "#### Graficamos la hipotesis planteada"
   ]
  },
  {
   "cell_type": "code",
   "execution_count": null,
   "metadata": {},
   "outputs": [
    {
     "data": {
      "image/png": "[encoded data removed]",
      "text/plain": [
       "<Figure size 640x480 with 1 Axes>"
      ]
     },
     "metadata": {},
     "output_type": "display_data"
    }
   ],
   "source": [
    "Valor_real = [porcentaje.max(), porcentaje_tiempoprincipalmotivodellamados]\n",
    "Valor_espesperado = [proporcion_esperada_volumen, proporcion_esperada_tiempo_operativo]\n",
    "\n",
    "\n",
    "labels = ['Cantidad del motivo principal de contacto', 'Tiempo Operativo']\n",
    "\n",
    "# Crear el gráfico de barras\n",
    "fig, ax = plt.subplots()\n",
    "ax.bar(labels, proporciones_obs, label='Real', color='blue', alpha=0.7)\n",
    "ax.bar(labels, proporciones_esp, label='Esperado', color='green', alpha=0.5)\n",
    "\n",
    "# Añadir leyenda y título\n",
    "ax.legend()\n",
    "plt.title('Valores reales VS esperados')\n",
    "plt.show()"
   ]
  },
  {
   "cell_type": "markdown",
   "metadata": {},
   "source": [
    "##  **2) La distribución de llamados siguen una distribución normal**"
   ]
  },
  {
   "cell_type": "code",
   "execution_count": null,
   "metadata": {},
   "outputs": [
    {
     "name": "stdout",
     "output_type": "stream",
     "text": [
      "Estadística de prueba: 0.9757611751556396\n",
      "Valor p: 0.090619757771492\n",
      "Los datos siguen una distribución normal (se rechaza la hipótesis nula)\n"
     ]
    },
    {
     "data": {
      "image/png": "[encoded data removed]",
      "text/plain": [
       "<Figure size 1000x600 with 1 Axes>"
      ]
     },
     "metadata": {},
     "output_type": "display_data"
    }
   ],
   "source": [
    "from scipy.stats import shapiro\n",
    "stat, p_value = shapiro(llamados_diarios)\n",
    "\n",
    "# Imprimir el resultado de la prueba\n",
    "print(\"Estadística de prueba:\", stat)\n",
    "print(\"Valor p:\", p_value)\n",
    "\n",
    "# Establecer un nivel de significancia (por ejemplo, 0.05) para tomar una decisión\n",
    "alpha = 0.05\n",
    "if p_value < alpha:\n",
    "    print(\"Los datos no parecen seguir una distribución normal ( se  rechaza la hipótesis nula)\")\n",
    "else:\n",
    "    print(\"Los datos siguen una distribución normal (se rechaza la hipótesis nula)\")\n",
    "\n",
    "# Visualizar la distribución de llamadas diarias\n",
    "plt.figure(figsize=(10, 6))\n",
    "sns.histplot(llamados_diarios, kde=True, color='skyblue')\n",
    "plt.title('Distribución de Llamadas Diarias')\n",
    "plt.xlabel('Llamadas Diarias')\n",
    "plt.ylabel('Frecuencia')\n",
    "plt.show()"
   ]
  },
  {
   "cell_type": "markdown",
   "metadata": {},
   "source": [
    "## **3) Los niveles de satisfación mas bajos corresponden son directamente atribuibles al no resolucion del caso y a una espera superior al 15% del promedio de espera**\n",
    "\n",
    "**H0**: No hay evidencia significativa de que la velocidad de respuesta en segundos y la satisfacción del usuario tengan un efecto en la probabilidad de que una interacción sea resuelta.\n",
    "**H1**: Existe una diferencia significativa en la probabilidad de que una interacción sea resuelta en función de la velocidad de respuesta en segundos y la satisfacción del usuario.\n"
   ]
  },
  {
   "cell_type": "markdown",
   "metadata": {},
   "source": [
    "### Análisis de regresión lineal para examinar la relación entre los niveles de satisfacción y dos variables independientes: la resolución del caso (binaria: resuelto o no resuelto) y el tiempo de espera."
   ]
  },
  {
   "cell_type": "code",
   "execution_count": 82,
   "metadata": {},
   "outputs": [
    {
     "data": {
      "text/html": [
       "<div>\n",
       "<style scoped>\n",
       "    .dataframe tbody tr th:only-of-type {\n",
       "        vertical-align: middle;\n",
       "    }\n",
       "\n",
       "    .dataframe tbody tr th {\n",
       "        vertical-align: top;\n",
       "    }\n",
       "\n",
       "    .dataframe thead th {\n",
       "        text-align: right;\n",
       "    }\n",
       "</style>\n",
       "<table border=\"1\" class=\"dataframe\">\n",
       "  <thead>\n",
       "    <tr style=\"text-align: right;\">\n",
       "      <th></th>\n",
       "      <th>CALL ID</th>\n",
       "      <th>AGENT</th>\n",
       "      <th>DATE</th>\n",
       "      <th>DAY_OF_THE_WEEK</th>\n",
       "      <th>TIME</th>\n",
       "      <th>TOPIC</th>\n",
       "      <th>ANSWERED (Y/N)</th>\n",
       "      <th>RESOLVED</th>\n",
       "      <th>SPEED OF ANSWER IN SECONDS</th>\n",
       "      <th>AVGTALKDURATION</th>\n",
       "      <th>SATISFACTION RATING</th>\n",
       "    </tr>\n",
       "  </thead>\n",
       "  <tbody>\n",
       "    <tr>\n",
       "      <th>0</th>\n",
       "      <td>ID0033</td>\n",
       "      <td>Diane</td>\n",
       "      <td>2021-01-01</td>\n",
       "      <td>Friday</td>\n",
       "      <td>0 days 13:33:36</td>\n",
       "      <td>Technical Support</td>\n",
       "      <td>Y</td>\n",
       "      <td>Y</td>\n",
       "      <td>57.0</td>\n",
       "      <td>0 days 00:06:49</td>\n",
       "      <td>3.0</td>\n",
       "    </tr>\n",
       "    <tr>\n",
       "      <th>1</th>\n",
       "      <td>ID0056</td>\n",
       "      <td>Dan</td>\n",
       "      <td>2021-01-01</td>\n",
       "      <td>Friday</td>\n",
       "      <td>0 days 17:44:10</td>\n",
       "      <td>Streaming</td>\n",
       "      <td>Y</td>\n",
       "      <td>Y</td>\n",
       "      <td>83.0</td>\n",
       "      <td>0 days 00:06:45</td>\n",
       "      <td>4.0</td>\n",
       "    </tr>\n",
       "    <tr>\n",
       "      <th>2</th>\n",
       "      <td>ID0039</td>\n",
       "      <td>Stewart</td>\n",
       "      <td>2021-01-01</td>\n",
       "      <td>Friday</td>\n",
       "      <td>0 days 14:38:24</td>\n",
       "      <td>Contract related</td>\n",
       "      <td>Y</td>\n",
       "      <td>Y</td>\n",
       "      <td>74.0</td>\n",
       "      <td>0 days 00:06:41</td>\n",
       "      <td>1.0</td>\n",
       "    </tr>\n",
       "    <tr>\n",
       "      <th>3</th>\n",
       "      <td>ID0009</td>\n",
       "      <td>Greg</td>\n",
       "      <td>2021-01-01</td>\n",
       "      <td>Friday</td>\n",
       "      <td>0 days 11:13:55</td>\n",
       "      <td>Admin Support</td>\n",
       "      <td>Y</td>\n",
       "      <td>Y</td>\n",
       "      <td>15.0</td>\n",
       "      <td>0 days 00:06:38</td>\n",
       "      <td>4.0</td>\n",
       "    </tr>\n",
       "    <tr>\n",
       "      <th>4</th>\n",
       "      <td>ID0043</td>\n",
       "      <td>Diane</td>\n",
       "      <td>2021-01-01</td>\n",
       "      <td>Friday</td>\n",
       "      <td>0 days 14:47:02</td>\n",
       "      <td>Technical Support</td>\n",
       "      <td>Y</td>\n",
       "      <td>Y</td>\n",
       "      <td>45.0</td>\n",
       "      <td>0 days 00:06:21</td>\n",
       "      <td>3.0</td>\n",
       "    </tr>\n",
       "    <tr>\n",
       "      <th>...</th>\n",
       "      <td>...</td>\n",
       "      <td>...</td>\n",
       "      <td>...</td>\n",
       "      <td>...</td>\n",
       "      <td>...</td>\n",
       "      <td>...</td>\n",
       "      <td>...</td>\n",
       "      <td>...</td>\n",
       "      <td>...</td>\n",
       "      <td>...</td>\n",
       "      <td>...</td>\n",
       "    </tr>\n",
       "    <tr>\n",
       "      <th>4049</th>\n",
       "      <td>ID4987</td>\n",
       "      <td>Stewart</td>\n",
       "      <td>2021-03-31</td>\n",
       "      <td>Wednesday</td>\n",
       "      <td>0 days 13:01:55</td>\n",
       "      <td>Payment related</td>\n",
       "      <td>Y</td>\n",
       "      <td>N</td>\n",
       "      <td>10.0</td>\n",
       "      <td>0 days 00:02:26</td>\n",
       "      <td>4.0</td>\n",
       "    </tr>\n",
       "    <tr>\n",
       "      <th>4050</th>\n",
       "      <td>ID4986</td>\n",
       "      <td>Diane</td>\n",
       "      <td>2021-03-31</td>\n",
       "      <td>Wednesday</td>\n",
       "      <td>0 days 12:50:24</td>\n",
       "      <td>Streaming</td>\n",
       "      <td>Y</td>\n",
       "      <td>N</td>\n",
       "      <td>55.0</td>\n",
       "      <td>0 days 00:02:01</td>\n",
       "      <td>1.0</td>\n",
       "    </tr>\n",
       "    <tr>\n",
       "      <th>4051</th>\n",
       "      <td>ID4998</td>\n",
       "      <td>Diane</td>\n",
       "      <td>2021-03-31</td>\n",
       "      <td>Wednesday</td>\n",
       "      <td>0 days 16:53:46</td>\n",
       "      <td>Payment related</td>\n",
       "      <td>Y</td>\n",
       "      <td>Y</td>\n",
       "      <td>84.0</td>\n",
       "      <td>0 days 00:01:49</td>\n",
       "      <td>4.0</td>\n",
       "    </tr>\n",
       "    <tr>\n",
       "      <th>4052</th>\n",
       "      <td>ID4999</td>\n",
       "      <td>Jim</td>\n",
       "      <td>2021-03-31</td>\n",
       "      <td>Wednesday</td>\n",
       "      <td>0 days 17:02:24</td>\n",
       "      <td>Streaming</td>\n",
       "      <td>Y</td>\n",
       "      <td>Y</td>\n",
       "      <td>98.0</td>\n",
       "      <td>0 days 00:00:58</td>\n",
       "      <td>5.0</td>\n",
       "    </tr>\n",
       "    <tr>\n",
       "      <th>4053</th>\n",
       "      <td>ID4978</td>\n",
       "      <td>Greg</td>\n",
       "      <td>2021-03-31</td>\n",
       "      <td>Wednesday</td>\n",
       "      <td>0 days 10:13:26</td>\n",
       "      <td>Contract related</td>\n",
       "      <td>Y</td>\n",
       "      <td>Y</td>\n",
       "      <td>94.0</td>\n",
       "      <td>0 days 00:00:40</td>\n",
       "      <td>4.0</td>\n",
       "    </tr>\n",
       "  </tbody>\n",
       "</table>\n",
       "<p>4054 rows × 11 columns</p>\n",
       "</div>"
      ],
      "text/plain": [
       "     CALL ID    AGENT       DATE DAY_OF_THE_WEEK            TIME  \\\n",
       "0     ID0033    Diane 2021-01-01          Friday 0 days 13:33:36   \n",
       "1     ID0056      Dan 2021-01-01          Friday 0 days 17:44:10   \n",
       "2     ID0039  Stewart 2021-01-01          Friday 0 days 14:38:24   \n",
       "3     ID0009     Greg 2021-01-01          Friday 0 days 11:13:55   \n",
       "4     ID0043    Diane 2021-01-01          Friday 0 days 14:47:02   \n",
       "...      ...      ...        ...             ...             ...   \n",
       "4049  ID4987  Stewart 2021-03-31       Wednesday 0 days 13:01:55   \n",
       "4050  ID4986    Diane 2021-03-31       Wednesday 0 days 12:50:24   \n",
       "4051  ID4998    Diane 2021-03-31       Wednesday 0 days 16:53:46   \n",
       "4052  ID4999      Jim 2021-03-31       Wednesday 0 days 17:02:24   \n",
       "4053  ID4978     Greg 2021-03-31       Wednesday 0 days 10:13:26   \n",
       "\n",
       "                  TOPIC ANSWERED (Y/N) RESOLVED  SPEED OF ANSWER IN SECONDS  \\\n",
       "0     Technical Support              Y        Y                        57.0   \n",
       "1             Streaming              Y        Y                        83.0   \n",
       "2      Contract related              Y        Y                        74.0   \n",
       "3         Admin Support              Y        Y                        15.0   \n",
       "4     Technical Support              Y        Y                        45.0   \n",
       "...                 ...            ...      ...                         ...   \n",
       "4049    Payment related              Y        N                        10.0   \n",
       "4050          Streaming              Y        N                        55.0   \n",
       "4051    Payment related              Y        Y                        84.0   \n",
       "4052          Streaming              Y        Y                        98.0   \n",
       "4053   Contract related              Y        Y                        94.0   \n",
       "\n",
       "     AVGTALKDURATION  SATISFACTION RATING  \n",
       "0    0 days 00:06:49                  3.0  \n",
       "1    0 days 00:06:45                  4.0  \n",
       "2    0 days 00:06:41                  1.0  \n",
       "3    0 days 00:06:38                  4.0  \n",
       "4    0 days 00:06:21                  3.0  \n",
       "...              ...                  ...  \n",
       "4049 0 days 00:02:26                  4.0  \n",
       "4050 0 days 00:02:01                  1.0  \n",
       "4051 0 days 00:01:49                  4.0  \n",
       "4052 0 days 00:00:58                  5.0  \n",
       "4053 0 days 00:00:40                  4.0  \n",
       "\n",
       "[4054 rows x 11 columns]"
      ]
     },
     "execution_count": 82,
     "metadata": {},
     "output_type": "execute_result"
    }
   ],
   "source": [
    "Telecom"
   ]
  },
  {
   "cell_type": "code",
   "execution_count": 87,
   "metadata": {},
   "outputs": [
    {
     "name": "stdout",
     "output_type": "stream",
     "text": [
      "Warning: Maximum number of iterations has been exceeded.\n",
      "         Current function value: 0.000000\n",
      "         Iterations: 35\n",
      "                           Logit Regression Results                           \n",
      "==============================================================================\n",
      "Dep. Variable:               RESOLVED   No. Observations:                 4054\n",
      "Model:                          Logit   Df Residuals:                     4051\n",
      "Method:                           MLE   Df Model:                            2\n",
      "Date:                Sun, 03 Dec 2023   Pseudo R-squ.:                     inf\n",
      "Time:                        08:47:30   Log-Likelihood:            -2.5930e-11\n",
      "converged:                      False   LL-Null:                        0.0000\n",
      "Covariance Type:            nonrobust   LLR p-value:                     1.000\n",
      "==============================================================================================\n",
      "                                 coef    std err          z      P>|z|      [0.025      0.975]\n",
      "----------------------------------------------------------------------------------------------\n",
      "const                         35.0096   1.84e+06   1.91e-05      1.000    -3.6e+06     3.6e+06\n",
      "SPEED OF ANSWER IN SECONDS     0.1770   3.52e+04   5.03e-06      1.000   -6.89e+04    6.89e+04\n",
      "SATISFACTION RATING           -1.6563   3.67e+05  -4.51e-06      1.000    -7.2e+05     7.2e+05\n",
      "==============================================================================================\n",
      "\n",
      "Complete Separation: The results show that there iscomplete separation or perfect prediction.\n",
      "In this case the Maximum Likelihood Estimator does not exist and the parameters\n",
      "are not identified.\n",
      "No se puede rechazar H0: No hay evidencia significativa de que la velocidad de respuesta y la satisfacción del usuario afecten la probabilidad de resolución.\n",
      "No se puede aceptar H1: No hay una diferencia significativa en la probabilidad de resolución en función de la velocidad de respuesta y la satisfacción del usuario.\n"
     ]
    },
    {
     "name": "stderr",
     "output_type": "stream",
     "text": [
      "c:\\Users\\Lucia\\miniconda3\\envs\\.venv\\Lib\\site-packages\\statsmodels\\discrete\\discrete_model.py:227: PerfectSeparationWarning: Perfect separation or prediction detected, parameter may not be identified\n",
      "  warnings.warn(msg, category=PerfectSeparationWarning)\n",
      "c:\\Users\\Lucia\\miniconda3\\envs\\.venv\\Lib\\site-packages\\statsmodels\\discrete\\discrete_model.py:227: PerfectSeparationWarning: Perfect separation or prediction detected, parameter may not be identified\n",
      "  warnings.warn(msg, category=PerfectSeparationWarning)\n",
      "c:\\Users\\Lucia\\miniconda3\\envs\\.venv\\Lib\\site-packages\\statsmodels\\discrete\\discrete_model.py:227: PerfectSeparationWarning: Perfect separation or prediction detected, parameter may not be identified\n",
      "  warnings.warn(msg, category=PerfectSeparationWarning)\n",
      "c:\\Users\\Lucia\\miniconda3\\envs\\.venv\\Lib\\site-packages\\statsmodels\\discrete\\discrete_model.py:227: PerfectSeparationWarning: Perfect separation or prediction detected, parameter may not be identified\n",
      "  warnings.warn(msg, category=PerfectSeparationWarning)\n",
      "c:\\Users\\Lucia\\miniconda3\\envs\\.venv\\Lib\\site-packages\\statsmodels\\discrete\\discrete_model.py:227: PerfectSeparationWarning: Perfect separation or prediction detected, parameter may not be identified\n",
      "  warnings.warn(msg, category=PerfectSeparationWarning)\n",
      "c:\\Users\\Lucia\\miniconda3\\envs\\.venv\\Lib\\site-packages\\statsmodels\\discrete\\discrete_model.py:227: PerfectSeparationWarning: Perfect separation or prediction detected, parameter may not be identified\n",
      "  warnings.warn(msg, category=PerfectSeparationWarning)\n",
      "c:\\Users\\Lucia\\miniconda3\\envs\\.venv\\Lib\\site-packages\\statsmodels\\discrete\\discrete_model.py:227: PerfectSeparationWarning: Perfect separation or prediction detected, parameter may not be identified\n",
      "  warnings.warn(msg, category=PerfectSeparationWarning)\n",
      "c:\\Users\\Lucia\\miniconda3\\envs\\.venv\\Lib\\site-packages\\statsmodels\\discrete\\discrete_model.py:227: PerfectSeparationWarning: Perfect separation or prediction detected, parameter may not be identified\n",
      "  warnings.warn(msg, category=PerfectSeparationWarning)\n",
      "c:\\Users\\Lucia\\miniconda3\\envs\\.venv\\Lib\\site-packages\\statsmodels\\discrete\\discrete_model.py:227: PerfectSeparationWarning: Perfect separation or prediction detected, parameter may not be identified\n",
      "  warnings.warn(msg, category=PerfectSeparationWarning)\n",
      "c:\\Users\\Lucia\\miniconda3\\envs\\.venv\\Lib\\site-packages\\statsmodels\\discrete\\discrete_model.py:227: PerfectSeparationWarning: Perfect separation or prediction detected, parameter may not be identified\n",
      "  warnings.warn(msg, category=PerfectSeparationWarning)\n",
      "c:\\Users\\Lucia\\miniconda3\\envs\\.venv\\Lib\\site-packages\\statsmodels\\discrete\\discrete_model.py:227: PerfectSeparationWarning: Perfect separation or prediction detected, parameter may not be identified\n",
      "  warnings.warn(msg, category=PerfectSeparationWarning)\n",
      "c:\\Users\\Lucia\\miniconda3\\envs\\.venv\\Lib\\site-packages\\statsmodels\\discrete\\discrete_model.py:227: PerfectSeparationWarning: Perfect separation or prediction detected, parameter may not be identified\n",
      "  warnings.warn(msg, category=PerfectSeparationWarning)\n",
      "c:\\Users\\Lucia\\miniconda3\\envs\\.venv\\Lib\\site-packages\\statsmodels\\discrete\\discrete_model.py:227: PerfectSeparationWarning: Perfect separation or prediction detected, parameter may not be identified\n",
      "  warnings.warn(msg, category=PerfectSeparationWarning)\n",
      "c:\\Users\\Lucia\\miniconda3\\envs\\.venv\\Lib\\site-packages\\statsmodels\\discrete\\discrete_model.py:227: PerfectSeparationWarning: Perfect separation or prediction detected, parameter may not be identified\n",
      "  warnings.warn(msg, category=PerfectSeparationWarning)\n",
      "c:\\Users\\Lucia\\miniconda3\\envs\\.venv\\Lib\\site-packages\\statsmodels\\base\\model.py:607: ConvergenceWarning: Maximum Likelihood optimization failed to converge. Check mle_retvals\n",
      "  warnings.warn(\"Maximum Likelihood optimization failed to \"\n",
      "c:\\Users\\Lucia\\miniconda3\\envs\\.venv\\Lib\\site-packages\\statsmodels\\discrete\\discrete_model.py:227: PerfectSeparationWarning: Perfect separation or prediction detected, parameter may not be identified\n",
      "  warnings.warn(msg, category=PerfectSeparationWarning)\n",
      "c:\\Users\\Lucia\\miniconda3\\envs\\.venv\\Lib\\site-packages\\statsmodels\\discrete\\discrete_model.py:227: PerfectSeparationWarning: Perfect separation or prediction detected, parameter may not be identified\n",
      "  warnings.warn(msg, category=PerfectSeparationWarning)\n",
      "c:\\Users\\Lucia\\miniconda3\\envs\\.venv\\Lib\\site-packages\\statsmodels\\discrete\\discrete_model.py:227: PerfectSeparationWarning: Perfect separation or prediction detected, parameter may not be identified\n",
      "  warnings.warn(msg, category=PerfectSeparationWarning)\n",
      "c:\\Users\\Lucia\\miniconda3\\envs\\.venv\\Lib\\site-packages\\statsmodels\\discrete\\discrete_model.py:227: PerfectSeparationWarning: Perfect separation or prediction detected, parameter may not be identified\n",
      "  warnings.warn(msg, category=PerfectSeparationWarning)\n",
      "c:\\Users\\Lucia\\miniconda3\\envs\\.venv\\Lib\\site-packages\\statsmodels\\discrete\\discrete_model.py:227: PerfectSeparationWarning: Perfect separation or prediction detected, parameter may not be identified\n",
      "  warnings.warn(msg, category=PerfectSeparationWarning)\n",
      "c:\\Users\\Lucia\\miniconda3\\envs\\.venv\\Lib\\site-packages\\statsmodels\\discrete\\discrete_model.py:227: PerfectSeparationWarning: Perfect separation or prediction detected, parameter may not be identified\n",
      "  warnings.warn(msg, category=PerfectSeparationWarning)\n",
      "c:\\Users\\Lucia\\miniconda3\\envs\\.venv\\Lib\\site-packages\\statsmodels\\discrete\\discrete_model.py:227: PerfectSeparationWarning: Perfect separation or prediction detected, parameter may not be identified\n",
      "  warnings.warn(msg, category=PerfectSeparationWarning)\n",
      "c:\\Users\\Lucia\\miniconda3\\envs\\.venv\\Lib\\site-packages\\statsmodels\\discrete\\discrete_model.py:227: PerfectSeparationWarning: Perfect separation or prediction detected, parameter may not be identified\n",
      "  warnings.warn(msg, category=PerfectSeparationWarning)\n",
      "c:\\Users\\Lucia\\miniconda3\\envs\\.venv\\Lib\\site-packages\\statsmodels\\discrete\\discrete_model.py:227: PerfectSeparationWarning: Perfect separation or prediction detected, parameter may not be identified\n",
      "  warnings.warn(msg, category=PerfectSeparationWarning)\n",
      "c:\\Users\\Lucia\\miniconda3\\envs\\.venv\\Lib\\site-packages\\statsmodels\\discrete\\discrete_model.py:227: PerfectSeparationWarning: Perfect separation or prediction detected, parameter may not be identified\n",
      "  warnings.warn(msg, category=PerfectSeparationWarning)\n",
      "c:\\Users\\Lucia\\miniconda3\\envs\\.venv\\Lib\\site-packages\\statsmodels\\discrete\\discrete_model.py:227: PerfectSeparationWarning: Perfect separation or prediction detected, parameter may not be identified\n",
      "  warnings.warn(msg, category=PerfectSeparationWarning)\n",
      "c:\\Users\\Lucia\\miniconda3\\envs\\.venv\\Lib\\site-packages\\statsmodels\\discrete\\discrete_model.py:227: PerfectSeparationWarning: Perfect separation or prediction detected, parameter may not be identified\n",
      "  warnings.warn(msg, category=PerfectSeparationWarning)\n",
      "c:\\Users\\Lucia\\miniconda3\\envs\\.venv\\Lib\\site-packages\\statsmodels\\discrete\\discrete_model.py:227: PerfectSeparationWarning: Perfect separation or prediction detected, parameter may not be identified\n",
      "  warnings.warn(msg, category=PerfectSeparationWarning)\n",
      "c:\\Users\\Lucia\\miniconda3\\envs\\.venv\\Lib\\site-packages\\statsmodels\\discrete\\discrete_model.py:227: PerfectSeparationWarning: Perfect separation or prediction detected, parameter may not be identified\n",
      "  warnings.warn(msg, category=PerfectSeparationWarning)\n",
      "c:\\Users\\Lucia\\miniconda3\\envs\\.venv\\Lib\\site-packages\\statsmodels\\discrete\\discrete_model.py:227: PerfectSeparationWarning: Perfect separation or prediction detected, parameter may not be identified\n",
      "  warnings.warn(msg, category=PerfectSeparationWarning)\n",
      "c:\\Users\\Lucia\\miniconda3\\envs\\.venv\\Lib\\site-packages\\statsmodels\\discrete\\discrete_model.py:227: PerfectSeparationWarning: Perfect separation or prediction detected, parameter may not be identified\n",
      "  warnings.warn(msg, category=PerfectSeparationWarning)\n",
      "c:\\Users\\Lucia\\miniconda3\\envs\\.venv\\Lib\\site-packages\\statsmodels\\discrete\\discrete_model.py:227: PerfectSeparationWarning: Perfect separation or prediction detected, parameter may not be identified\n",
      "  warnings.warn(msg, category=PerfectSeparationWarning)\n",
      "c:\\Users\\Lucia\\miniconda3\\envs\\.venv\\Lib\\site-packages\\statsmodels\\discrete\\discrete_model.py:227: PerfectSeparationWarning: Perfect separation or prediction detected, parameter may not be identified\n",
      "  warnings.warn(msg, category=PerfectSeparationWarning)\n",
      "c:\\Users\\Lucia\\miniconda3\\envs\\.venv\\Lib\\site-packages\\statsmodels\\discrete\\discrete_model.py:227: PerfectSeparationWarning: Perfect separation or prediction detected, parameter may not be identified\n",
      "  warnings.warn(msg, category=PerfectSeparationWarning)\n",
      "c:\\Users\\Lucia\\miniconda3\\envs\\.venv\\Lib\\site-packages\\statsmodels\\discrete\\discrete_model.py:227: PerfectSeparationWarning: Perfect separation or prediction detected, parameter may not be identified\n",
      "  warnings.warn(msg, category=PerfectSeparationWarning)\n",
      "c:\\Users\\Lucia\\miniconda3\\envs\\.venv\\Lib\\site-packages\\statsmodels\\discrete\\discrete_model.py:227: PerfectSeparationWarning: Perfect separation or prediction detected, parameter may not be identified\n",
      "  warnings.warn(msg, category=PerfectSeparationWarning)\n",
      "c:\\Users\\Lucia\\miniconda3\\envs\\.venv\\Lib\\site-packages\\statsmodels\\base\\model.py:595: HessianInversionWarning: Inverting hessian failed, no bse or cov_params available\n",
      "  warnings.warn('Inverting hessian failed, no bse or cov_params '\n",
      "c:\\Users\\Lucia\\miniconda3\\envs\\.venv\\Lib\\site-packages\\statsmodels\\base\\model.py:595: HessianInversionWarning: Inverting hessian failed, no bse or cov_params available\n",
      "  warnings.warn('Inverting hessian failed, no bse or cov_params '\n",
      "c:\\Users\\Lucia\\miniconda3\\envs\\.venv\\Lib\\site-packages\\statsmodels\\discrete\\discrete_model.py:4465: RuntimeWarning: divide by zero encountered in scalar divide\n",
      "  return 1 - self.llf/self.llnull\n"
     ]
    }
   ],
   "source": [
    "import statsmodels.api as sm\n",
    "import pandas as pd\n",
    "\n",
    "# Asegúrate de que la variable dependiente sea de tipo numérico\n",
    "data = Telecom\n",
    "\n",
    "data['RESOLVED'] = data['RESOLVED'].map({'Y': True, 'N': False})\n",
    "\n",
    "# Convertir la columna a tipo booleano\n",
    "data['RESOLVED'] = data['RESOLVED'].astype(bool)\n",
    "\n",
    "# AGREGAMOS LA VARIABLES INDEPENDIENTES\n",
    "X = data[['SPEED OF ANSWER IN SECONDS','SATISFACTION RATING']]\n",
    "X = sm.add_constant(X)  #  SEGUN EL MODELO SE AGREGA LA CONSTANTE\n",
    "y = data['RESOLVED'] # AGREGAMOS LA VARIABLE DEPENDIENTE\n",
    "\n",
    "model = sm.Logit(y, X)\n",
    "result = model.fit()\n",
    "\n",
    "\n",
    "print(result.summary())\n",
    "\n",
    "\n",
    "p_values = result.pvalues\n",
    "\n",
    "alpha = 0.05\n",
    "\n",
    "if p_values['SPEED OF ANSWER IN SECONDS'] < alpha and p_values['SATISFACTION RATING'] < alpha:\n",
    "    print(\"Rechazar H0: Existe evidencia significativa de que la velocidad de respuesta y la satisfacción del usuario afectan la probabilidad de resolución.\")\n",
    "    print(\"Aceptar H1: Existe una diferencia significativa en la probabilidad de resolución en función de la velocidad de respuesta y la satisfacción del usuario.\")\n",
    "else:\n",
    "    print(\"No se puede rechazar H0: No hay evidencia significativa de que la velocidad de respuesta y la satisfacción del usuario afecten la probabilidad de resolución.\")\n",
    "    print(\"No se puede aceptar H1: No hay una diferencia significativa en la probabilidad de resolución en función de la velocidad de respuesta y la satisfacción del usuario.\")"
   ]
  },
  {
   "cell_type": "markdown",
   "metadata": {},
   "source": [
    "## ### **4) El 70% de los casos relacionados a los pagos se dan del 25 al 05 de cada mes  y son resueltos**\n",
    "\n",
    "**H0**: No hay evidencia significativa de que a las interaciones relacionadas a pagos se dan del 25 al 05 de cada mes  y son resueltos.\n",
    "\n",
    "**H1**: Existe una diferencia significativa en que a las interaciones relacionadas a pagos se dan del 25 al 05 de cada mes  y son resueltos."
   ]
  }
 ],
 "metadata": {
  "kernelspec": {
   "display_name": ".venv",
   "language": "python",
   "name": "python3"
  },
  "language_info": {
   "codemirror_mode": {
    "name": "ipython",
    "version": 3
   },
   "file_extension": ".py",
   "mimetype": "text/x-python",
   "name": "python",
   "nbconvert_exporter": "python",
   "pygments_lexer": "ipython3",
   "version": "3.11.5"
  }
 },
 "nbformat": 4,
 "nbformat_minor": 2
}
