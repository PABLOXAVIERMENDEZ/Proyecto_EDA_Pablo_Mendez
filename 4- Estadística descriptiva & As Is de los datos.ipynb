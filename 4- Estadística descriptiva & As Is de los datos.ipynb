{
 "cells": [
  {
   "cell_type": "markdown",
   "metadata": {},
   "source": [
    "# 4- Estadística descriptiva & As-Is de los datos"
   ]
  },
  {
   "cell_type": "markdown",
   "metadata": {},
   "source": [
    "# 1 Importación de librerias"
   ]
  },
  {
   "cell_type": "code",
   "execution_count": 2,
   "metadata": {},
   "outputs": [],
   "source": [
    "import pandas as pd\n",
    "import numpy as np\n",
    "import matplotlib.pyplot as plt\n",
    "import seaborn as sns\n"
   ]
  },
  {
   "cell_type": "markdown",
   "metadata": {},
   "source": [
    "# 2 Lectura de mi base de datos"
   ]
  },
  {
   "cell_type": "code",
   "execution_count": 3,
   "metadata": {},
   "outputs": [],
   "source": [
    "#puedo hacer un grafico tipo scaler dispersion de los tipos de llamados y los horarios que se realizan \n",
    "#hacer un grafico de la cantidad de llamadas por dia\n",
    "# hacer un radar plot para medir el nivel de satisfaccion vs tiempo de espera y resolución hay uno en el notebook del matplotlib\n",
    "# hay que tener en cuenta los tipos de graficos esta pagina es para ver que grafico usar https://www.data-to-viz.com/\n",
    "# hay que ver y entender los graficios los analisis univariantes, analisis bivariantes de 2 a 4 variables cuantitativas\n",
    "# en seaborn tengo para hacer analisis univariante \n",
    "# analizar la cardinalidad de los datos qualitativos de menos del 10 % con motivo de estudio ver como se hace el estudio\n",
    "# definir que tipo de variables es cada columna\n",
    "# ver y cambiar el tipo de type de cada columna\n",
    "# ver si es viable un mapa de correlacion boston_df.corr() tengo que excluir los tipo object\n",
    "# plt.figure(figsize=(12,9))\n",
    "# sns.heatmap(boston_df.corr(),\n",
    "#           vmin=-1,vmax=1,annot=True,linewidths=0.5); 1 y menos 1 muy correlacionados, 0 nada correlacionados\n",
    "# c:\\Users\\Lucia\\Desktop\\bootcamp\\DS_PT_09_2023\\Data_Analysis\\Analisis_de_datos\\ch_01\\Estadistica.md ahi esta como hacer mis hiótesis\n",
    "# ver que tipo de limitarion of correlarion pearson spearman y comentarlo\n",
    "# con el cmap le cambio los colores\n",
    "# correlograma no estoy seguro si aplica ver pero en ultima instancia\n",
    "# croos tan son como pivot table pero mas simple y luego puedo hacer graficos de eso ver seaborn catplot\n",
    "# Trimap\n",
    "# el codigo de entrega tiene que ser en un unico notebook \n",
    "# para mi columna avg tengo que hacer df.describe(include='object')\n",
    "# si completo un na tengo que justificar por que lo reemplazo y por que lo hago con el valor determinado\n",
    "# importar todas las librerias de visualización y graficos\n",
    "# para hacer los meses, las columnas puedo hacer df.loc['2016':'2018'] asi para poner entre 2 fechas\n",
    "# ver si se puede hacer un split en las columnas time para quedarme sin la fecha \n",
    "## goog.plot para fechas \n",
    "# .dttime o split par QUEDARME SOLO CON LA HORA (no fundiono en la primera me genera int y en la segunda me genera object)\n",
    "\n",
    "\n",
    "#¿para que deberia estandatizar mis datos? clase 29-11 se usa para hacer pruebas parametricas tal vez no hace falta en mi eda consultar\n",
    "# test de hipotsis con t de student"
   ]
  },
  {
   "cell_type": "code",
   "execution_count": 4,
   "metadata": {},
   "outputs": [],
   "source": [
    "Telecom_N = pd.read_csv(r'C:\\Users\\Lucia\\Desktop\\bootcamp\\Proyecto_EDA_Pablo_Mendez\\telecom_N.csv',\n",
    "                      parse_dates=['DATE'])"
   ]
  },
  {
   "cell_type": "code",
   "execution_count": 5,
   "metadata": {},
   "outputs": [
    {
     "name": "stdout",
     "output_type": "stream",
     "text": [
      "<class 'pandas.core.frame.DataFrame'>\n",
      "RangeIndex: 4054 entries, 0 to 4053\n",
      "Data columns (total 11 columns):\n",
      " #   Column                      Non-Null Count  Dtype         \n",
      "---  ------                      --------------  -----         \n",
      " 0   CALL ID                     4054 non-null   object        \n",
      " 1   AGENT                       4054 non-null   object        \n",
      " 2   DATE                        4054 non-null   datetime64[ns]\n",
      " 3   DAY_OF_THE_WEEK             4054 non-null   object        \n",
      " 4   TIME                        4054 non-null   object        \n",
      " 5   TOPIC                       4054 non-null   object        \n",
      " 6   ANSWERED (Y/N)              4054 non-null   object        \n",
      " 7   RESOLVED                    4054 non-null   object        \n",
      " 8   SPEED OF ANSWER IN SECONDS  4054 non-null   float64       \n",
      " 9   AVGTALKDURATION             4054 non-null   object        \n",
      " 10  SATISFACTION RATING         4054 non-null   float64       \n",
      "dtypes: datetime64[ns](1), float64(2), object(8)\n",
      "memory usage: 348.5+ KB\n"
     ]
    }
   ],
   "source": [
    "Telecom = pd.read_csv(r'C:\\Users\\Lucia\\Desktop\\bootcamp\\Proyecto_EDA_Pablo_Mendez\\telecom_Y.csv',\n",
    "                      parse_dates=['DATE'])\n",
    "Telecom.info()  \n",
    "# Corroboramos que al guardarse nuevamente en un CSV las columnas tipo Deltatime vuelve a ser Object con lo cual debemos  transformarlas.                  "
   ]
  },
  {
   "cell_type": "code",
   "execution_count": 6,
   "metadata": {},
   "outputs": [
    {
     "name": "stdout",
     "output_type": "stream",
     "text": [
      "<class 'pandas.core.frame.DataFrame'>\n",
      "RangeIndex: 4054 entries, 0 to 4053\n",
      "Data columns (total 11 columns):\n",
      " #   Column                      Non-Null Count  Dtype          \n",
      "---  ------                      --------------  -----          \n",
      " 0   CALL ID                     4054 non-null   object         \n",
      " 1   AGENT                       4054 non-null   object         \n",
      " 2   DATE                        4054 non-null   datetime64[ns] \n",
      " 3   DAY_OF_THE_WEEK             4054 non-null   object         \n",
      " 4   TIME                        4054 non-null   timedelta64[ns]\n",
      " 5   TOPIC                       4054 non-null   object         \n",
      " 6   ANSWERED (Y/N)              4054 non-null   object         \n",
      " 7   RESOLVED                    4054 non-null   object         \n",
      " 8   SPEED OF ANSWER IN SECONDS  4054 non-null   float64        \n",
      " 9   AVGTALKDURATION             4054 non-null   timedelta64[ns]\n",
      " 10  SATISFACTION RATING         4054 non-null   float64        \n",
      "dtypes: datetime64[ns](1), float64(2), object(6), timedelta64[ns](2)\n",
      "memory usage: 348.5+ KB\n"
     ]
    }
   ],
   "source": [
    "Telecom['TIME'] = pd.to_timedelta(Telecom['TIME'])\n",
    "Telecom['AVGTALKDURATION'] = pd.to_timedelta(Telecom['AVGTALKDURATION'])\n",
    "Telecom.info()"
   ]
  },
  {
   "cell_type": "markdown",
   "metadata": {},
   "source": [
    "# 3 Detalle & Entendimiento de las columnas\n"
   ]
  },
  {
   "cell_type": "code",
   "execution_count": 7,
   "metadata": {},
   "outputs": [
    {
     "data": {
      "text/html": [
       "<div>\n",
       "<style scoped>\n",
       "    .dataframe tbody tr th:only-of-type {\n",
       "        vertical-align: middle;\n",
       "    }\n",
       "\n",
       "    .dataframe tbody tr th {\n",
       "        vertical-align: top;\n",
       "    }\n",
       "\n",
       "    .dataframe thead th {\n",
       "        text-align: right;\n",
       "    }\n",
       "</style>\n",
       "<table border=\"1\" class=\"dataframe\">\n",
       "  <thead>\n",
       "    <tr style=\"text-align: right;\">\n",
       "      <th></th>\n",
       "      <th>CALL ID</th>\n",
       "      <th>AGENT</th>\n",
       "      <th>DATE</th>\n",
       "      <th>DAY_OF_THE_WEEK</th>\n",
       "      <th>TIME</th>\n",
       "      <th>TOPIC</th>\n",
       "      <th>ANSWERED (Y/N)</th>\n",
       "      <th>RESOLVED</th>\n",
       "      <th>SPEED OF ANSWER IN SECONDS</th>\n",
       "      <th>AVGTALKDURATION</th>\n",
       "      <th>SATISFACTION RATING</th>\n",
       "    </tr>\n",
       "  </thead>\n",
       "  <tbody>\n",
       "  </tbody>\n",
       "</table>\n",
       "</div>"
      ],
      "text/plain": [
       "Empty DataFrame\n",
       "Columns: [CALL ID, AGENT, DATE, DAY_OF_THE_WEEK, TIME, TOPIC, ANSWERED (Y/N), RESOLVED, SPEED OF ANSWER IN SECONDS, AVGTALKDURATION, SATISFACTION RATING]\n",
       "Index: []"
      ]
     },
     "execution_count": 7,
     "metadata": {},
     "output_type": "execute_result"
    }
   ],
   "source": [
    "Telecom.head(0)"
   ]
  },
  {
   "cell_type": "markdown",
   "metadata": {},
   "source": [
    "\n",
    "| Columnas                  | Descripción                                                       | Tipo de Variable |\n",
    "|:---------------------------:|-----------------------------------------------------------------|-------------------|\n",
    "| *1*                         | **CALL ID** - *ID único de las llamadas*                        |Cualitativa Ordinal|\n",
    "| *2*                         | **AGENT** - *Nombre del agente que participa en la interacción* |Cualitativa Nominal           |\n",
    "| *3*                         | **DATE** - *Fecha de la interacción con el cliente*             |Cuantitativa discreta          |\n",
    "| *4*                         | **DAY_OF_THE_WEEK** - *Día de la semana de la interacción*      |Cualitativa Ordinal           |\n",
    "| *5*                         | **TIME** - *Hora de inicio de la interacción*                   |Cuantitativa continua|\n",
    "| *6*                         | **TOPIC** - *Motivo principal de la interacción*                |Cualitativa Nominal|\n",
    "| *7*                         | **ANSWERED(Y/N)** - *Indica si la llamada se concreta o no*     |Cualitativa Nominal           |\n",
    "| *8*                         | **RESOLVED** - *Indica si la gestión/consulta fue resuelta*     |Cualitativa Nominal           |\n",
    "| *9*                         | **SPEED OF ANSWER IN SECONDS** - *Tiempo de demora del cliente* |Cuantitativa continua|\n",
    "| *10*                        | **AVGTALKDURATION** - *Duración de la interacción*              |Cuantitativa continua|\n",
    "| *11*                        | **SATISFACTION RATING** - *CSAT (Customer Satisfaction)*        |Cuantitativa discreta|"
   ]
  },
  {
   "cell_type": "markdown",
   "metadata": {},
   "source": [
    "# 4 Analisis preliminar "
   ]
  },
  {
   "cell_type": "code",
   "execution_count": 8,
   "metadata": {},
   "outputs": [
    {
     "data": {
      "text/html": [
       "<div>\n",
       "<style scoped>\n",
       "    .dataframe tbody tr th:only-of-type {\n",
       "        vertical-align: middle;\n",
       "    }\n",
       "\n",
       "    .dataframe tbody tr th {\n",
       "        vertical-align: top;\n",
       "    }\n",
       "\n",
       "    .dataframe thead th {\n",
       "        text-align: right;\n",
       "    }\n",
       "</style>\n",
       "<table border=\"1\" class=\"dataframe\">\n",
       "  <thead>\n",
       "    <tr style=\"text-align: right;\">\n",
       "      <th></th>\n",
       "      <th>CALL ID</th>\n",
       "      <th>AGENT</th>\n",
       "      <th>DATE</th>\n",
       "      <th>DAY_OF_THE_WEEK</th>\n",
       "      <th>TIME</th>\n",
       "      <th>TOPIC</th>\n",
       "      <th>ANSWERED (Y/N)</th>\n",
       "      <th>RESOLVED</th>\n",
       "      <th>SPEED OF ANSWER IN SECONDS</th>\n",
       "      <th>AVGTALKDURATION</th>\n",
       "      <th>SATISFACTION RATING</th>\n",
       "    </tr>\n",
       "  </thead>\n",
       "  <tbody>\n",
       "    <tr>\n",
       "      <th>0</th>\n",
       "      <td>ID0033</td>\n",
       "      <td>Diane</td>\n",
       "      <td>2021-01-01</td>\n",
       "      <td>Friday</td>\n",
       "      <td>0 days 13:33:36</td>\n",
       "      <td>Technical Support</td>\n",
       "      <td>Y</td>\n",
       "      <td>Y</td>\n",
       "      <td>57.0</td>\n",
       "      <td>0 days 00:06:49</td>\n",
       "      <td>3.0</td>\n",
       "    </tr>\n",
       "    <tr>\n",
       "      <th>1</th>\n",
       "      <td>ID0056</td>\n",
       "      <td>Dan</td>\n",
       "      <td>2021-01-01</td>\n",
       "      <td>Friday</td>\n",
       "      <td>0 days 17:44:10</td>\n",
       "      <td>Streaming</td>\n",
       "      <td>Y</td>\n",
       "      <td>Y</td>\n",
       "      <td>83.0</td>\n",
       "      <td>0 days 00:06:45</td>\n",
       "      <td>4.0</td>\n",
       "    </tr>\n",
       "    <tr>\n",
       "      <th>2</th>\n",
       "      <td>ID0039</td>\n",
       "      <td>Stewart</td>\n",
       "      <td>2021-01-01</td>\n",
       "      <td>Friday</td>\n",
       "      <td>0 days 14:38:24</td>\n",
       "      <td>Contract related</td>\n",
       "      <td>Y</td>\n",
       "      <td>Y</td>\n",
       "      <td>74.0</td>\n",
       "      <td>0 days 00:06:41</td>\n",
       "      <td>1.0</td>\n",
       "    </tr>\n",
       "    <tr>\n",
       "      <th>3</th>\n",
       "      <td>ID0009</td>\n",
       "      <td>Greg</td>\n",
       "      <td>2021-01-01</td>\n",
       "      <td>Friday</td>\n",
       "      <td>0 days 11:13:55</td>\n",
       "      <td>Admin Support</td>\n",
       "      <td>Y</td>\n",
       "      <td>Y</td>\n",
       "      <td>15.0</td>\n",
       "      <td>0 days 00:06:38</td>\n",
       "      <td>4.0</td>\n",
       "    </tr>\n",
       "    <tr>\n",
       "      <th>4</th>\n",
       "      <td>ID0043</td>\n",
       "      <td>Diane</td>\n",
       "      <td>2021-01-01</td>\n",
       "      <td>Friday</td>\n",
       "      <td>0 days 14:47:02</td>\n",
       "      <td>Technical Support</td>\n",
       "      <td>Y</td>\n",
       "      <td>Y</td>\n",
       "      <td>45.0</td>\n",
       "      <td>0 days 00:06:21</td>\n",
       "      <td>3.0</td>\n",
       "    </tr>\n",
       "    <tr>\n",
       "      <th>...</th>\n",
       "      <td>...</td>\n",
       "      <td>...</td>\n",
       "      <td>...</td>\n",
       "      <td>...</td>\n",
       "      <td>...</td>\n",
       "      <td>...</td>\n",
       "      <td>...</td>\n",
       "      <td>...</td>\n",
       "      <td>...</td>\n",
       "      <td>...</td>\n",
       "      <td>...</td>\n",
       "    </tr>\n",
       "    <tr>\n",
       "      <th>4049</th>\n",
       "      <td>ID4987</td>\n",
       "      <td>Stewart</td>\n",
       "      <td>2021-03-31</td>\n",
       "      <td>Wednesday</td>\n",
       "      <td>0 days 13:01:55</td>\n",
       "      <td>Payment related</td>\n",
       "      <td>Y</td>\n",
       "      <td>N</td>\n",
       "      <td>10.0</td>\n",
       "      <td>0 days 00:02:26</td>\n",
       "      <td>4.0</td>\n",
       "    </tr>\n",
       "    <tr>\n",
       "      <th>4050</th>\n",
       "      <td>ID4986</td>\n",
       "      <td>Diane</td>\n",
       "      <td>2021-03-31</td>\n",
       "      <td>Wednesday</td>\n",
       "      <td>0 days 12:50:24</td>\n",
       "      <td>Streaming</td>\n",
       "      <td>Y</td>\n",
       "      <td>N</td>\n",
       "      <td>55.0</td>\n",
       "      <td>0 days 00:02:01</td>\n",
       "      <td>1.0</td>\n",
       "    </tr>\n",
       "    <tr>\n",
       "      <th>4051</th>\n",
       "      <td>ID4998</td>\n",
       "      <td>Diane</td>\n",
       "      <td>2021-03-31</td>\n",
       "      <td>Wednesday</td>\n",
       "      <td>0 days 16:53:46</td>\n",
       "      <td>Payment related</td>\n",
       "      <td>Y</td>\n",
       "      <td>Y</td>\n",
       "      <td>84.0</td>\n",
       "      <td>0 days 00:01:49</td>\n",
       "      <td>4.0</td>\n",
       "    </tr>\n",
       "    <tr>\n",
       "      <th>4052</th>\n",
       "      <td>ID4999</td>\n",
       "      <td>Jim</td>\n",
       "      <td>2021-03-31</td>\n",
       "      <td>Wednesday</td>\n",
       "      <td>0 days 17:02:24</td>\n",
       "      <td>Streaming</td>\n",
       "      <td>Y</td>\n",
       "      <td>Y</td>\n",
       "      <td>98.0</td>\n",
       "      <td>0 days 00:00:58</td>\n",
       "      <td>5.0</td>\n",
       "    </tr>\n",
       "    <tr>\n",
       "      <th>4053</th>\n",
       "      <td>ID4978</td>\n",
       "      <td>Greg</td>\n",
       "      <td>2021-03-31</td>\n",
       "      <td>Wednesday</td>\n",
       "      <td>0 days 10:13:26</td>\n",
       "      <td>Contract related</td>\n",
       "      <td>Y</td>\n",
       "      <td>Y</td>\n",
       "      <td>94.0</td>\n",
       "      <td>0 days 00:00:40</td>\n",
       "      <td>4.0</td>\n",
       "    </tr>\n",
       "  </tbody>\n",
       "</table>\n",
       "<p>4054 rows × 11 columns</p>\n",
       "</div>"
      ],
      "text/plain": [
       "     CALL ID    AGENT       DATE DAY_OF_THE_WEEK            TIME  \\\n",
       "0     ID0033    Diane 2021-01-01          Friday 0 days 13:33:36   \n",
       "1     ID0056      Dan 2021-01-01          Friday 0 days 17:44:10   \n",
       "2     ID0039  Stewart 2021-01-01          Friday 0 days 14:38:24   \n",
       "3     ID0009     Greg 2021-01-01          Friday 0 days 11:13:55   \n",
       "4     ID0043    Diane 2021-01-01          Friday 0 days 14:47:02   \n",
       "...      ...      ...        ...             ...             ...   \n",
       "4049  ID4987  Stewart 2021-03-31       Wednesday 0 days 13:01:55   \n",
       "4050  ID4986    Diane 2021-03-31       Wednesday 0 days 12:50:24   \n",
       "4051  ID4998    Diane 2021-03-31       Wednesday 0 days 16:53:46   \n",
       "4052  ID4999      Jim 2021-03-31       Wednesday 0 days 17:02:24   \n",
       "4053  ID4978     Greg 2021-03-31       Wednesday 0 days 10:13:26   \n",
       "\n",
       "                  TOPIC ANSWERED (Y/N) RESOLVED  SPEED OF ANSWER IN SECONDS  \\\n",
       "0     Technical Support              Y        Y                        57.0   \n",
       "1             Streaming              Y        Y                        83.0   \n",
       "2      Contract related              Y        Y                        74.0   \n",
       "3         Admin Support              Y        Y                        15.0   \n",
       "4     Technical Support              Y        Y                        45.0   \n",
       "...                 ...            ...      ...                         ...   \n",
       "4049    Payment related              Y        N                        10.0   \n",
       "4050          Streaming              Y        N                        55.0   \n",
       "4051    Payment related              Y        Y                        84.0   \n",
       "4052          Streaming              Y        Y                        98.0   \n",
       "4053   Contract related              Y        Y                        94.0   \n",
       "\n",
       "     AVGTALKDURATION  SATISFACTION RATING  \n",
       "0    0 days 00:06:49                  3.0  \n",
       "1    0 days 00:06:45                  4.0  \n",
       "2    0 days 00:06:41                  1.0  \n",
       "3    0 days 00:06:38                  4.0  \n",
       "4    0 days 00:06:21                  3.0  \n",
       "...              ...                  ...  \n",
       "4049 0 days 00:02:26                  4.0  \n",
       "4050 0 days 00:02:01                  1.0  \n",
       "4051 0 days 00:01:49                  4.0  \n",
       "4052 0 days 00:00:58                  5.0  \n",
       "4053 0 days 00:00:40                  4.0  \n",
       "\n",
       "[4054 rows x 11 columns]"
      ]
     },
     "execution_count": 8,
     "metadata": {},
     "output_type": "execute_result"
    }
   ],
   "source": [
    "Telecom"
   ]
  },
  {
   "cell_type": "code",
   "execution_count": 9,
   "metadata": {},
   "outputs": [
    {
     "name": "stdout",
     "output_type": "stream",
     "text": [
      "<class 'pandas.core.frame.DataFrame'>\n",
      "RangeIndex: 946 entries, 0 to 945\n",
      "Data columns (total 11 columns):\n",
      " #   Column                      Non-Null Count  Dtype         \n",
      "---  ------                      --------------  -----         \n",
      " 0   CALL ID                     946 non-null    object        \n",
      " 1   AGENT                       946 non-null    object        \n",
      " 2   DATE                        946 non-null    datetime64[ns]\n",
      " 3   DAY_OF_THE_WEEK             946 non-null    object        \n",
      " 4   TIME                        946 non-null    object        \n",
      " 5   TOPIC                       946 non-null    object        \n",
      " 6   ANSWERED (Y/N)              946 non-null    object        \n",
      " 7   RESOLVED                    946 non-null    object        \n",
      " 8   SPEED OF ANSWER IN SECONDS  0 non-null      float64       \n",
      " 9   AVGTALKDURATION             946 non-null    object        \n",
      " 10  SATISFACTION RATING         0 non-null      float64       \n",
      "dtypes: datetime64[ns](1), float64(2), object(8)\n",
      "memory usage: 81.4+ KB\n"
     ]
    }
   ],
   "source": [
    "Telecom_N.info()"
   ]
  },
  {
   "cell_type": "markdown",
   "metadata": {},
   "source": [
    "#### *Disponemos de 5000 datos sin nulos con un total de 11 columnas*\n",
    "#### *4054 interacciones concretadas*\n",
    "#### *946 interacciones no concretadas*\n",
    "#### * disponemos de 11 columnas 6 son Cualitativas y 5 Cuantitativas*"
   ]
  },
  {
   "cell_type": "code",
   "execution_count": 10,
   "metadata": {},
   "outputs": [
    {
     "data": {
      "text/html": [
       "<div>\n",
       "<style scoped>\n",
       "    .dataframe tbody tr th:only-of-type {\n",
       "        vertical-align: middle;\n",
       "    }\n",
       "\n",
       "    .dataframe tbody tr th {\n",
       "        vertical-align: top;\n",
       "    }\n",
       "\n",
       "    .dataframe thead th {\n",
       "        text-align: right;\n",
       "    }\n",
       "</style>\n",
       "<table border=\"1\" class=\"dataframe\">\n",
       "  <thead>\n",
       "    <tr style=\"text-align: right;\">\n",
       "      <th></th>\n",
       "      <th>DATE</th>\n",
       "      <th>TIME</th>\n",
       "      <th>SPEED OF ANSWER IN SECONDS</th>\n",
       "      <th>AVGTALKDURATION</th>\n",
       "      <th>SATISFACTION RATING</th>\n",
       "    </tr>\n",
       "  </thead>\n",
       "  <tbody>\n",
       "    <tr>\n",
       "      <th>count</th>\n",
       "      <td>4054</td>\n",
       "      <td>4054</td>\n",
       "      <td>4054.000000</td>\n",
       "      <td>4054</td>\n",
       "      <td>4054.000000</td>\n",
       "    </tr>\n",
       "    <tr>\n",
       "      <th>mean</th>\n",
       "      <td>2021-02-13 01:23:28.386778624</td>\n",
       "      <td>0 days 13:32:07.630488406</td>\n",
       "      <td>67.520720</td>\n",
       "      <td>0 days 00:03:44.922792303</td>\n",
       "      <td>3.403552</td>\n",
       "    </tr>\n",
       "    <tr>\n",
       "      <th>min</th>\n",
       "      <td>2021-01-01 00:00:00</td>\n",
       "      <td>0 days 09:00:00</td>\n",
       "      <td>10.000000</td>\n",
       "      <td>0 days 00:00:30</td>\n",
       "      <td>1.000000</td>\n",
       "    </tr>\n",
       "    <tr>\n",
       "      <th>25%</th>\n",
       "      <td>2021-01-23 00:00:00</td>\n",
       "      <td>0 days 11:18:14</td>\n",
       "      <td>39.000000</td>\n",
       "      <td>0 days 00:02:10</td>\n",
       "      <td>3.000000</td>\n",
       "    </tr>\n",
       "    <tr>\n",
       "      <th>50%</th>\n",
       "      <td>2021-02-13 00:00:00</td>\n",
       "      <td>0 days 13:30:43</td>\n",
       "      <td>68.000000</td>\n",
       "      <td>0 days 00:03:46</td>\n",
       "      <td>3.000000</td>\n",
       "    </tr>\n",
       "    <tr>\n",
       "      <th>75%</th>\n",
       "      <td>2021-03-06 00:00:00</td>\n",
       "      <td>0 days 15:48:58</td>\n",
       "      <td>97.000000</td>\n",
       "      <td>0 days 00:05:19</td>\n",
       "      <td>4.000000</td>\n",
       "    </tr>\n",
       "    <tr>\n",
       "      <th>max</th>\n",
       "      <td>2021-03-31 00:00:00</td>\n",
       "      <td>0 days 18:00:00</td>\n",
       "      <td>125.000000</td>\n",
       "      <td>0 days 00:07:00</td>\n",
       "      <td>5.000000</td>\n",
       "    </tr>\n",
       "    <tr>\n",
       "      <th>std</th>\n",
       "      <td>NaN</td>\n",
       "      <td>0 days 02:37:25.513444935</td>\n",
       "      <td>33.592872</td>\n",
       "      <td>0 days 00:01:51.381554518</td>\n",
       "      <td>1.212220</td>\n",
       "    </tr>\n",
       "  </tbody>\n",
       "</table>\n",
       "</div>"
      ],
      "text/plain": [
       "                                DATE                       TIME  \\\n",
       "count                           4054                       4054   \n",
       "mean   2021-02-13 01:23:28.386778624  0 days 13:32:07.630488406   \n",
       "min              2021-01-01 00:00:00            0 days 09:00:00   \n",
       "25%              2021-01-23 00:00:00            0 days 11:18:14   \n",
       "50%              2021-02-13 00:00:00            0 days 13:30:43   \n",
       "75%              2021-03-06 00:00:00            0 days 15:48:58   \n",
       "max              2021-03-31 00:00:00            0 days 18:00:00   \n",
       "std                              NaN  0 days 02:37:25.513444935   \n",
       "\n",
       "       SPEED OF ANSWER IN SECONDS            AVGTALKDURATION  \\\n",
       "count                 4054.000000                       4054   \n",
       "mean                    67.520720  0 days 00:03:44.922792303   \n",
       "min                     10.000000            0 days 00:00:30   \n",
       "25%                     39.000000            0 days 00:02:10   \n",
       "50%                     68.000000            0 days 00:03:46   \n",
       "75%                     97.000000            0 days 00:05:19   \n",
       "max                    125.000000            0 days 00:07:00   \n",
       "std                     33.592872  0 days 00:01:51.381554518   \n",
       "\n",
       "       SATISFACTION RATING  \n",
       "count          4054.000000  \n",
       "mean              3.403552  \n",
       "min               1.000000  \n",
       "25%               3.000000  \n",
       "50%               3.000000  \n",
       "75%               4.000000  \n",
       "max               5.000000  \n",
       "std               1.212220  "
      ]
     },
     "execution_count": 10,
     "metadata": {},
     "output_type": "execute_result"
    }
   ],
   "source": [
    "Telecom.describe()"
   ]
  },
  {
   "cell_type": "markdown",
   "metadata": {},
   "source": [
    "#### Podemos inferir que hay atencion de lunes a domindo de 9 a 18 horas"
   ]
  },
  {
   "cell_type": "code",
   "execution_count": 11,
   "metadata": {},
   "outputs": [
    {
     "data": {
      "text/plain": [
       "array(['Friday', 'Saturday', 'Sunday', 'Monday', 'Tuesday', 'Wednesday',\n",
       "       'Thursday'], dtype=object)"
      ]
     },
     "execution_count": 11,
     "metadata": {},
     "output_type": "execute_result"
    }
   ],
   "source": [
    "Telecom['DAY_OF_THE_WEEK'].unique()"
   ]
  },
  {
   "cell_type": "code",
   "execution_count": 33,
   "metadata": {},
   "outputs": [],
   "source": [
    "Telecom_en_bruto = pd.read_csv(r'C:\\Users\\Lucia\\Desktop\\bootcamp\\Proyecto_EDA_Pablo_Mendez\\telecom.csv',\n",
    "                      parse_dates=['DATE'])"
   ]
  },
  {
   "cell_type": "markdown",
   "metadata": {},
   "source": [
    "#### En primer lugar analizamos que el equipo de atención al cliente atiende un 81,08% de las llamadas entrantes a esto lo denominaremos Nivel de Atención "
   ]
  },
  {
   "cell_type": "code",
   "execution_count": 14,
   "metadata": {},
   "outputs": [
    {
     "name": "stdout",
     "output_type": "stream",
     "text": [
      "ANSWERED (Y/N)\n",
      "Y    81.08\n",
      "N    18.92\n",
      "Name: count, dtype: float64\n"
     ]
    }
   ],
   "source": [
    "Nivel_de_atencion = (Telecom_en_bruto['ANSWERED (Y/N)'].value_counts()/Telecom_en_bruto['CALL ID'].count())*100\n",
    "print(Nivel_de_atencion)"
   ]
  },
  {
   "cell_type": "markdown",
   "metadata": {},
   "source": [
    "#### De las llamadas recibidas solo el 44.30% se antienden dentro del minuto a esto lo denominatemos Nivel de Servicio"
   ]
  },
  {
   "cell_type": "code",
   "execution_count": 47,
   "metadata": {},
   "outputs": [
    {
     "name": "stdout",
     "output_type": "stream",
     "text": [
      "El nivel de servicio CALL ID es 44.30%\n",
      "El nivel de servicio AGENT es 44.30%\n",
      "El nivel de servicio DAY_OF_THE_WEEK es 44.30%\n",
      "El nivel de servicio TOPIC es 44.30%\n",
      "El nivel de servicio ANSWERED (Y/N) es 44.30%\n",
      "El nivel de servicio RESOLVED es 44.30%\n"
     ]
    }
   ],
   "source": [
    "Nivel_de_servicio = (Telecom[Telecom['SPEED OF ANSWER IN SECONDS'] <= 60.0].count()/Telecom['CALL ID'].count())*100\n",
    "Nivel_de_servicio\n",
    "\n",
    "for i in Telecom[Telecom['SPEED OF ANSWER IN SECONDS'] <= 60.0].select_dtypes(include=object):\n",
    "    print(f\"El nivel de servicio {i} es {(Telecom[Telecom['SPEED OF ANSWER IN SECONDS'] <= 60.0][i].count()/Telecom.shape[0])*100:.2f}%\")"
   ]
  },
  {
   "cell_type": "markdown",
   "metadata": {},
   "source": [
    "#### *Calculamos la moda, la media y la mediana de los datos disponibles en Telecom*"
   ]
  },
  {
   "cell_type": "code",
   "execution_count": 49,
   "metadata": {},
   "outputs": [
    {
     "name": "stdout",
     "output_type": "stream",
     "text": [
      "Moda en la velocicad de respuesta en segundo = 0    53.0\n",
      "Name: SPEED OF ANSWER IN SECONDS, dtype: float64\n",
      "Media en la velocicad de respuesta en segundo = 67.52072027627035\n",
      "Mediana en la velocicad de respuesta en segundo = 68.0\n"
     ]
    }
   ],
   "source": [
    "Media = Telecom['SPEED OF ANSWER IN SECONDS'].mean()\n",
    "Mediana = Telecom['SPEED OF ANSWER IN SECONDS'].median()\n",
    "Moda = Telecom['SPEED OF ANSWER IN SECONDS'].mode()\n",
    "\n",
    "print(\"Moda en la velocicad de respuesta en segundo =\", Moda)\n",
    "print(\"Media en la velocicad de respuesta en segundo =\", Media)\n",
    "print(\"Mediana en la velocicad de respuesta en segundo =\", Mediana)"
   ]
  },
  {
   "cell_type": "code",
   "execution_count": 50,
   "metadata": {},
   "outputs": [
    {
     "name": "stdout",
     "output_type": "stream",
     "text": [
      "Moda en el tiempo promedio del llamado = 0   0 days 00:04:43\n",
      "Name: AVGTALKDURATION, dtype: timedelta64[ns]\n",
      "Media en el tiempo promedio del llamado = 0 days 00:03:44.922792303\n",
      "Mediana en el tiempo promedio del llamado = 0 days 00:03:46\n"
     ]
    }
   ],
   "source": [
    "Media = Telecom['AVGTALKDURATION'].mean()\n",
    "Mediana = Telecom['AVGTALKDURATION'].median()\n",
    "Moda = Telecom['AVGTALKDURATION'].mode()\n",
    "\n",
    "print(\"Moda en el tiempo promedio del llamado =\", Moda)\n",
    "print(\"Media en el tiempo promedio del llamado =\", Media)\n",
    "print(\"Mediana en el tiempo promedio del llamado =\", Mediana)"
   ]
  },
  {
   "cell_type": "code",
   "execution_count": 51,
   "metadata": {},
   "outputs": [
    {
     "name": "stdout",
     "output_type": "stream",
     "text": [
      "Moda en el nivel de satisfacción = 0    3.0\n",
      "Name: SATISFACTION RATING, dtype: float64\n",
      "Media en el nivel de satisfacción = 3.4035520473606313\n",
      "Mediana en el nivel de satisfacción = 3.0\n"
     ]
    }
   ],
   "source": [
    "Media = Telecom['SATISFACTION RATING'].mean()\n",
    "Mediana = Telecom['SATISFACTION RATING'].median()\n",
    "Moda = Telecom['SATISFACTION RATING'].mode()\n",
    "\n",
    "print(\"Moda en el nivel de satisfacción =\", Moda)\n",
    "print(\"Media en el nivel de satisfacción =\", Media)\n",
    "print(\"Mediana en el nivel de satisfacción =\", Mediana)"
   ]
  },
  {
   "cell_type": "markdown",
   "metadata": {},
   "source": [
    "## Cardinalidad de los datos "
   ]
  },
  {
   "cell_type": "code",
   "execution_count": 52,
   "metadata": {},
   "outputs": [],
   "source": [
    "def valores_unicos(Telecom):\n",
    "    detalle = {}\n",
    "    for columna in Telecom.columns:\n",
    "        valores_unicos = Telecom[columna].nunique()\n",
    "        detalle[columna] = valores_unicos\n",
    "    return detalle    "
   ]
  },
  {
   "cell_type": "code",
   "execution_count": 53,
   "metadata": {},
   "outputs": [
    {
     "data": {
      "text/plain": [
       "{'CALL ID': 4054,\n",
       " 'AGENT': 8,\n",
       " 'DATE': 90,\n",
       " 'DAY_OF_THE_WEEK': 7,\n",
       " 'TIME': 375,\n",
       " 'TOPIC': 5,\n",
       " 'ANSWERED (Y/N)': 1,\n",
       " 'RESOLVED': 2,\n",
       " 'SPEED OF ANSWER IN SECONDS': 116,\n",
       " 'AVGTALKDURATION': 391,\n",
       " 'SATISFACTION RATING': 5}"
      ]
     },
     "execution_count": 53,
     "metadata": {},
     "output_type": "execute_result"
    }
   ],
   "source": [
    "valores_unicos(Telecom)\n"
   ]
  },
  {
   "cell_type": "code",
   "execution_count": 55,
   "metadata": {},
   "outputs": [
    {
     "name": "stdout",
     "output_type": "stream",
     "text": [
      "La cardinalidad de la variable CALL ID es 100.00%\n",
      "La cardinalidad de la variable AGENT es 0.20%\n",
      "La cardinalidad de la variable DAY_OF_THE_WEEK es 0.17%\n",
      "La cardinalidad de la variable TOPIC es 0.12%\n",
      "La cardinalidad de la variable ANSWERED (Y/N) es 0.02%\n",
      "La cardinalidad de la variable RESOLVED es 0.05%\n"
     ]
    }
   ],
   "source": [
    "for i in Telecom.select_dtypes(include=object):\n",
    "    print(f\"La cardinalidad de la variable {i} es {(Telecom[i].nunique()/Telecom.shape[0])*100:.2f}%\")"
   ]
  },
  {
   "cell_type": "markdown",
   "metadata": {},
   "source": [
    "### Correlación de los datos"
   ]
  },
  {
   "cell_type": "markdown",
   "metadata": {},
   "source": [
    "#### utilizamos un grafico de correlación para analizar si las variables numeriacas se correlacionan entre si y vemos que en este primer analisis no tienen una correlación aparente. "
   ]
  },
  {
   "cell_type": "code",
   "execution_count": 57,
   "metadata": {},
   "outputs": [
    {
     "data": {
      "image/png": "[encoded data removed]",
      "text/plain": [
       "<Figure size 640x480 with 2 Axes>"
      ]
     },
     "metadata": {},
     "output_type": "display_data"
    }
   ],
   "source": [
    "sns.heatmap(Telecom.corr(numeric_only=True), annot=True);"
   ]
  },
  {
   "cell_type": "code",
   "execution_count": 23,
   "metadata": {},
   "outputs": [
    {
     "name": "stdout",
     "output_type": "stream",
     "text": [
      "45.044444444444444\n"
     ]
    }
   ],
   "source": [
    "promedio_diario_Neto = Telecom.groupby('DATE').size().mean()\n",
    "print(promedio_diario_Neto)"
   ]
  },
  {
   "cell_type": "code",
   "execution_count": 24,
   "metadata": {},
   "outputs": [
    {
     "name": "stdout",
     "output_type": "stream",
     "text": [
      "55.55555555555556\n"
     ]
    }
   ],
   "source": [
    "promedio_diario = Telecom_en_bruto.groupby('DATE').size().mean()\n",
    "print(promedio_diario)"
   ]
  },
  {
   "cell_type": "code",
   "execution_count": 60,
   "metadata": {},
   "outputs": [
    {
     "data": {
      "text/plain": [
       "DATE\n",
       "2021-01-01    46\n",
       "2021-01-02    48\n",
       "2021-01-03    47\n",
       "2021-01-04    44\n",
       "2021-01-05    49\n",
       "              ..\n",
       "2021-03-27    46\n",
       "2021-03-28    31\n",
       "2021-03-29    50\n",
       "2021-03-30    16\n",
       "2021-03-31    20\n",
       "Freq: D, Length: 90, dtype: int64"
      ]
     },
     "execution_count": 60,
     "metadata": {},
     "output_type": "execute_result"
    }
   ],
   "source": [
    "llamados_diarios_atendidos = Telecom.groupby(Telecom['DATE'].dt.to_period('D')).size()\n",
    "llamados_diarios_atendidos"
   ]
  },
  {
   "cell_type": "code",
   "execution_count": 61,
   "metadata": {},
   "outputs": [
    {
     "data": {
      "text/plain": [
       "DATE\n",
       "2021-01-01    12\n",
       "2021-01-02    12\n",
       "2021-01-03    11\n",
       "2021-01-04    10\n",
       "2021-01-05     7\n",
       "              ..\n",
       "2021-03-27    12\n",
       "2021-03-28     7\n",
       "2021-03-29    10\n",
       "2021-03-30     9\n",
       "2021-03-31     7\n",
       "Freq: D, Length: 90, dtype: int64"
      ]
     },
     "execution_count": 61,
     "metadata": {},
     "output_type": "execute_result"
    }
   ],
   "source": [
    "llamados_diarios_noatendidos = Telecom_N.groupby(Telecom_N['DATE'].dt.to_period('D')).size()\n",
    "llamados_diarios_noatendidos"
   ]
  },
  {
   "cell_type": "code",
   "execution_count": 59,
   "metadata": {},
   "outputs": [
    {
     "data": {
      "text/plain": [
       "DATE\n",
       "2021-01-01    58\n",
       "2021-01-02    60\n",
       "2021-01-03    58\n",
       "2021-01-04    54\n",
       "2021-01-05    56\n",
       "              ..\n",
       "2021-03-27    58\n",
       "2021-03-28    38\n",
       "2021-03-29    60\n",
       "2021-03-30    25\n",
       "2021-03-31    27\n",
       "Freq: D, Length: 90, dtype: int64"
      ]
     },
     "execution_count": 59,
     "metadata": {},
     "output_type": "execute_result"
    }
   ],
   "source": [
    "llamados_diarios = Telecom_en_bruto.groupby(Telecom_en_bruto['DATE'].dt.to_period('D')).size()\n",
    "llamados_diarios"
   ]
  },
  {
   "cell_type": "markdown",
   "metadata": {},
   "source": [
    "#### Se reciben en promedio 55.55 llamadas diarias de las cuales se atienden el el 81% aproximadamente (dato brindado en la linea de codigo nivel de atención)"
   ]
  },
  {
   "cell_type": "code",
   "execution_count": 25,
   "metadata": {},
   "outputs": [
    {
     "data": {
      "text/plain": [
       "DATE\n",
       "2021-01    1772\n",
       "2021-02    1616\n",
       "2021-03    1612\n",
       "Freq: M, dtype: int64"
      ]
     },
     "execution_count": 25,
     "metadata": {},
     "output_type": "execute_result"
    }
   ],
   "source": [
    "llamados_por_mes = Telecom_en_bruto.groupby(Telecom_en_bruto['DATE'].dt.to_period('M')).size()\n",
    "llamados_por_mes"
   ]
  },
  {
   "cell_type": "markdown",
   "metadata": {},
   "source": [
    "#### el volumen de llamados por mes es similar con una leve variación de mes a mes"
   ]
  },
  {
   "cell_type": "markdown",
   "metadata": {},
   "source": [
    "#### Visualizamos el total de llamadas por agente, Falta hacer una comparativa con el nivel de satisfaccion del agente "
   ]
  },
  {
   "cell_type": "code",
   "execution_count": 26,
   "metadata": {},
   "outputs": [
    {
     "data": {
      "text/html": [
       "<div>\n",
       "<style scoped>\n",
       "    .dataframe tbody tr th:only-of-type {\n",
       "        vertical-align: middle;\n",
       "    }\n",
       "\n",
       "    .dataframe tbody tr th {\n",
       "        vertical-align: top;\n",
       "    }\n",
       "\n",
       "    .dataframe thead th {\n",
       "        text-align: right;\n",
       "    }\n",
       "</style>\n",
       "<table border=\"1\" class=\"dataframe\">\n",
       "  <thead>\n",
       "    <tr style=\"text-align: right;\">\n",
       "      <th></th>\n",
       "      <th>AGENT</th>\n",
       "      <th>SATISFACTION RATING</th>\n",
       "    </tr>\n",
       "    <tr>\n",
       "      <th>AGENT</th>\n",
       "      <th></th>\n",
       "      <th></th>\n",
       "    </tr>\n",
       "  </thead>\n",
       "  <tbody>\n",
       "    <tr>\n",
       "      <th>Becky</th>\n",
       "      <td>517</td>\n",
       "      <td>3.371373</td>\n",
       "    </tr>\n",
       "    <tr>\n",
       "      <th>Dan</th>\n",
       "      <td>523</td>\n",
       "      <td>3.447419</td>\n",
       "    </tr>\n",
       "    <tr>\n",
       "      <th>Diane</th>\n",
       "      <td>501</td>\n",
       "      <td>3.405190</td>\n",
       "    </tr>\n",
       "    <tr>\n",
       "      <th>Greg</th>\n",
       "      <td>502</td>\n",
       "      <td>3.404382</td>\n",
       "    </tr>\n",
       "    <tr>\n",
       "      <th>Jim</th>\n",
       "      <td>536</td>\n",
       "      <td>3.393657</td>\n",
       "    </tr>\n",
       "    <tr>\n",
       "      <th>Joe</th>\n",
       "      <td>484</td>\n",
       "      <td>3.330579</td>\n",
       "    </tr>\n",
       "    <tr>\n",
       "      <th>Martha</th>\n",
       "      <td>514</td>\n",
       "      <td>3.470817</td>\n",
       "    </tr>\n",
       "    <tr>\n",
       "      <th>Stewart</th>\n",
       "      <td>477</td>\n",
       "      <td>3.400419</td>\n",
       "    </tr>\n",
       "  </tbody>\n",
       "</table>\n",
       "</div>"
      ],
      "text/plain": [
       "         AGENT  SATISFACTION RATING\n",
       "AGENT                              \n",
       "Becky      517             3.371373\n",
       "Dan        523             3.447419\n",
       "Diane      501             3.405190\n",
       "Greg       502             3.404382\n",
       "Jim        536             3.393657\n",
       "Joe        484             3.330579\n",
       "Martha     514             3.470817\n",
       "Stewart    477             3.400419"
      ]
     },
     "execution_count": 26,
     "metadata": {},
     "output_type": "execute_result"
    }
   ],
   "source": [
    "Telecom.groupby('AGENT').agg({'AGENT': 'count', 'SATISFACTION RATING': 'mean'})"
   ]
  },
  {
   "cell_type": "code",
   "execution_count": 27,
   "metadata": {},
   "outputs": [
    {
     "data": {
      "text/plain": [
       "AGENT\n",
       "Jim        536\n",
       "Dan        523\n",
       "Becky      517\n",
       "Martha     514\n",
       "Greg       502\n",
       "Diane      501\n",
       "Joe        484\n",
       "Stewart    477\n",
       "dtype: int64"
      ]
     },
     "execution_count": 27,
     "metadata": {},
     "output_type": "execute_result"
    }
   ],
   "source": [
    "Telecom.groupby(['AGENT']).size().sort_values(ascending=False)"
   ]
  },
  {
   "cell_type": "code",
   "execution_count": 28,
   "metadata": {},
   "outputs": [
    {
     "data": {
      "text/html": [
       "<div>\n",
       "<style scoped>\n",
       "    .dataframe tbody tr th:only-of-type {\n",
       "        vertical-align: middle;\n",
       "    }\n",
       "\n",
       "    .dataframe tbody tr th {\n",
       "        vertical-align: top;\n",
       "    }\n",
       "\n",
       "    .dataframe thead th {\n",
       "        text-align: right;\n",
       "    }\n",
       "</style>\n",
       "<table border=\"1\" class=\"dataframe\">\n",
       "  <thead>\n",
       "    <tr style=\"text-align: right;\">\n",
       "      <th></th>\n",
       "      <th></th>\n",
       "      <th>CALL ID</th>\n",
       "      <th>DATE</th>\n",
       "      <th>DAY_OF_THE_WEEK</th>\n",
       "      <th>TIME</th>\n",
       "      <th>TOPIC</th>\n",
       "      <th>ANSWERED (Y/N)</th>\n",
       "      <th>RESOLVED</th>\n",
       "      <th>SPEED OF ANSWER IN SECONDS</th>\n",
       "      <th>AVGTALKDURATION</th>\n",
       "      <th>SATISFACTION RATING</th>\n",
       "    </tr>\n",
       "    <tr>\n",
       "      <th>AGENT</th>\n",
       "      <th>DATE</th>\n",
       "      <th></th>\n",
       "      <th></th>\n",
       "      <th></th>\n",
       "      <th></th>\n",
       "      <th></th>\n",
       "      <th></th>\n",
       "      <th></th>\n",
       "      <th></th>\n",
       "      <th></th>\n",
       "      <th></th>\n",
       "    </tr>\n",
       "  </thead>\n",
       "  <tbody>\n",
       "    <tr>\n",
       "      <th rowspan=\"3\" valign=\"top\">Becky</th>\n",
       "      <th>2021-01</th>\n",
       "      <td>177</td>\n",
       "      <td>177</td>\n",
       "      <td>177</td>\n",
       "      <td>177</td>\n",
       "      <td>177</td>\n",
       "      <td>177</td>\n",
       "      <td>177</td>\n",
       "      <td>177</td>\n",
       "      <td>177</td>\n",
       "      <td>177</td>\n",
       "    </tr>\n",
       "    <tr>\n",
       "      <th>2021-02</th>\n",
       "      <td>170</td>\n",
       "      <td>170</td>\n",
       "      <td>170</td>\n",
       "      <td>170</td>\n",
       "      <td>170</td>\n",
       "      <td>170</td>\n",
       "      <td>170</td>\n",
       "      <td>170</td>\n",
       "      <td>170</td>\n",
       "      <td>170</td>\n",
       "    </tr>\n",
       "    <tr>\n",
       "      <th>2021-03</th>\n",
       "      <td>170</td>\n",
       "      <td>170</td>\n",
       "      <td>170</td>\n",
       "      <td>170</td>\n",
       "      <td>170</td>\n",
       "      <td>170</td>\n",
       "      <td>170</td>\n",
       "      <td>170</td>\n",
       "      <td>170</td>\n",
       "      <td>170</td>\n",
       "    </tr>\n",
       "    <tr>\n",
       "      <th rowspan=\"3\" valign=\"top\">Dan</th>\n",
       "      <th>2021-01</th>\n",
       "      <td>190</td>\n",
       "      <td>190</td>\n",
       "      <td>190</td>\n",
       "      <td>190</td>\n",
       "      <td>190</td>\n",
       "      <td>190</td>\n",
       "      <td>190</td>\n",
       "      <td>190</td>\n",
       "      <td>190</td>\n",
       "      <td>190</td>\n",
       "    </tr>\n",
       "    <tr>\n",
       "      <th>2021-02</th>\n",
       "      <td>170</td>\n",
       "      <td>170</td>\n",
       "      <td>170</td>\n",
       "      <td>170</td>\n",
       "      <td>170</td>\n",
       "      <td>170</td>\n",
       "      <td>170</td>\n",
       "      <td>170</td>\n",
       "      <td>170</td>\n",
       "      <td>170</td>\n",
       "    </tr>\n",
       "    <tr>\n",
       "      <th>2021-03</th>\n",
       "      <td>163</td>\n",
       "      <td>163</td>\n",
       "      <td>163</td>\n",
       "      <td>163</td>\n",
       "      <td>163</td>\n",
       "      <td>163</td>\n",
       "      <td>163</td>\n",
       "      <td>163</td>\n",
       "      <td>163</td>\n",
       "      <td>163</td>\n",
       "    </tr>\n",
       "    <tr>\n",
       "      <th rowspan=\"3\" valign=\"top\">Diane</th>\n",
       "      <th>2021-01</th>\n",
       "      <td>185</td>\n",
       "      <td>185</td>\n",
       "      <td>185</td>\n",
       "      <td>185</td>\n",
       "      <td>185</td>\n",
       "      <td>185</td>\n",
       "      <td>185</td>\n",
       "      <td>185</td>\n",
       "      <td>185</td>\n",
       "      <td>185</td>\n",
       "    </tr>\n",
       "    <tr>\n",
       "      <th>2021-02</th>\n",
       "      <td>157</td>\n",
       "      <td>157</td>\n",
       "      <td>157</td>\n",
       "      <td>157</td>\n",
       "      <td>157</td>\n",
       "      <td>157</td>\n",
       "      <td>157</td>\n",
       "      <td>157</td>\n",
       "      <td>157</td>\n",
       "      <td>157</td>\n",
       "    </tr>\n",
       "    <tr>\n",
       "      <th>2021-03</th>\n",
       "      <td>159</td>\n",
       "      <td>159</td>\n",
       "      <td>159</td>\n",
       "      <td>159</td>\n",
       "      <td>159</td>\n",
       "      <td>159</td>\n",
       "      <td>159</td>\n",
       "      <td>159</td>\n",
       "      <td>159</td>\n",
       "      <td>159</td>\n",
       "    </tr>\n",
       "    <tr>\n",
       "      <th rowspan=\"3\" valign=\"top\">Greg</th>\n",
       "      <th>2021-01</th>\n",
       "      <td>173</td>\n",
       "      <td>173</td>\n",
       "      <td>173</td>\n",
       "      <td>173</td>\n",
       "      <td>173</td>\n",
       "      <td>173</td>\n",
       "      <td>173</td>\n",
       "      <td>173</td>\n",
       "      <td>173</td>\n",
       "      <td>173</td>\n",
       "    </tr>\n",
       "    <tr>\n",
       "      <th>2021-02</th>\n",
       "      <td>176</td>\n",
       "      <td>176</td>\n",
       "      <td>176</td>\n",
       "      <td>176</td>\n",
       "      <td>176</td>\n",
       "      <td>176</td>\n",
       "      <td>176</td>\n",
       "      <td>176</td>\n",
       "      <td>176</td>\n",
       "      <td>176</td>\n",
       "    </tr>\n",
       "    <tr>\n",
       "      <th>2021-03</th>\n",
       "      <td>153</td>\n",
       "      <td>153</td>\n",
       "      <td>153</td>\n",
       "      <td>153</td>\n",
       "      <td>153</td>\n",
       "      <td>153</td>\n",
       "      <td>153</td>\n",
       "      <td>153</td>\n",
       "      <td>153</td>\n",
       "      <td>153</td>\n",
       "    </tr>\n",
       "    <tr>\n",
       "      <th rowspan=\"3\" valign=\"top\">Jim</th>\n",
       "      <th>2021-01</th>\n",
       "      <td>187</td>\n",
       "      <td>187</td>\n",
       "      <td>187</td>\n",
       "      <td>187</td>\n",
       "      <td>187</td>\n",
       "      <td>187</td>\n",
       "      <td>187</td>\n",
       "      <td>187</td>\n",
       "      <td>187</td>\n",
       "      <td>187</td>\n",
       "    </tr>\n",
       "    <tr>\n",
       "      <th>2021-02</th>\n",
       "      <td>172</td>\n",
       "      <td>172</td>\n",
       "      <td>172</td>\n",
       "      <td>172</td>\n",
       "      <td>172</td>\n",
       "      <td>172</td>\n",
       "      <td>172</td>\n",
       "      <td>172</td>\n",
       "      <td>172</td>\n",
       "      <td>172</td>\n",
       "    </tr>\n",
       "    <tr>\n",
       "      <th>2021-03</th>\n",
       "      <td>177</td>\n",
       "      <td>177</td>\n",
       "      <td>177</td>\n",
       "      <td>177</td>\n",
       "      <td>177</td>\n",
       "      <td>177</td>\n",
       "      <td>177</td>\n",
       "      <td>177</td>\n",
       "      <td>177</td>\n",
       "      <td>177</td>\n",
       "    </tr>\n",
       "    <tr>\n",
       "      <th rowspan=\"3\" valign=\"top\">Joe</th>\n",
       "      <th>2021-01</th>\n",
       "      <td>186</td>\n",
       "      <td>186</td>\n",
       "      <td>186</td>\n",
       "      <td>186</td>\n",
       "      <td>186</td>\n",
       "      <td>186</td>\n",
       "      <td>186</td>\n",
       "      <td>186</td>\n",
       "      <td>186</td>\n",
       "      <td>186</td>\n",
       "    </tr>\n",
       "    <tr>\n",
       "      <th>2021-02</th>\n",
       "      <td>150</td>\n",
       "      <td>150</td>\n",
       "      <td>150</td>\n",
       "      <td>150</td>\n",
       "      <td>150</td>\n",
       "      <td>150</td>\n",
       "      <td>150</td>\n",
       "      <td>150</td>\n",
       "      <td>150</td>\n",
       "      <td>150</td>\n",
       "    </tr>\n",
       "    <tr>\n",
       "      <th>2021-03</th>\n",
       "      <td>148</td>\n",
       "      <td>148</td>\n",
       "      <td>148</td>\n",
       "      <td>148</td>\n",
       "      <td>148</td>\n",
       "      <td>148</td>\n",
       "      <td>148</td>\n",
       "      <td>148</td>\n",
       "      <td>148</td>\n",
       "      <td>148</td>\n",
       "    </tr>\n",
       "    <tr>\n",
       "      <th rowspan=\"3\" valign=\"top\">Martha</th>\n",
       "      <th>2021-01</th>\n",
       "      <td>171</td>\n",
       "      <td>171</td>\n",
       "      <td>171</td>\n",
       "      <td>171</td>\n",
       "      <td>171</td>\n",
       "      <td>171</td>\n",
       "      <td>171</td>\n",
       "      <td>171</td>\n",
       "      <td>171</td>\n",
       "      <td>171</td>\n",
       "    </tr>\n",
       "    <tr>\n",
       "      <th>2021-02</th>\n",
       "      <td>168</td>\n",
       "      <td>168</td>\n",
       "      <td>168</td>\n",
       "      <td>168</td>\n",
       "      <td>168</td>\n",
       "      <td>168</td>\n",
       "      <td>168</td>\n",
       "      <td>168</td>\n",
       "      <td>168</td>\n",
       "      <td>168</td>\n",
       "    </tr>\n",
       "    <tr>\n",
       "      <th>2021-03</th>\n",
       "      <td>175</td>\n",
       "      <td>175</td>\n",
       "      <td>175</td>\n",
       "      <td>175</td>\n",
       "      <td>175</td>\n",
       "      <td>175</td>\n",
       "      <td>175</td>\n",
       "      <td>175</td>\n",
       "      <td>175</td>\n",
       "      <td>175</td>\n",
       "    </tr>\n",
       "    <tr>\n",
       "      <th rowspan=\"3\" valign=\"top\">Stewart</th>\n",
       "      <th>2021-01</th>\n",
       "      <td>186</td>\n",
       "      <td>186</td>\n",
       "      <td>186</td>\n",
       "      <td>186</td>\n",
       "      <td>186</td>\n",
       "      <td>186</td>\n",
       "      <td>186</td>\n",
       "      <td>186</td>\n",
       "      <td>186</td>\n",
       "      <td>186</td>\n",
       "    </tr>\n",
       "    <tr>\n",
       "      <th>2021-02</th>\n",
       "      <td>135</td>\n",
       "      <td>135</td>\n",
       "      <td>135</td>\n",
       "      <td>135</td>\n",
       "      <td>135</td>\n",
       "      <td>135</td>\n",
       "      <td>135</td>\n",
       "      <td>135</td>\n",
       "      <td>135</td>\n",
       "      <td>135</td>\n",
       "    </tr>\n",
       "    <tr>\n",
       "      <th>2021-03</th>\n",
       "      <td>156</td>\n",
       "      <td>156</td>\n",
       "      <td>156</td>\n",
       "      <td>156</td>\n",
       "      <td>156</td>\n",
       "      <td>156</td>\n",
       "      <td>156</td>\n",
       "      <td>156</td>\n",
       "      <td>156</td>\n",
       "      <td>156</td>\n",
       "    </tr>\n",
       "  </tbody>\n",
       "</table>\n",
       "</div>"
      ],
      "text/plain": [
       "                 CALL ID  DATE  DAY_OF_THE_WEEK  TIME  TOPIC  ANSWERED (Y/N)  \\\n",
       "AGENT   DATE                                                                   \n",
       "Becky   2021-01      177   177              177   177    177             177   \n",
       "        2021-02      170   170              170   170    170             170   \n",
       "        2021-03      170   170              170   170    170             170   \n",
       "Dan     2021-01      190   190              190   190    190             190   \n",
       "        2021-02      170   170              170   170    170             170   \n",
       "        2021-03      163   163              163   163    163             163   \n",
       "Diane   2021-01      185   185              185   185    185             185   \n",
       "        2021-02      157   157              157   157    157             157   \n",
       "        2021-03      159   159              159   159    159             159   \n",
       "Greg    2021-01      173   173              173   173    173             173   \n",
       "        2021-02      176   176              176   176    176             176   \n",
       "        2021-03      153   153              153   153    153             153   \n",
       "Jim     2021-01      187   187              187   187    187             187   \n",
       "        2021-02      172   172              172   172    172             172   \n",
       "        2021-03      177   177              177   177    177             177   \n",
       "Joe     2021-01      186   186              186   186    186             186   \n",
       "        2021-02      150   150              150   150    150             150   \n",
       "        2021-03      148   148              148   148    148             148   \n",
       "Martha  2021-01      171   171              171   171    171             171   \n",
       "        2021-02      168   168              168   168    168             168   \n",
       "        2021-03      175   175              175   175    175             175   \n",
       "Stewart 2021-01      186   186              186   186    186             186   \n",
       "        2021-02      135   135              135   135    135             135   \n",
       "        2021-03      156   156              156   156    156             156   \n",
       "\n",
       "                 RESOLVED  SPEED OF ANSWER IN SECONDS  AVGTALKDURATION  \\\n",
       "AGENT   DATE                                                             \n",
       "Becky   2021-01       177                         177              177   \n",
       "        2021-02       170                         170              170   \n",
       "        2021-03       170                         170              170   \n",
       "Dan     2021-01       190                         190              190   \n",
       "        2021-02       170                         170              170   \n",
       "        2021-03       163                         163              163   \n",
       "Diane   2021-01       185                         185              185   \n",
       "        2021-02       157                         157              157   \n",
       "        2021-03       159                         159              159   \n",
       "Greg    2021-01       173                         173              173   \n",
       "        2021-02       176                         176              176   \n",
       "        2021-03       153                         153              153   \n",
       "Jim     2021-01       187                         187              187   \n",
       "        2021-02       172                         172              172   \n",
       "        2021-03       177                         177              177   \n",
       "Joe     2021-01       186                         186              186   \n",
       "        2021-02       150                         150              150   \n",
       "        2021-03       148                         148              148   \n",
       "Martha  2021-01       171                         171              171   \n",
       "        2021-02       168                         168              168   \n",
       "        2021-03       175                         175              175   \n",
       "Stewart 2021-01       186                         186              186   \n",
       "        2021-02       135                         135              135   \n",
       "        2021-03       156                         156              156   \n",
       "\n",
       "                 SATISFACTION RATING  \n",
       "AGENT   DATE                          \n",
       "Becky   2021-01                  177  \n",
       "        2021-02                  170  \n",
       "        2021-03                  170  \n",
       "Dan     2021-01                  190  \n",
       "        2021-02                  170  \n",
       "        2021-03                  163  \n",
       "Diane   2021-01                  185  \n",
       "        2021-02                  157  \n",
       "        2021-03                  159  \n",
       "Greg    2021-01                  173  \n",
       "        2021-02                  176  \n",
       "        2021-03                  153  \n",
       "Jim     2021-01                  187  \n",
       "        2021-02                  172  \n",
       "        2021-03                  177  \n",
       "Joe     2021-01                  186  \n",
       "        2021-02                  150  \n",
       "        2021-03                  148  \n",
       "Martha  2021-01                  171  \n",
       "        2021-02                  168  \n",
       "        2021-03                  175  \n",
       "Stewart 2021-01                  186  \n",
       "        2021-02                  135  \n",
       "        2021-03                  156  "
      ]
     },
     "execution_count": 28,
     "metadata": {},
     "output_type": "execute_result"
    }
   ],
   "source": [
    "Telecom.groupby(['AGENT', Telecom['DATE'].dt.to_period('M')]).count()"
   ]
  },
  {
   "cell_type": "code",
   "execution_count": 29,
   "metadata": {},
   "outputs": [
    {
     "data": {
      "text/plain": [
       "8"
      ]
     },
     "execution_count": 29,
     "metadata": {},
     "output_type": "execute_result"
    }
   ],
   "source": [
    "Telecom['AGENT'].nunique()"
   ]
  },
  {
   "cell_type": "code",
   "execution_count": 30,
   "metadata": {},
   "outputs": [
    {
     "name": "stdout",
     "output_type": "stream",
     "text": [
      "506.75 atendias por agente en promedio\n"
     ]
    }
   ],
   "source": [
    "promedio_llamadas_por_agente = Telecom.groupby('AGENT').size().mean()\n",
    "print(promedio_llamadas_por_agente,'atendias por agente en promedio')"
   ]
  },
  {
   "cell_type": "code",
   "execution_count": 31,
   "metadata": {},
   "outputs": [
    {
     "data": {
      "text/plain": [
       "TOPIC\n",
       "Streaming            20.89%\n",
       "Payment related      20.18%\n",
       "Technical Support    19.86%\n",
       "Admin Support        19.61%\n",
       "Contract related     19.46%\n",
       "Name: count, dtype: object"
      ]
     },
     "execution_count": 31,
     "metadata": {},
     "output_type": "execute_result"
    }
   ],
   "source": [
    "Porcentaje = (((Telecom['TOPIC'].value_counts())/Telecom['CALL ID'].count())*100)\n",
    "Porcentaje = Porcentaje.apply(lambda x: f\"{x:.2f}%\")\n",
    "Porcentaje"
   ]
  },
  {
   "cell_type": "markdown",
   "metadata": {},
   "source": [
    "#### *Podriamos decir que existe una distrubución con tendencia uniforma dado que no existe un topico preponderante*"
   ]
  },
  {
   "cell_type": "code",
   "execution_count": 32,
   "metadata": {},
   "outputs": [
    {
     "name": "stderr",
     "output_type": "stream",
     "text": [
      "C:\\Users\\Lucia\\AppData\\Local\\Temp\\ipykernel_9520\\1372254351.py:4: FutureWarning: \n",
      "\n",
      "Passing `palette` without assigning `hue` is deprecated and will be removed in v0.14.0. Assign the `x` variable to `hue` and set `legend=False` for the same effect.\n",
      "\n",
      "  sns.barplot(x=Telecom['TOPIC'].value_counts().index, y=Telecom['TOPIC'].value_counts(), palette='viridis')\n"
     ]
    },
    {
     "ename": "TypeError",
     "evalue": "text() missing 3 required positional arguments: 'x', 'y', and 's'",
     "output_type": "error",
     "traceback": [
      "\u001b[1;31m---------------------------------------------------------------------------\u001b[0m",
      "\u001b[1;31mTypeError\u001b[0m                                 Traceback (most recent call last)",
      "\u001b[1;32mc:\\Users\\Lucia\\Desktop\\bootcamp\\Proyecto_EDA_Pablo_Mendez\\4- Estadística descriptiva & As Is de los datos.ipynb Cell 48\u001b[0m line \u001b[0;36m1\n\u001b[0;32m      <a href='vscode-notebook-cell:/c%3A/Users/Lucia/Desktop/bootcamp/Proyecto_EDA_Pablo_Mendez/4-%20Estad%C3%ADstica%20descriptiva%20%26%20As%20Is%20de%20los%20datos.ipynb#X64sZmlsZQ%3D%3D?line=7'>8</a>\u001b[0m plt\u001b[39m.\u001b[39mylabel(\u001b[39m'\u001b[39m\u001b[39mCantidad\u001b[39m\u001b[39m'\u001b[39m)\n\u001b[0;32m      <a href='vscode-notebook-cell:/c%3A/Users/Lucia/Desktop/bootcamp/Proyecto_EDA_Pablo_Mendez/4-%20Estad%C3%ADstica%20descriptiva%20%26%20As%20Is%20de%20los%20datos.ipynb#X64sZmlsZQ%3D%3D?line=8'>9</a>\u001b[0m plt\u001b[39m.\u001b[39mtitle(\u001b[39m'\u001b[39m\u001b[39mDistribución de las interacciones\u001b[39m\u001b[39m'\u001b[39m)\n\u001b[1;32m---> <a href='vscode-notebook-cell:/c%3A/Users/Lucia/Desktop/bootcamp/Proyecto_EDA_Pablo_Mendez/4-%20Estad%C3%ADstica%20descriptiva%20%26%20As%20Is%20de%20los%20datos.ipynb#X64sZmlsZQ%3D%3D?line=9'>10</a>\u001b[0m plt\u001b[39m.\u001b[39;49mtext()\n\u001b[0;32m     <a href='vscode-notebook-cell:/c%3A/Users/Lucia/Desktop/bootcamp/Proyecto_EDA_Pablo_Mendez/4-%20Estad%C3%ADstica%20descriptiva%20%26%20As%20Is%20de%20los%20datos.ipynb#X64sZmlsZQ%3D%3D?line=13'>14</a>\u001b[0m plt\u001b[39m.\u001b[39mxticks(rotation\u001b[39m=\u001b[39m\u001b[39m45\u001b[39m, ha\u001b[39m=\u001b[39m\u001b[39m'\u001b[39m\u001b[39mright\u001b[39m\u001b[39m'\u001b[39m)\n\u001b[0;32m     <a href='vscode-notebook-cell:/c%3A/Users/Lucia/Desktop/bootcamp/Proyecto_EDA_Pablo_Mendez/4-%20Estad%C3%ADstica%20descriptiva%20%26%20As%20Is%20de%20los%20datos.ipynb#X64sZmlsZQ%3D%3D?line=16'>17</a>\u001b[0m plt\u001b[39m.\u001b[39mshow()\n",
      "\u001b[1;31mTypeError\u001b[0m: text() missing 3 required positional arguments: 'x', 'y', and 's'"
     ]
    },
    {
     "data": {
      "image/png": "[encoded data removed]",
      "text/plain": [
       "<Figure size 1000x600 with 1 Axes>"
      ]
     },
     "metadata": {},
     "output_type": "display_data"
    }
   ],
   "source": [
    "test = Telecom['TOPIC'].value_counts()\n",
    "\n",
    "plt.figure(figsize=(10, 6))\n",
    "sns.barplot(x=Telecom['TOPIC'].value_counts().index, y=Telecom['TOPIC'].value_counts(), palette='viridis')\n",
    "\n",
    "\n",
    "plt.xlabel('TOPIC')\n",
    "plt.ylabel('Cantidad')\n",
    "plt.title('Distribución de las interacciones')\n",
    "plt.text()\n",
    "\n",
    "\n",
    "\n",
    "plt.xticks(rotation=45, ha='right')\n",
    "\n",
    "\n",
    "plt.show()"
   ]
  },
  {
   "cell_type": "markdown",
   "metadata": {},
   "source": [
    "#### *En el grafico corroboramos que la distribución es bastante uniforme respecto del total de interacciones*"
   ]
  },
  {
   "cell_type": "code",
   "execution_count": null,
   "metadata": {},
   "outputs": [
    {
     "data": {
      "image/png": "[encoded data removed]",
      "text/plain": [
       "<Figure size 1200x800 with 1 Axes>"
      ]
     },
     "metadata": {},
     "output_type": "display_data"
    }
   ],
   "source": [
    "plt.figure(figsize=(12, 8))\n",
    "sns.countplot(x='DAY_OF_THE_WEEK', hue='TOPIC', data=Telecom, palette='viridis')\n",
    "\n",
    "plt.xlabel('Día de la Semana')\n",
    "plt.ylabel('Cantidad')\n",
    "plt.title('Distribución de Tópicos en los Días de la Semana')\n",
    "plt.xticks(rotation=45, ha='right')\n",
    "plt.legend(title='TOPIC', bbox_to_anchor=(1.05, 1), loc='upper left')\n",
    "plt.show()"
   ]
  },
  {
   "cell_type": "code",
   "execution_count": null,
   "metadata": {},
   "outputs": [
    {
     "data": {
      "text/html": [
       "<div>\n",
       "<style scoped>\n",
       "    .dataframe tbody tr th:only-of-type {\n",
       "        vertical-align: middle;\n",
       "    }\n",
       "\n",
       "    .dataframe tbody tr th {\n",
       "        vertical-align: top;\n",
       "    }\n",
       "\n",
       "    .dataframe thead th {\n",
       "        text-align: right;\n",
       "    }\n",
       "</style>\n",
       "<table border=\"1\" class=\"dataframe\">\n",
       "  <thead>\n",
       "    <tr style=\"text-align: right;\">\n",
       "      <th></th>\n",
       "      <th>CALL ID</th>\n",
       "    </tr>\n",
       "    <tr>\n",
       "      <th>AGENT</th>\n",
       "      <th></th>\n",
       "    </tr>\n",
       "  </thead>\n",
       "  <tbody>\n",
       "    <tr>\n",
       "      <th>Stewart</th>\n",
       "      <td>477</td>\n",
       "    </tr>\n",
       "    <tr>\n",
       "      <th>Joe</th>\n",
       "      <td>484</td>\n",
       "    </tr>\n",
       "    <tr>\n",
       "      <th>Diane</th>\n",
       "      <td>501</td>\n",
       "    </tr>\n",
       "    <tr>\n",
       "      <th>Greg</th>\n",
       "      <td>502</td>\n",
       "    </tr>\n",
       "    <tr>\n",
       "      <th>Martha</th>\n",
       "      <td>514</td>\n",
       "    </tr>\n",
       "    <tr>\n",
       "      <th>Becky</th>\n",
       "      <td>517</td>\n",
       "    </tr>\n",
       "    <tr>\n",
       "      <th>Dan</th>\n",
       "      <td>523</td>\n",
       "    </tr>\n",
       "    <tr>\n",
       "      <th>Jim</th>\n",
       "      <td>536</td>\n",
       "    </tr>\n",
       "  </tbody>\n",
       "</table>\n",
       "</div>"
      ],
      "text/plain": [
       "         CALL ID\n",
       "AGENT           \n",
       "Stewart      477\n",
       "Joe          484\n",
       "Diane        501\n",
       "Greg         502\n",
       "Martha       514\n",
       "Becky        517\n",
       "Dan          523\n",
       "Jim          536"
      ]
     },
     "execution_count": 100,
     "metadata": {},
     "output_type": "execute_result"
    }
   ],
   "source": [
    "pd.pivot_table(Telecom, values='CALL ID', index='AGENT', aggfunc='count', sort=True).sort_values(by='CALL ID')"
   ]
  },
  {
   "cell_type": "code",
   "execution_count": null,
   "metadata": {},
   "outputs": [
    {
     "data": {
      "text/html": [
       "<div>\n",
       "<style scoped>\n",
       "    .dataframe tbody tr th:only-of-type {\n",
       "        vertical-align: middle;\n",
       "    }\n",
       "\n",
       "    .dataframe tbody tr th {\n",
       "        vertical-align: top;\n",
       "    }\n",
       "\n",
       "    .dataframe thead th {\n",
       "        text-align: right;\n",
       "    }\n",
       "</style>\n",
       "<table border=\"1\" class=\"dataframe\">\n",
       "  <thead>\n",
       "    <tr style=\"text-align: right;\">\n",
       "      <th>DATE</th>\n",
       "      <th>2021-01-01</th>\n",
       "      <th>2021-01-02</th>\n",
       "      <th>2021-01-03</th>\n",
       "      <th>2021-01-04</th>\n",
       "      <th>2021-01-05</th>\n",
       "      <th>2021-01-06</th>\n",
       "      <th>2021-01-07</th>\n",
       "      <th>2021-01-08</th>\n",
       "      <th>2021-01-09</th>\n",
       "      <th>2021-01-10</th>\n",
       "      <th>...</th>\n",
       "      <th>2021-03-22</th>\n",
       "      <th>2021-03-23</th>\n",
       "      <th>2021-03-24</th>\n",
       "      <th>2021-03-25</th>\n",
       "      <th>2021-03-26</th>\n",
       "      <th>2021-03-27</th>\n",
       "      <th>2021-03-28</th>\n",
       "      <th>2021-03-29</th>\n",
       "      <th>2021-03-30</th>\n",
       "      <th>2021-03-31</th>\n",
       "    </tr>\n",
       "    <tr>\n",
       "      <th>AGENT</th>\n",
       "      <th></th>\n",
       "      <th></th>\n",
       "      <th></th>\n",
       "      <th></th>\n",
       "      <th></th>\n",
       "      <th></th>\n",
       "      <th></th>\n",
       "      <th></th>\n",
       "      <th></th>\n",
       "      <th></th>\n",
       "      <th></th>\n",
       "      <th></th>\n",
       "      <th></th>\n",
       "      <th></th>\n",
       "      <th></th>\n",
       "      <th></th>\n",
       "      <th></th>\n",
       "      <th></th>\n",
       "      <th></th>\n",
       "      <th></th>\n",
       "      <th></th>\n",
       "    </tr>\n",
       "  </thead>\n",
       "  <tbody>\n",
       "    <tr>\n",
       "      <th>Becky</th>\n",
       "      <td>7</td>\n",
       "      <td>8</td>\n",
       "      <td>5</td>\n",
       "      <td>4</td>\n",
       "      <td>5</td>\n",
       "      <td>1</td>\n",
       "      <td>5</td>\n",
       "      <td>3</td>\n",
       "      <td>6</td>\n",
       "      <td>7</td>\n",
       "      <td>...</td>\n",
       "      <td>5</td>\n",
       "      <td>3</td>\n",
       "      <td>6</td>\n",
       "      <td>3</td>\n",
       "      <td>8</td>\n",
       "      <td>8</td>\n",
       "      <td>3</td>\n",
       "      <td>6</td>\n",
       "      <td>2</td>\n",
       "      <td>3</td>\n",
       "    </tr>\n",
       "    <tr>\n",
       "      <th>Dan</th>\n",
       "      <td>4</td>\n",
       "      <td>7</td>\n",
       "      <td>7</td>\n",
       "      <td>4</td>\n",
       "      <td>6</td>\n",
       "      <td>3</td>\n",
       "      <td>5</td>\n",
       "      <td>7</td>\n",
       "      <td>11</td>\n",
       "      <td>7</td>\n",
       "      <td>...</td>\n",
       "      <td>6</td>\n",
       "      <td>9</td>\n",
       "      <td>7</td>\n",
       "      <td>3</td>\n",
       "      <td>8</td>\n",
       "      <td>8</td>\n",
       "      <td>6</td>\n",
       "      <td>5</td>\n",
       "      <td>2</td>\n",
       "      <td>1</td>\n",
       "    </tr>\n",
       "    <tr>\n",
       "      <th>Diane</th>\n",
       "      <td>7</td>\n",
       "      <td>8</td>\n",
       "      <td>5</td>\n",
       "      <td>4</td>\n",
       "      <td>8</td>\n",
       "      <td>3</td>\n",
       "      <td>4</td>\n",
       "      <td>8</td>\n",
       "      <td>5</td>\n",
       "      <td>7</td>\n",
       "      <td>...</td>\n",
       "      <td>2</td>\n",
       "      <td>4</td>\n",
       "      <td>3</td>\n",
       "      <td>2</td>\n",
       "      <td>5</td>\n",
       "      <td>2</td>\n",
       "      <td>4</td>\n",
       "      <td>6</td>\n",
       "      <td>4</td>\n",
       "      <td>3</td>\n",
       "    </tr>\n",
       "    <tr>\n",
       "      <th>Greg</th>\n",
       "      <td>6</td>\n",
       "      <td>3</td>\n",
       "      <td>5</td>\n",
       "      <td>3</td>\n",
       "      <td>9</td>\n",
       "      <td>6</td>\n",
       "      <td>7</td>\n",
       "      <td>6</td>\n",
       "      <td>5</td>\n",
       "      <td>8</td>\n",
       "      <td>...</td>\n",
       "      <td>4</td>\n",
       "      <td>4</td>\n",
       "      <td>6</td>\n",
       "      <td>6</td>\n",
       "      <td>5</td>\n",
       "      <td>7</td>\n",
       "      <td>4</td>\n",
       "      <td>2</td>\n",
       "      <td>2</td>\n",
       "      <td>2</td>\n",
       "    </tr>\n",
       "    <tr>\n",
       "      <th>Jim</th>\n",
       "      <td>6</td>\n",
       "      <td>6</td>\n",
       "      <td>5</td>\n",
       "      <td>6</td>\n",
       "      <td>2</td>\n",
       "      <td>7</td>\n",
       "      <td>6</td>\n",
       "      <td>4</td>\n",
       "      <td>6</td>\n",
       "      <td>7</td>\n",
       "      <td>...</td>\n",
       "      <td>8</td>\n",
       "      <td>3</td>\n",
       "      <td>7</td>\n",
       "      <td>7</td>\n",
       "      <td>3</td>\n",
       "      <td>4</td>\n",
       "      <td>4</td>\n",
       "      <td>9</td>\n",
       "      <td>2</td>\n",
       "      <td>3</td>\n",
       "    </tr>\n",
       "    <tr>\n",
       "      <th>Joe</th>\n",
       "      <td>8</td>\n",
       "      <td>3</td>\n",
       "      <td>10</td>\n",
       "      <td>6</td>\n",
       "      <td>10</td>\n",
       "      <td>5</td>\n",
       "      <td>9</td>\n",
       "      <td>5</td>\n",
       "      <td>8</td>\n",
       "      <td>11</td>\n",
       "      <td>...</td>\n",
       "      <td>7</td>\n",
       "      <td>7</td>\n",
       "      <td>7</td>\n",
       "      <td>2</td>\n",
       "      <td>5</td>\n",
       "      <td>6</td>\n",
       "      <td>5</td>\n",
       "      <td>7</td>\n",
       "      <td>3</td>\n",
       "      <td>1</td>\n",
       "    </tr>\n",
       "    <tr>\n",
       "      <th>Martha</th>\n",
       "      <td>3</td>\n",
       "      <td>7</td>\n",
       "      <td>7</td>\n",
       "      <td>11</td>\n",
       "      <td>8</td>\n",
       "      <td>6</td>\n",
       "      <td>4</td>\n",
       "      <td>1</td>\n",
       "      <td>7</td>\n",
       "      <td>7</td>\n",
       "      <td>...</td>\n",
       "      <td>6</td>\n",
       "      <td>7</td>\n",
       "      <td>6</td>\n",
       "      <td>7</td>\n",
       "      <td>6</td>\n",
       "      <td>5</td>\n",
       "      <td>1</td>\n",
       "      <td>6</td>\n",
       "      <td>1</td>\n",
       "      <td>3</td>\n",
       "    </tr>\n",
       "    <tr>\n",
       "      <th>Stewart</th>\n",
       "      <td>5</td>\n",
       "      <td>6</td>\n",
       "      <td>3</td>\n",
       "      <td>6</td>\n",
       "      <td>1</td>\n",
       "      <td>15</td>\n",
       "      <td>4</td>\n",
       "      <td>4</td>\n",
       "      <td>7</td>\n",
       "      <td>5</td>\n",
       "      <td>...</td>\n",
       "      <td>6</td>\n",
       "      <td>2</td>\n",
       "      <td>3</td>\n",
       "      <td>7</td>\n",
       "      <td>6</td>\n",
       "      <td>6</td>\n",
       "      <td>4</td>\n",
       "      <td>9</td>\n",
       "      <td>0</td>\n",
       "      <td>4</td>\n",
       "    </tr>\n",
       "  </tbody>\n",
       "</table>\n",
       "<p>8 rows × 90 columns</p>\n",
       "</div>"
      ],
      "text/plain": [
       "DATE     2021-01-01  2021-01-02  2021-01-03  2021-01-04  2021-01-05  \\\n",
       "AGENT                                                                 \n",
       "Becky             7           8           5           4           5   \n",
       "Dan               4           7           7           4           6   \n",
       "Diane             7           8           5           4           8   \n",
       "Greg              6           3           5           3           9   \n",
       "Jim               6           6           5           6           2   \n",
       "Joe               8           3          10           6          10   \n",
       "Martha            3           7           7          11           8   \n",
       "Stewart           5           6           3           6           1   \n",
       "\n",
       "DATE     2021-01-06  2021-01-07  2021-01-08  2021-01-09  2021-01-10  ...  \\\n",
       "AGENT                                                                ...   \n",
       "Becky             1           5           3           6           7  ...   \n",
       "Dan               3           5           7          11           7  ...   \n",
       "Diane             3           4           8           5           7  ...   \n",
       "Greg              6           7           6           5           8  ...   \n",
       "Jim               7           6           4           6           7  ...   \n",
       "Joe               5           9           5           8          11  ...   \n",
       "Martha            6           4           1           7           7  ...   \n",
       "Stewart          15           4           4           7           5  ...   \n",
       "\n",
       "DATE     2021-03-22  2021-03-23  2021-03-24  2021-03-25  2021-03-26  \\\n",
       "AGENT                                                                 \n",
       "Becky             5           3           6           3           8   \n",
       "Dan               6           9           7           3           8   \n",
       "Diane             2           4           3           2           5   \n",
       "Greg              4           4           6           6           5   \n",
       "Jim               8           3           7           7           3   \n",
       "Joe               7           7           7           2           5   \n",
       "Martha            6           7           6           7           6   \n",
       "Stewart           6           2           3           7           6   \n",
       "\n",
       "DATE     2021-03-27  2021-03-28  2021-03-29  2021-03-30  2021-03-31  \n",
       "AGENT                                                                \n",
       "Becky             8           3           6           2           3  \n",
       "Dan               8           6           5           2           1  \n",
       "Diane             2           4           6           4           3  \n",
       "Greg              7           4           2           2           2  \n",
       "Jim               4           4           9           2           3  \n",
       "Joe               6           5           7           3           1  \n",
       "Martha            5           1           6           1           3  \n",
       "Stewart           6           4           9           0           4  \n",
       "\n",
       "[8 rows x 90 columns]"
      ]
     },
     "execution_count": 102,
     "metadata": {},
     "output_type": "execute_result"
    }
   ],
   "source": [
    "distribucion_por_agente = pd.pivot_table(Telecom, values='CALL ID', index='AGENT',columns='DATE', aggfunc='count', fill_value=0)\n",
    "distribucion_por_agente\n",
    "\n"
   ]
  },
  {
   "cell_type": "markdown",
   "metadata": {},
   "source": []
  }
 ],
 "metadata": {
  "kernelspec": {
   "display_name": ".venv",
   "language": "python",
   "name": "python3"
  },
  "language_info": {
   "codemirror_mode": {
    "name": "ipython",
    "version": 3
   },
   "file_extension": ".py",
   "mimetype": "text/x-python",
   "name": "python",
   "nbconvert_exporter": "python",
   "pygments_lexer": "ipython3",
   "version": "3.11.5"
  }
 },
 "nbformat": 4,
 "nbformat_minor": 2
}
