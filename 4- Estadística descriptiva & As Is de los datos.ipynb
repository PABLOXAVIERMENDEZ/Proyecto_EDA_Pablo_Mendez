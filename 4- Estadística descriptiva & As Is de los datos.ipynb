{
 "cells": [
  {
   "cell_type": "markdown",
   "metadata": {},
   "source": [
    "# 4- Estadística descriptiva & As-Is de los datos"
   ]
  },
  {
   "cell_type": "markdown",
   "metadata": {},
   "source": [
    "# 1 Importación de librerias"
   ]
  },
  {
   "cell_type": "code",
   "execution_count": 1,
   "metadata": {},
   "outputs": [],
   "source": [
    "import pandas as pd\n",
    "import numpy as np\n",
    "import matplotlib.pyplot as plt\n",
    "import seaborn as sns\n"
   ]
  },
  {
   "cell_type": "markdown",
   "metadata": {},
   "source": [
    "# 2 Lectura de mi base de datos"
   ]
  },
  {
   "cell_type": "code",
   "execution_count": 4,
   "metadata": {},
   "outputs": [],
   "source": [
    "Telecom = pd.read_csv(r'C:\\Users\\Lucia\\Desktop\\bootcamp\\Proyecto_EDA_Pablo_Mendez\\telecom.csv')\n"
   ]
  },
  {
   "cell_type": "markdown",
   "metadata": {},
   "source": [
    "# 3 Detalle & Entendimiento de las columnas\n"
   ]
  },
  {
   "cell_type": "code",
   "execution_count": 6,
   "metadata": {},
   "outputs": [
    {
     "data": {
      "text/html": [
       "<div>\n",
       "<style scoped>\n",
       "    .dataframe tbody tr th:only-of-type {\n",
       "        vertical-align: middle;\n",
       "    }\n",
       "\n",
       "    .dataframe tbody tr th {\n",
       "        vertical-align: top;\n",
       "    }\n",
       "\n",
       "    .dataframe thead th {\n",
       "        text-align: right;\n",
       "    }\n",
       "</style>\n",
       "<table border=\"1\" class=\"dataframe\">\n",
       "  <thead>\n",
       "    <tr style=\"text-align: right;\">\n",
       "      <th></th>\n",
       "      <th>CALL ID</th>\n",
       "      <th>AGENT</th>\n",
       "      <th>DATE</th>\n",
       "      <th>DAY_OF_THE_WEEK</th>\n",
       "      <th>TIME</th>\n",
       "      <th>TOPIC</th>\n",
       "      <th>ANSWERED (Y/N)</th>\n",
       "      <th>RESOLVED</th>\n",
       "      <th>SPEED OF ANSWER IN SECONDS</th>\n",
       "      <th>AVGTALKDURATION</th>\n",
       "      <th>SATISFACTION RATING</th>\n",
       "    </tr>\n",
       "  </thead>\n",
       "  <tbody>\n",
       "  </tbody>\n",
       "</table>\n",
       "</div>"
      ],
      "text/plain": [
       "Empty DataFrame\n",
       "Columns: [CALL ID, AGENT, DATE, DAY_OF_THE_WEEK, TIME, TOPIC, ANSWERED (Y/N), RESOLVED, SPEED OF ANSWER IN SECONDS, AVGTALKDURATION, SATISFACTION RATING]\n",
       "Index: []"
      ]
     },
     "execution_count": 6,
     "metadata": {},
     "output_type": "execute_result"
    }
   ],
   "source": [
    "Telecom.head(0)"
   ]
  },
  {
   "cell_type": "markdown",
   "metadata": {},
   "source": [
    "\n",
    "\n",
    "| Columnas                  | Descripción                                                 |\n",
    "|:---------------------------:|-------------------------------------------------------------|\n",
    "| *1*                         | **CALL ID** - *ID único de las llamadas*                           |\n",
    "| *2*                         | **AGENT** - *Nombre del agente que participa en la interacción*  |\n",
    "| *3*                         | **DATE** - *Fecha de la interacción con el cliente*               |\n",
    "| *4*                         | **DAY_OF_THE_WEEK** - *Día de la semana de la interacción*        |\n",
    "| *5*                         | **TIME** - *Hora de inicio de la interacción*                      |\n",
    "| *6*                         | **TOPIC** - *Motivo principal de la interacción*                  |\n",
    "| *7*                         | **ANSWERED(Y/N)** - *Indica si la llamada se concreta o no*       |\n",
    "| *8*                         | **RESOLVED** - *Indica si la gestión/consulta fue resuelta*        |\n",
    "| *9*                         | **SPEED OF ANSWER IN SECONDS** - *Tiempo de demora del cliente*    |\n",
    "| *10*                        | **AVGTALKDURATION** - *Duración de la interacción*                |\n",
    "| *11*                        | **SATISFACTION RATING** - *CSAT (Customer Satisfaction)*          |"
   ]
  }
 ],
 "metadata": {
  "kernelspec": {
   "display_name": ".venv",
   "language": "python",
   "name": "python3"
  },
  "language_info": {
   "codemirror_mode": {
    "name": "ipython",
    "version": 3
   },
   "file_extension": ".py",
   "mimetype": "text/x-python",
   "name": "python",
   "nbconvert_exporter": "python",
   "pygments_lexer": "ipython3",
   "version": "3.11.5"
  }
 },
 "nbformat": 4,
 "nbformat_minor": 2
}
