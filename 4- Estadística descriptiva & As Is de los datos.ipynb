{
 "cells": [
  {
   "cell_type": "markdown",
   "metadata": {},
   "source": [
    "# 4- Estadística descriptiva & As-Is de los datos"
   ]
  },
  {
   "cell_type": "markdown",
   "metadata": {},
   "source": [
    "# 1 Importación de librerias"
   ]
  },
  {
   "cell_type": "code",
   "execution_count": 1,
   "metadata": {},
   "outputs": [],
   "source": [
    "import pandas as pd\n",
    "import numpy as np\n",
    "import matplotlib.pyplot as plt\n",
    "import seaborn as sns\n"
   ]
  },
  {
   "cell_type": "markdown",
   "metadata": {},
   "source": [
    "# 2 Lectura de mi base de datos"
   ]
  },
  {
   "cell_type": "code",
   "execution_count": 4,
   "metadata": {},
   "outputs": [],
   "source": [
    "Telecom = pd.read_csv(r'C:\\Users\\Lucia\\Desktop\\bootcamp\\Proyecto_EDA_Pablo_Mendez\\telecom.csv')\n"
   ]
  },
  {
   "cell_type": "markdown",
   "metadata": {},
   "source": [
    "# 3 Detalle & Entendimiento de las columnas\n"
   ]
  },
  {
   "cell_type": "code",
   "execution_count": 6,
   "metadata": {},
   "outputs": [
    {
     "data": {
      "text/html": [
       "<div>\n",
       "<style scoped>\n",
       "    .dataframe tbody tr th:only-of-type {\n",
       "        vertical-align: middle;\n",
       "    }\n",
       "\n",
       "    .dataframe tbody tr th {\n",
       "        vertical-align: top;\n",
       "    }\n",
       "\n",
       "    .dataframe thead th {\n",
       "        text-align: right;\n",
       "    }\n",
       "</style>\n",
       "<table border=\"1\" class=\"dataframe\">\n",
       "  <thead>\n",
       "    <tr style=\"text-align: right;\">\n",
       "      <th></th>\n",
       "      <th>CALL ID</th>\n",
       "      <th>AGENT</th>\n",
       "      <th>DATE</th>\n",
       "      <th>DAY_OF_THE_WEEK</th>\n",
       "      <th>TIME</th>\n",
       "      <th>TOPIC</th>\n",
       "      <th>ANSWERED (Y/N)</th>\n",
       "      <th>RESOLVED</th>\n",
       "      <th>SPEED OF ANSWER IN SECONDS</th>\n",
       "      <th>AVGTALKDURATION</th>\n",
       "      <th>SATISFACTION RATING</th>\n",
       "    </tr>\n",
       "  </thead>\n",
       "  <tbody>\n",
       "  </tbody>\n",
       "</table>\n",
       "</div>"
      ],
      "text/plain": [
       "Empty DataFrame\n",
       "Columns: [CALL ID, AGENT, DATE, DAY_OF_THE_WEEK, TIME, TOPIC, ANSWERED (Y/N), RESOLVED, SPEED OF ANSWER IN SECONDS, AVGTALKDURATION, SATISFACTION RATING]\n",
       "Index: []"
      ]
     },
     "execution_count": 6,
     "metadata": {},
     "output_type": "execute_result"
    }
   ],
   "source": [
    "Telecom.head(0)"
   ]
  },
  {
   "cell_type": "markdown",
   "metadata": {},
   "source": [
    "\n",
    "\n",
    "| Columnas                  | Descripción                                                 |\n",
    "|:---------------------------:|-------------------------------------------------------------|\n",
    "| *1*                         | **CALL ID** - *ID único de las llamadas*                           |\n",
    "| *2*                         | **AGENT** - *Nombre del agente que participa en la interacción*  |\n",
    "| *3*                         | **DATE** - *Fecha de la interacción con el cliente*               |\n",
    "| *4*                         | **DAY_OF_THE_WEEK** - *Día de la semana de la interacción*        |\n",
    "| *5*                         | **TIME** - *Hora de inicio de la interacción*                      |\n",
    "| *6*                         | **TOPIC** - *Motivo principal de la interacción*                  |\n",
    "| *7*                         | **ANSWERED(Y/N)** - *Indica si la llamada se concreta o no*       |\n",
    "| *8*                         | **RESOLVED** - *Indica si la gestión/consulta fue resuelta*        |\n",
    "| *9*                         | **SPEED OF ANSWER IN SECONDS** - *Tiempo de demora del cliente*    |\n",
    "| *10*                        | **AVGTALKDURATION** - *Duración de la interacción*                |\n",
    "| *11*                        | **SATISFACTION RATING** - *CSAT (Customer Satisfaction)*          |"
   ]
  },
  {
   "cell_type": "markdown",
   "metadata": {},
   "source": [
    "# 4 Analisis preliminar "
   ]
  },
  {
   "cell_type": "code",
   "execution_count": 7,
   "metadata": {},
   "outputs": [
    {
     "name": "stdout",
     "output_type": "stream",
     "text": [
      "<class 'pandas.core.frame.DataFrame'>\n",
      "RangeIndex: 5000 entries, 0 to 4999\n",
      "Data columns (total 11 columns):\n",
      " #   Column                      Non-Null Count  Dtype \n",
      "---  ------                      --------------  ----- \n",
      " 0   CALL ID                     5000 non-null   object\n",
      " 1   AGENT                       5000 non-null   object\n",
      " 2   DATE                        5000 non-null   object\n",
      " 3   DAY_OF_THE_WEEK             5000 non-null   object\n",
      " 4   TIME                        5000 non-null   object\n",
      " 5   TOPIC                       5000 non-null   object\n",
      " 6   ANSWERED (Y/N)              5000 non-null   object\n",
      " 7   RESOLVED                    5000 non-null   object\n",
      " 8   SPEED OF ANSWER IN SECONDS  5000 non-null   object\n",
      " 9   AVGTALKDURATION             5000 non-null   object\n",
      " 10  SATISFACTION RATING         5000 non-null   object\n",
      "dtypes: object(11)\n",
      "memory usage: 429.8+ KB\n"
     ]
    }
   ],
   "source": [
    "Telecom.info()"
   ]
  },
  {
   "cell_type": "markdown",
   "metadata": {},
   "source": [
    "#### *Disponemos de 5000 datos sin nulos con un total de 11 columnas*"
   ]
  },
  {
   "cell_type": "code",
   "execution_count": 8,
   "metadata": {},
   "outputs": [
    {
     "data": {
      "text/html": [
       "<div>\n",
       "<style scoped>\n",
       "    .dataframe tbody tr th:only-of-type {\n",
       "        vertical-align: middle;\n",
       "    }\n",
       "\n",
       "    .dataframe tbody tr th {\n",
       "        vertical-align: top;\n",
       "    }\n",
       "\n",
       "    .dataframe thead th {\n",
       "        text-align: right;\n",
       "    }\n",
       "</style>\n",
       "<table border=\"1\" class=\"dataframe\">\n",
       "  <thead>\n",
       "    <tr style=\"text-align: right;\">\n",
       "      <th></th>\n",
       "      <th>CALL ID</th>\n",
       "      <th>AGENT</th>\n",
       "      <th>DATE</th>\n",
       "      <th>DAY_OF_THE_WEEK</th>\n",
       "      <th>TIME</th>\n",
       "      <th>TOPIC</th>\n",
       "      <th>ANSWERED (Y/N)</th>\n",
       "      <th>RESOLVED</th>\n",
       "      <th>SPEED OF ANSWER IN SECONDS</th>\n",
       "      <th>AVGTALKDURATION</th>\n",
       "      <th>SATISFACTION RATING</th>\n",
       "    </tr>\n",
       "  </thead>\n",
       "  <tbody>\n",
       "    <tr>\n",
       "      <th>count</th>\n",
       "      <td>5000</td>\n",
       "      <td>5000</td>\n",
       "      <td>5000</td>\n",
       "      <td>5000</td>\n",
       "      <td>5000</td>\n",
       "      <td>5000</td>\n",
       "      <td>5000</td>\n",
       "      <td>5000</td>\n",
       "      <td>5000</td>\n",
       "      <td>5000</td>\n",
       "      <td>5000</td>\n",
       "    </tr>\n",
       "    <tr>\n",
       "      <th>unique</th>\n",
       "      <td>5000</td>\n",
       "      <td>8</td>\n",
       "      <td>90</td>\n",
       "      <td>7</td>\n",
       "      <td>375</td>\n",
       "      <td>5</td>\n",
       "      <td>2</td>\n",
       "      <td>2</td>\n",
       "      <td>117</td>\n",
       "      <td>392</td>\n",
       "      <td>6</td>\n",
       "    </tr>\n",
       "    <tr>\n",
       "      <th>top</th>\n",
       "      <td>ID0033</td>\n",
       "      <td>Jim</td>\n",
       "      <td>2021-01-11</td>\n",
       "      <td>Monday</td>\n",
       "      <td>11:55:41</td>\n",
       "      <td>Streaming</td>\n",
       "      <td>Y</td>\n",
       "      <td>Y</td>\n",
       "      <td></td>\n",
       "      <td>0 days 00:00:00</td>\n",
       "      <td>3.0</td>\n",
       "    </tr>\n",
       "    <tr>\n",
       "      <th>freq</th>\n",
       "      <td>1</td>\n",
       "      <td>666</td>\n",
       "      <td>84</td>\n",
       "      <td>770</td>\n",
       "      <td>30</td>\n",
       "      <td>1022</td>\n",
       "      <td>4054</td>\n",
       "      <td>3646</td>\n",
       "      <td>946</td>\n",
       "      <td>946</td>\n",
       "      <td>1218</td>\n",
       "    </tr>\n",
       "  </tbody>\n",
       "</table>\n",
       "</div>"
      ],
      "text/plain": [
       "       CALL ID AGENT        DATE DAY_OF_THE_WEEK      TIME      TOPIC  \\\n",
       "count     5000  5000        5000            5000      5000       5000   \n",
       "unique    5000     8          90               7       375          5   \n",
       "top     ID0033   Jim  2021-01-11          Monday  11:55:41  Streaming   \n",
       "freq         1   666          84             770        30       1022   \n",
       "\n",
       "       ANSWERED (Y/N) RESOLVED SPEED OF ANSWER IN SECONDS  AVGTALKDURATION  \\\n",
       "count            5000     5000                       5000             5000   \n",
       "unique              2        2                        117              392   \n",
       "top                 Y        Y                             0 days 00:00:00   \n",
       "freq             4054     3646                        946              946   \n",
       "\n",
       "       SATISFACTION RATING  \n",
       "count                 5000  \n",
       "unique                   6  \n",
       "top                    3.0  \n",
       "freq                  1218  "
      ]
     },
     "execution_count": 8,
     "metadata": {},
     "output_type": "execute_result"
    }
   ],
   "source": [
    "Telecom.describe()"
   ]
  },
  {
   "cell_type": "code",
   "execution_count": 13,
   "metadata": {},
   "outputs": [
    {
     "data": {
      "text/plain": [
       "CALL ID                       0\n",
       "AGENT                         0\n",
       "DATE                          0\n",
       "DAY_OF_THE_WEEK               0\n",
       "TIME                          0\n",
       "TOPIC                         0\n",
       "ANSWERED (Y/N)                0\n",
       "RESOLVED                      0\n",
       "SPEED OF ANSWER IN SECONDS    0\n",
       "AVGTALKDURATION               0\n",
       "SATISFACTION RATING           0\n",
       "dtype: int64"
      ]
     },
     "execution_count": 13,
     "metadata": {},
     "output_type": "execute_result"
    }
   ],
   "source": [
    "Telecom.isna().sum()"
   ]
  },
  {
   "cell_type": "markdown",
   "metadata": {},
   "source": [
    "#### *No se verifican nulos en la base de datos*"
   ]
  },
  {
   "cell_type": "code",
   "execution_count": 15,
   "metadata": {},
   "outputs": [
    {
     "data": {
      "text/plain": [
       "TOPIC\n",
       "Streaming            1022\n",
       "Technical Support    1019\n",
       "Payment related      1007\n",
       "Contract related      976\n",
       "Admin Support         976\n",
       "Name: count, dtype: int64"
      ]
     },
     "execution_count": 15,
     "metadata": {},
     "output_type": "execute_result"
    }
   ],
   "source": [
    "Telecom['TOPIC'].value_counts()"
   ]
  },
  {
   "cell_type": "code",
   "execution_count": 26,
   "metadata": {},
   "outputs": [
    {
     "data": {
      "text/plain": [
       "TOPIC\n",
       "Streaming            20.44%\n",
       "Technical Support    20.38%\n",
       "Payment related      20.14%\n",
       "Contract related     19.52%\n",
       "Admin Support        19.52%\n",
       "Name: count, dtype: object"
      ]
     },
     "execution_count": 26,
     "metadata": {},
     "output_type": "execute_result"
    }
   ],
   "source": [
    "Porcentaje = (((Telecom['TOPIC'].value_counts())/Telecom['CALL ID'].count())*100)\n",
    "Porcentaje = Porcentaje.apply(lambda x: f\"{x:.2f}%\")\n",
    "Porcentaje"
   ]
  }
 ],
 "metadata": {
  "kernelspec": {
   "display_name": ".venv",
   "language": "python",
   "name": "python3"
  },
  "language_info": {
   "codemirror_mode": {
    "name": "ipython",
    "version": 3
   },
   "file_extension": ".py",
   "mimetype": "text/x-python",
   "name": "python",
   "nbconvert_exporter": "python",
   "pygments_lexer": "ipython3",
   "version": "3.11.5"
  }
 },
 "nbformat": 4,
 "nbformat_minor": 2
}
